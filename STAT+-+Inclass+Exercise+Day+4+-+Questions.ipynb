{
 "cells": [
  {
   "cell_type": "markdown",
   "id": "520eae35",
   "metadata": {},
   "source": [
    "<table align=\"left\" width=100%>\n",
    "    <tr>\n",
    "        <td width=\"20%\">\n",
    "            <img src=\"GL-2.png\">\n",
    "        </td>\n",
    "        <td>\n",
    "            <div align=\"center\">\n",
    "                <font color=\"#21618C\" size=8px>\n",
    "                  <b> Inclass Exercise <br>(Day  - 4)</b>\n",
    "                </font>\n",
    "            </div>\n",
    "        </td>\n",
    "    </tr>\n",
    "</table>"
   ]
  },
  {
   "cell_type": "markdown",
   "id": "7102e432",
   "metadata": {},
   "source": [
    "## Table of Content\n",
    "\n",
    "1. **[Import Libraries](#lib)**\n",
    "2. **[Large Sample Test](#z)**\n",
    "    - 2.1 - **[Two Sample Z Test](#2z)**\n",
    "3. **[Small Sample Test](#t)**\n",
    "    - 3.1 - **[Two Sample t Test (Unpaired)](#2t)**\n",
    "    - 3.2 - **[Paired t Test](#paired)**\n",
    "4. **[Chi-Square Test](#chisq)**\n",
    "5. **[One-way ANOVA](#1way)**"
   ]
  },
  {
   "cell_type": "markdown",
   "id": "b73ced5a",
   "metadata": {},
   "source": [
    "<a id = \"lib\"> </a>\n",
    "## 1. Import Libraries"
   ]
  },
  {
   "cell_type": "code",
   "execution_count": 1,
   "id": "5fad099d",
   "metadata": {},
   "outputs": [
    {
     "name": "stdout",
     "output_type": "stream",
     "text": [
      "Collecting scikit_posthocs\n",
      "  Downloading scikit_posthocs-0.7.0-py3-none-any.whl (38 kB)\n",
      "Requirement already satisfied: scipy in c:\\users\\sudha\\anaconda3\\lib\\site-packages (from scikit_posthocs) (1.7.3)\n",
      "Requirement already satisfied: matplotlib in c:\\users\\sudha\\anaconda3\\lib\\site-packages (from scikit_posthocs) (3.5.1)\n",
      "Requirement already satisfied: seaborn in c:\\users\\sudha\\anaconda3\\lib\\site-packages (from scikit_posthocs) (0.11.2)\n",
      "Requirement already satisfied: pandas>=0.20.0 in c:\\users\\sudha\\anaconda3\\lib\\site-packages (from scikit_posthocs) (1.4.2)\n",
      "Requirement already satisfied: numpy in c:\\users\\sudha\\anaconda3\\lib\\site-packages (from scikit_posthocs) (1.21.5)\n",
      "Requirement already satisfied: statsmodels in c:\\users\\sudha\\anaconda3\\lib\\site-packages (from scikit_posthocs) (0.13.2)\n",
      "Requirement already satisfied: python-dateutil>=2.8.1 in c:\\users\\sudha\\anaconda3\\lib\\site-packages (from pandas>=0.20.0->scikit_posthocs) (2.8.2)\n",
      "Requirement already satisfied: pytz>=2020.1 in c:\\users\\sudha\\anaconda3\\lib\\site-packages (from pandas>=0.20.0->scikit_posthocs) (2021.3)\n",
      "Requirement already satisfied: six>=1.5 in c:\\users\\sudha\\anaconda3\\lib\\site-packages (from python-dateutil>=2.8.1->pandas>=0.20.0->scikit_posthocs) (1.16.0)\n",
      "Requirement already satisfied: packaging>=20.0 in c:\\users\\sudha\\anaconda3\\lib\\site-packages (from matplotlib->scikit_posthocs) (21.3)\n",
      "Requirement already satisfied: cycler>=0.10 in c:\\users\\sudha\\anaconda3\\lib\\site-packages (from matplotlib->scikit_posthocs) (0.11.0)\n",
      "Requirement already satisfied: pyparsing>=2.2.1 in c:\\users\\sudha\\anaconda3\\lib\\site-packages (from matplotlib->scikit_posthocs) (3.0.4)\n",
      "Requirement already satisfied: fonttools>=4.22.0 in c:\\users\\sudha\\anaconda3\\lib\\site-packages (from matplotlib->scikit_posthocs) (4.25.0)\n",
      "Requirement already satisfied: pillow>=6.2.0 in c:\\users\\sudha\\anaconda3\\lib\\site-packages (from matplotlib->scikit_posthocs) (9.0.1)\n",
      "Requirement already satisfied: kiwisolver>=1.0.1 in c:\\users\\sudha\\anaconda3\\lib\\site-packages (from matplotlib->scikit_posthocs) (1.3.2)\n",
      "Requirement already satisfied: patsy>=0.5.2 in c:\\users\\sudha\\anaconda3\\lib\\site-packages (from statsmodels->scikit_posthocs) (0.5.2)\n",
      "Installing collected packages: scikit-posthocs\n",
      "Successfully installed scikit-posthocs-0.7.0\n"
     ]
    }
   ],
   "source": [
    "!pip install scikit_posthocs"
   ]
  },
  {
   "cell_type": "code",
   "execution_count": 2,
   "id": "4e949652",
   "metadata": {},
   "outputs": [],
   "source": [
    "# import required libraries\n",
    "# import 'pandas' \n",
    "import pandas as pd \n",
    "\n",
    "# import 'numpy' \n",
    "import numpy as np\n",
    "\n",
    "# import subpackage of matplotlib\n",
    "import matplotlib.pyplot as plt\n",
    "\n",
    "# import 'seaborn'\n",
    "import seaborn as sns\n",
    "\n",
    "# to suppress warnings \n",
    "from warnings import filterwarnings\n",
    "filterwarnings('ignore')\n",
    "\n",
    "# import statsmodels\n",
    "import statsmodels.api as sm\n",
    "\n",
    "# import 'stats' package from scipy library\n",
    "from scipy import stats\n",
    "\n",
    "# import statistics to perform statistical computations\n",
    "import statistics\n",
    "\n",
    "# to test the normality \n",
    "from scipy.stats import shapiro\n",
    "\n",
    "# import a library to perform Z-test\n",
    "from statsmodels.stats import weightstats as stests\n",
    "\n",
    "# import statsmodels\n",
    "import statsmodels.api as sm\n",
    "from statsmodels.formula.api import ols\n",
    "from statsmodels.stats.anova import anova_lm\n",
    "\n",
    "# import the functions to perform Chi-square tests\n",
    "from scipy.stats import chi2_contingency\n",
    "from scipy.stats import chi2\n",
    "from scipy.stats import chisquare\n",
    "\n",
    "# function to perform post-hoc test\n",
    "import statsmodels.stats.multicomp as mc\n",
    "\n",
    "# import function to perform post-hoc\n",
    "# install scikit_posthocs using \"!pip install scikit_posthocs\" \n",
    "import scikit_posthocs\n"
   ]
  },
  {
   "cell_type": "markdown",
   "id": "753057d6",
   "metadata": {},
   "source": [
    "<a id = \"z\"> </a>\n",
    "## 2. Large Sample Test"
   ]
  },
  {
   "cell_type": "markdown",
   "id": "f24caa9c",
   "metadata": {},
   "source": [
    "<a id = \"2z\"> </a>\n",
    "## 2.1 Large Two Sample Test"
   ]
  },
  {
   "cell_type": "markdown",
   "id": "c3ca4038",
   "metadata": {},
   "source": [
    "<table align=\"left\">\n",
    "    <tr>\n",
    "        <td width=\"6%\">\n",
    "            <img src=\"question_icon.png\">\n",
    "        </td>\n",
    "        <td>\n",
    "            <div align=\"left\", style=\"font-size:120%\">\n",
    "                <font color=\"#21618C\">\n",
    "                    <b>1. The technician wants to test whether the price of a phablet is not the same as the price of tablet. For the study, the technician collects the data of 50 gadgets of each type. Check whether the data satisfies the conditions to use the two sample Z-test. (Use 5% level of significance)</b>\n",
    "                </font>\n",
    "            </div>\n",
    "        </td>\n",
    "    </tr>\n",
    "</table>"
   ]
  },
  {
   "cell_type": "markdown",
   "id": "d0131419",
   "metadata": {},
   "source": [
    "Consider the dataset given in the CSV file `electronic.csv`. "
   ]
  },
  {
   "cell_type": "code",
   "execution_count": 5,
   "id": "473ff6ac",
   "metadata": {},
   "outputs": [
    {
     "name": "stdout",
     "output_type": "stream",
     "text": [
      "0.9686920642852783 0.20465952157974243\n",
      "0.9741330742835999 0.33798879384994507\n"
     ]
    }
   ],
   "source": [
    "# type solution here\n",
    "df=pd.read_csv(\"electronic.csv\")\n",
    "df.head()\n",
    "\n",
    "phab_price=df[df[\"Type\"]==\"Phablet\"][\"Price ($)\"]\n",
    "tab_price=df[df[\"Type\"]==\"Tablet\"][\"Price ($)\"]\n",
    "#print(phab_price,tab_price)\n",
    "\n",
    "# check normality\n",
    "stat_p,p_val_p=stats.shapiro(phab_price)\n",
    "stat_t,p_val_t=stats.shapiro(tab_price)\n",
    "\n",
    "print(stat_p,p_val_p)\n",
    "print(stat_t,p_val_t)"
   ]
  },
  {
   "cell_type": "code",
   "execution_count": 6,
   "id": "bbeecfc4",
   "metadata": {},
   "outputs": [
    {
     "name": "stdout",
     "output_type": "stream",
     "text": [
      "0.4172859681296204\n"
     ]
    }
   ],
   "source": [
    "# levene test --> to test variability\n",
    "stat,p_val=stats.levene(phab_price,tab_price)\n",
    "print(p_val)\n",
    "# pval is greater than 0.05 hence we can do the two sample z test"
   ]
  },
  {
   "cell_type": "markdown",
   "id": "e07bb598",
   "metadata": {},
   "source": [
    "<table align=\"left\">\n",
    "    <tr>\n",
    "        <td width=\"6%\">\n",
    "            <img src=\"question_icon.png\">\n",
    "        </td>\n",
    "        <td>\n",
    "            <div align=\"left\", style=\"font-size:120%\">\n",
    "                <font color=\"#21618C\">\n",
    "                    <b>2. The technician claims that the price of phablet is not the same as the price of tablet. For the study, the technician collects the data of 50 gadgets of each type. Test the technician's claim using the 95% confidence interval.</b>\n",
    "                </font>\n",
    "            </div>\n",
    "        </td>\n",
    "    </tr>\n",
    "</table>"
   ]
  },
  {
   "cell_type": "markdown",
   "id": "6d42fd43",
   "metadata": {},
   "source": [
    "Consider the dataset given in the CSV file `electronic.csv`. "
   ]
  },
  {
   "cell_type": "code",
   "execution_count": 7,
   "id": "deb9270b",
   "metadata": {},
   "outputs": [
    {
     "name": "stdout",
     "output_type": "stream",
     "text": [
      "1.6512473234517284e-20\n"
     ]
    },
    {
     "data": {
      "text/plain": [
       "(35.87894938341398, 54.84105061658599)"
      ]
     },
     "execution_count": 7,
     "metadata": {},
     "output_type": "execute_result"
    }
   ],
   "source": [
    "# type solution here\n",
    "z_cal,p_val=stests.ztest(phab_price,tab_price)\n",
    "print(p_val)\n",
    "\n",
    "# as p_val is greater than critical so we reject Ho\n",
    "\n",
    "\n",
    "# to find out 95% confidence interval\n",
    "n1=len(phab_price)\n",
    "n2=len(tab_price)\n",
    "std1=np.std((phab_price))\n",
    "std2=np.std((tab_price))\n",
    "mean1=np.mean((phab_price))\n",
    "mean2=np.mean((tab_price))\n",
    "stats.norm.interval(0.95,loc=mean1-mean2,scale=np.sqrt(((std1**2)/n1)+(std2**2)/n2))\n",
    "\n",
    "# 0 is not in between the interval so mean1-mean2 is not part of inetrval hence reject the null"
   ]
  },
  {
   "cell_type": "markdown",
   "id": "90565a9f",
   "metadata": {},
   "source": [
    "<a id=\"t\"></a>\n",
    "## 3. Small Sample Test"
   ]
  },
  {
   "cell_type": "markdown",
   "id": "ae2b898d",
   "metadata": {},
   "source": [
    "<a id=\"2t\"></a>\n",
    "## 3.1. Two sample T test Unpaired"
   ]
  },
  {
   "cell_type": "markdown",
   "id": "53d647ba",
   "metadata": {},
   "source": [
    "<table align=\"left\">\n",
    "    <tr>\n",
    "        <td width=\"6%\">\n",
    "            <img src=\"question_icon.png\">\n",
    "        </td>\n",
    "        <td>\n",
    "            <div align=\"left\", style=\"font-size:120%\">\n",
    "                <font color=\"#21618C\">\n",
    "                    <b>3. The newspaper agency wants to test whether Harry takes less time to deliver the newspapers than his colleague Ron. The manager has collected time (in minutes) taken by Harry and Ron for 7 days. Is the given dataset unpaired? If yes, check whether the manager at newspaper agency can use the two sample t-test for unpaired data with 99% confidence.  </b>\n",
    "                </font>\n",
    "            </div>\n",
    "        </td>\n",
    "    </tr>\n",
    "</table>"
   ]
  },
  {
   "cell_type": "markdown",
   "id": "2ada034d",
   "metadata": {},
   "source": [
    "Use the data given below:\n",
    "        \n",
    "    harry = [18.5, 17.4, 19.2, 16, 15.8, 13.4, 19.5]\n",
    "    ron = [19.7, 18.6, 21.3, 17.5, 23.8, 20.7, 21]"
   ]
  },
  {
   "cell_type": "code",
   "execution_count": 8,
   "id": "ecf16261",
   "metadata": {},
   "outputs": [
    {
     "name": "stdout",
     "output_type": "stream",
     "text": [
      "0.9328558444976807 0.575441837310791\n",
      "0.972867488861084 0.9183047413825989\n"
     ]
    }
   ],
   "source": [
    "# type solution here\n",
    "harry = [18.5, 17.4, 19.2, 16, 15.8, 13.4, 19.5]\n",
    "ron = [19.7, 18.6, 21.3, 17.5, 23.8, 20.7, 21]\n",
    "\n",
    "# as data is unpaired so to perform 2 sample t test we perform tests for normality and variability\n",
    "stat_p,p_val_p=stats.shapiro(harry)\n",
    "stat_t,p_val_t=stats.shapiro(ron)\n",
    "\n",
    "print(stat_p,p_val_p)\n",
    "print(stat_t,p_val_t)\n",
    "\n",
    "# as p_val>alpha  hence its a normal distribution"
   ]
  },
  {
   "cell_type": "code",
   "execution_count": 9,
   "id": "10e9ed6c",
   "metadata": {},
   "outputs": [
    {
     "name": "stdout",
     "output_type": "stream",
     "text": [
      "0.12793271359008374 0.7267972480247995\n"
     ]
    }
   ],
   "source": [
    "stat,p_val=stats.levene(harry,ron)\n",
    "print(stat,p_val)\n",
    "# p val is > alpha(0.01) so levene test is passed and has equal variance"
   ]
  },
  {
   "cell_type": "code",
   "execution_count": null,
   "id": "649f93dd",
   "metadata": {},
   "outputs": [],
   "source": []
  },
  {
   "cell_type": "markdown",
   "id": "bc5c5cd8",
   "metadata": {},
   "source": [
    "<table align=\"left\">\n",
    "    <tr>\n",
    "        <td width=\"6%\">\n",
    "            <img src=\"question_icon.png\">\n",
    "        </td>\n",
    "        <td>\n",
    "            <div align=\"left\", style=\"font-size:120%\">\n",
    "                <font color=\"#21618C\">\n",
    "                    <b>4. The newspaper agency wants to test whether Harry takes less time to deliver the newspapers than his colleague Ron. The manager has collected time (in minutes) taken by Harry and Ron for 7 days. Use the given data and test the hypothesis for population mean time using a critical value method and p-value criteria with 90% confidence.</b>\n",
    "                </font>\n",
    "            </div>\n",
    "        </td>\n",
    "    </tr>\n",
    "</table>"
   ]
  },
  {
   "cell_type": "markdown",
   "id": "d59e8c68",
   "metadata": {},
   "source": [
    "Use the data given below:\n",
    "        \n",
    "    harry = [18.5, 17.4, 19.2, 16, 15.8, 13.4, 19.5]\n",
    "    ron = [19.7, 18.6, 21.3, 17.5, 23.8, 20.7, 21]"
   ]
  },
  {
   "cell_type": "code",
   "execution_count": 10,
   "id": "18943868",
   "metadata": {},
   "outputs": [
    {
     "name": "stdout",
     "output_type": "stream",
     "text": [
      "-2.8788582527177526 0.01385995160611642\n"
     ]
    },
    {
     "data": {
      "text/plain": [
       "1.6448536269514729"
      ]
     },
     "execution_count": 10,
     "metadata": {},
     "output_type": "execute_result"
    }
   ],
   "source": [
    "# type solution here\n",
    "# h0: harry=ron\n",
    "# h1: harry<ron\n",
    "\n",
    "harry = [18.5, 17.4, 19.2, 16, 15.8, 13.4, 19.5]\n",
    "ron = [19.7, 18.6, 21.3, 17.5, 23.8, 20.7, 21]\n",
    "t_stat,p_val=stats.ttest_ind(a=harry,b=ron)\n",
    "print(t_stat,p_val)\n",
    "\n",
    "#alpha=0.10\n",
    "# critical value u calc\n",
    "cri=stats.norm.isf(q=0.10/2)\n",
    "cri\n",
    "# p_val<alpha(0.1) so we reject the null     # p_val>alpha fail to reject\n",
    "# hence ron>harry\n"
   ]
  },
  {
   "cell_type": "markdown",
   "id": "c0146bad",
   "metadata": {},
   "source": [
    "<table align=\"left\">\n",
    "    <tr>\n",
    "        <td width=\"6%\">\n",
    "            <img src=\"question_icon.png\">\n",
    "        </td>\n",
    "        <td>\n",
    "            <div align=\"left\", style=\"font-size:120%\">\n",
    "                <font color=\"#21618C\">\n",
    "                    <b>5. Research suggests that the fat content (in g) in the rice-bran oil of Nutura products is less than that of Markgen products. To test this claim we have recorded the fat content in 6 packs of 100 g oil from both the companies. Consider a 1% level of significance.</b>\n",
    "                </font>\n",
    "            </div>\n",
    "        </td>\n",
    "    </tr>\n",
    "</table>"
   ]
  },
  {
   "cell_type": "markdown",
   "id": "2830d785",
   "metadata": {},
   "source": [
    "Given data:\n",
    "\n",
    "        Nutura_fat = [99.5, 98, 98.6, 98.2, 96.8, 98.4]\n",
    "        Markgen_fat = [ 98.7, 91.8, 92.6, 97.5, 93, 96.1]"
   ]
  },
  {
   "cell_type": "code",
   "execution_count": 11,
   "id": "67dadfaf",
   "metadata": {},
   "outputs": [],
   "source": [
    "# type solution here\n",
    "Nutura_fat = [99.5, 92, 98.6, 98.2, 96.8, 98.4]\n",
    "Markgen_fat = [ 98.7, 91.8, 92.6, 97.5, 93, 96.1]\n",
    "\n",
    "fat = [99.5, 92, 98.6, 98.2, 96.8, 98.4, 98.7, 91.8, 92.6, 97.5, 93, 96.1]\n",
    "\n"
   ]
  },
  {
   "cell_type": "code",
   "execution_count": 12,
   "id": "ccddc1d9",
   "metadata": {},
   "outputs": [
    {
     "name": "stdout",
     "output_type": "stream",
     "text": [
      "0.034961212426424026\n"
     ]
    }
   ],
   "source": [
    "#normality\n",
    "stat, p_value = shapiro(fat)\n",
    "\n",
    "print(p_value)\n",
    "\n",
    "#From the above result,\n",
    "#we can see that the p-value is greater than 0.01, thus we can say that the data is normally distributed."
   ]
  },
  {
   "cell_type": "code",
   "execution_count": 13,
   "id": "7c7a1061",
   "metadata": {},
   "outputs": [
    {
     "name": "stdout",
     "output_type": "stream",
     "text": [
      "0.9078780495998977\n"
     ]
    }
   ],
   "source": [
    "test_stat, p_value = stats.ttest_ind(Nutura_fat, Markgen_fat, alternative = 'less')\n",
    "\n",
    "print(p_value)"
   ]
  },
  {
   "cell_type": "code",
   "execution_count": 6,
   "id": "b2b2ea62",
   "metadata": {},
   "outputs": [],
   "source": [
    "#Here the p-value is greater than 0.01. Thus we fail to reject (i.e. accept) the null hypothesis and we can not conclude that the fat content (in g) in the rice-bran oil of Nutura products is less than that of Markgen products."
   ]
  },
  {
   "cell_type": "markdown",
   "id": "b7a6cf43",
   "metadata": {},
   "source": [
    "<a id='paired'></a>\n",
    "## 3.2.Two sample paired T-test"
   ]
  },
  {
   "cell_type": "markdown",
   "id": "03bb3956",
   "metadata": {},
   "source": [
    "<table align=\"left\">\n",
    "    <tr>\n",
    "        <td width=\"6%\">\n",
    "            <img src=\"question_icon.png\">\n",
    "        </td>\n",
    "        <td>\n",
    "            <div align=\"left\", style=\"font-size:120%\">\n",
    "                <font color=\"#21618C\">\n",
    "                        <b>6. The pharmaceutical company had organized a program to introduce its new drug to lower the sugar level. They recorded the fasting sugar (in mg/dl) of 25 diabetic people. Those people undergo a medication of the new drug for 10 days and again took a fasting sugar level test. The company claim that the sugar level decreases due to its new drug. Test the claim using p-value technique with 95% confidence.</b>\n",
    "                </font>\n",
    "            </div>\n",
    "        </td>\n",
    "    </tr>\n",
    "</table>"
   ]
  },
  {
   "cell_type": "markdown",
   "id": "05e0a2f5",
   "metadata": {},
   "source": [
    "Use the data given in the file `sugar_level.xlsx`"
   ]
  },
  {
   "cell_type": "code",
   "execution_count": 14,
   "id": "0b0fa518",
   "metadata": {},
   "outputs": [
    {
     "data": {
      "text/html": [
       "<div>\n",
       "<style scoped>\n",
       "    .dataframe tbody tr th:only-of-type {\n",
       "        vertical-align: middle;\n",
       "    }\n",
       "\n",
       "    .dataframe tbody tr th {\n",
       "        vertical-align: top;\n",
       "    }\n",
       "\n",
       "    .dataframe thead th {\n",
       "        text-align: right;\n",
       "    }\n",
       "</style>\n",
       "<table border=\"1\" class=\"dataframe\">\n",
       "  <thead>\n",
       "    <tr style=\"text-align: right;\">\n",
       "      <th></th>\n",
       "      <th>sugar_before</th>\n",
       "      <th>sugar_after</th>\n",
       "    </tr>\n",
       "  </thead>\n",
       "  <tbody>\n",
       "    <tr>\n",
       "      <th>0</th>\n",
       "      <td>135</td>\n",
       "      <td>132</td>\n",
       "    </tr>\n",
       "    <tr>\n",
       "      <th>1</th>\n",
       "      <td>132</td>\n",
       "      <td>136</td>\n",
       "    </tr>\n",
       "    <tr>\n",
       "      <th>2</th>\n",
       "      <td>142</td>\n",
       "      <td>139</td>\n",
       "    </tr>\n",
       "    <tr>\n",
       "      <th>3</th>\n",
       "      <td>154</td>\n",
       "      <td>151</td>\n",
       "    </tr>\n",
       "    <tr>\n",
       "      <th>4</th>\n",
       "      <td>198</td>\n",
       "      <td>192</td>\n",
       "    </tr>\n",
       "  </tbody>\n",
       "</table>\n",
       "</div>"
      ],
      "text/plain": [
       "   sugar_before  sugar_after\n",
       "0           135          132\n",
       "1           132          136\n",
       "2           142          139\n",
       "3           154          151\n",
       "4           198          192"
      ]
     },
     "execution_count": 14,
     "metadata": {},
     "output_type": "execute_result"
    }
   ],
   "source": [
    "# type solution here\n",
    "df1=pd.read_excel(\"sugar_level.xlsx\")\n",
    "df1.head()"
   ]
  },
  {
   "cell_type": "code",
   "execution_count": 15,
   "id": "0ddf43bc",
   "metadata": {},
   "outputs": [
    {
     "name": "stdout",
     "output_type": "stream",
     "text": [
      "-5.268469999584946 2.108941394582287e-05\n"
     ]
    }
   ],
   "source": [
    "t_stat,p_val=stats.ttest_rel(df1[\"sugar_after\"],df1[\"sugar_before\"]) \n",
    "print(t_stat,p_val)# paired as these are of same category"
   ]
  },
  {
   "cell_type": "markdown",
   "id": "370dc379",
   "metadata": {},
   "source": [
    "<table align=\"left\">\n",
    "    <tr>\n",
    "        <td width=\"6%\">\n",
    "            <img src=\"question_icon.png\">\n",
    "        </td>\n",
    "        <td>\n",
    "            <div align=\"left\", style=\"font-size:120%\">\n",
    "                <font color=\"#21618C\">\n",
    "                    <b>7. The gym trainer claims that the new aerobic exercise has reduced the weight of the customers. The weight in the last month before the aerobic exercise and weight in this month after the aerobic exercise is recorded for 6 people. Test the trainer's claim with 99% confidence.  </b>\n",
    "                </font>\n",
    "            </div>\n",
    "        </td>\n",
    "    </tr>\n",
    "</table>"
   ]
  },
  {
   "cell_type": "markdown",
   "id": "d69cca8b",
   "metadata": {},
   "source": [
    "Given data:\n",
    "\n",
    "        wt_before = [85, 74, 63.5, 69.4, 71.6, 65]\n",
    "        wt_after = [82, 71, 64, 65.2, 67.8, 64.7]"
   ]
  },
  {
   "cell_type": "code",
   "execution_count": 16,
   "id": "fd52cc8c",
   "metadata": {},
   "outputs": [
    {
     "name": "stdout",
     "output_type": "stream",
     "text": [
      "-2.914741385569865 0.033216084245917835\n"
     ]
    }
   ],
   "source": [
    "# type solution here\n",
    "#H0: miu=0\n",
    "#H1: miu<0\n",
    "wt_before = [85, 74, 63.5, 69.4, 71.6, 65]\n",
    "wt_after = [82, 71, 64, 65.2, 67.8, 64.7]\n",
    "t_stat,p_val=stats.ttest_rel(wt_after,wt_before) \n",
    "print(t_stat,p_val)# paired as these are of same category\n",
    "\n",
    "# alpha is 0.01 and p_val>alpha so we fail to reject so the weight has reduced"
   ]
  },
  {
   "cell_type": "markdown",
   "id": "3df62022",
   "metadata": {},
   "source": [
    "<a id = \"chisq\"> </a>\n",
    "## 4. Chi-Square Test"
   ]
  },
  {
   "cell_type": "markdown",
   "id": "06bbd762",
   "metadata": {},
   "source": [
    "Use the data available in the CSV file `Employee_Attrition.csv` for questions 1 to 6."
   ]
  },
  {
   "cell_type": "markdown",
   "id": "71f6f1ff",
   "metadata": {},
   "source": [
    "please use below dataset"
   ]
  },
  {
   "cell_type": "code",
   "execution_count": 17,
   "id": "feb35906",
   "metadata": {},
   "outputs": [
    {
     "data": {
      "text/html": [
       "<div>\n",
       "<style scoped>\n",
       "    .dataframe tbody tr th:only-of-type {\n",
       "        vertical-align: middle;\n",
       "    }\n",
       "\n",
       "    .dataframe tbody tr th {\n",
       "        vertical-align: top;\n",
       "    }\n",
       "\n",
       "    .dataframe thead th {\n",
       "        text-align: right;\n",
       "    }\n",
       "</style>\n",
       "<table border=\"1\" class=\"dataframe\">\n",
       "  <thead>\n",
       "    <tr style=\"text-align: right;\">\n",
       "      <th></th>\n",
       "      <th>Age</th>\n",
       "      <th>Attrition</th>\n",
       "      <th>BusinessTravel</th>\n",
       "      <th>DailyRate</th>\n",
       "      <th>Department</th>\n",
       "      <th>DistanceFromHome</th>\n",
       "      <th>Education</th>\n",
       "      <th>EducationField</th>\n",
       "      <th>EmployeeCount</th>\n",
       "      <th>EmployeeNumber</th>\n",
       "      <th>...</th>\n",
       "      <th>RelationshipSatisfaction</th>\n",
       "      <th>StandardHours</th>\n",
       "      <th>StockOptionLevel</th>\n",
       "      <th>TotalWorkingYears</th>\n",
       "      <th>TrainingTimesLastYear</th>\n",
       "      <th>WorkLifeBalance</th>\n",
       "      <th>YearsAtCompany</th>\n",
       "      <th>YearsInCurrentRole</th>\n",
       "      <th>YearsSinceLastPromotion</th>\n",
       "      <th>YearsWithCurrManager</th>\n",
       "    </tr>\n",
       "  </thead>\n",
       "  <tbody>\n",
       "    <tr>\n",
       "      <th>0</th>\n",
       "      <td>41</td>\n",
       "      <td>Yes</td>\n",
       "      <td>Travel_Rarely</td>\n",
       "      <td>1102</td>\n",
       "      <td>Sales</td>\n",
       "      <td>1</td>\n",
       "      <td>2</td>\n",
       "      <td>Life Sciences</td>\n",
       "      <td>1</td>\n",
       "      <td>1</td>\n",
       "      <td>...</td>\n",
       "      <td>1</td>\n",
       "      <td>80</td>\n",
       "      <td>0</td>\n",
       "      <td>8</td>\n",
       "      <td>0</td>\n",
       "      <td>1</td>\n",
       "      <td>6</td>\n",
       "      <td>4</td>\n",
       "      <td>0</td>\n",
       "      <td>5</td>\n",
       "    </tr>\n",
       "    <tr>\n",
       "      <th>1</th>\n",
       "      <td>49</td>\n",
       "      <td>No</td>\n",
       "      <td>Travel_Frequently</td>\n",
       "      <td>279</td>\n",
       "      <td>Research &amp; Development</td>\n",
       "      <td>8</td>\n",
       "      <td>1</td>\n",
       "      <td>Life Sciences</td>\n",
       "      <td>1</td>\n",
       "      <td>2</td>\n",
       "      <td>...</td>\n",
       "      <td>4</td>\n",
       "      <td>80</td>\n",
       "      <td>1</td>\n",
       "      <td>10</td>\n",
       "      <td>3</td>\n",
       "      <td>3</td>\n",
       "      <td>10</td>\n",
       "      <td>7</td>\n",
       "      <td>1</td>\n",
       "      <td>7</td>\n",
       "    </tr>\n",
       "  </tbody>\n",
       "</table>\n",
       "<p>2 rows × 35 columns</p>\n",
       "</div>"
      ],
      "text/plain": [
       "   Age Attrition     BusinessTravel  DailyRate              Department  \\\n",
       "0   41       Yes      Travel_Rarely       1102                   Sales   \n",
       "1   49        No  Travel_Frequently        279  Research & Development   \n",
       "\n",
       "   DistanceFromHome  Education EducationField  EmployeeCount  EmployeeNumber  \\\n",
       "0                 1          2  Life Sciences              1               1   \n",
       "1                 8          1  Life Sciences              1               2   \n",
       "\n",
       "   ...  RelationshipSatisfaction StandardHours  StockOptionLevel  \\\n",
       "0  ...                         1            80                 0   \n",
       "1  ...                         4            80                 1   \n",
       "\n",
       "   TotalWorkingYears  TrainingTimesLastYear WorkLifeBalance  YearsAtCompany  \\\n",
       "0                  8                      0               1               6   \n",
       "1                 10                      3               3              10   \n",
       "\n",
       "  YearsInCurrentRole  YearsSinceLastPromotion  YearsWithCurrManager  \n",
       "0                  4                        0                     5  \n",
       "1                  7                        1                     7  \n",
       "\n",
       "[2 rows x 35 columns]"
      ]
     },
     "execution_count": 17,
     "metadata": {},
     "output_type": "execute_result"
    }
   ],
   "source": [
    "#read the sample data \n",
    "df_emp = pd.read_csv('Employee_Attrition.csv')\n",
    "\n",
    "#display the first two observations\n",
    "df_emp.head(2)"
   ]
  },
  {
   "cell_type": "markdown",
   "id": "813e89ee",
   "metadata": {},
   "source": [
    "<table align=\"left\">\n",
    "    <tr>\n",
    "        <td width=\"6%\">\n",
    "            <img src=\"question_icon.png\">\n",
    "        </td>\n",
    "        <td>\n",
    "            <div align=\"left\", style=\"font-size:120%\">\n",
    "                <font color=\"#21618C\">\n",
    "                    <b>8. A company in Los Angeles has three functional departments - Research and Development, Sales, and Human Resources. The company claims that the percentage of employees in these 3 departments is 55%, 35% and 10% respectively. Check the company's claim using p-value criteria. Consider a 5% level of significance.</b>\n",
    "                </font>\n",
    "            </div>\n",
    "        </td>\n",
    "    </tr>\n",
    "</table>"
   ]
  },
  {
   "cell_type": "code",
   "execution_count": 18,
   "id": "036fa38a",
   "metadata": {
    "scrolled": true
   },
   "outputs": [
    {
     "data": {
      "text/plain": [
       "Research & Development    961\n",
       "Sales                     446\n",
       "Human Resources            63\n",
       "Name: Department, dtype: int64"
      ]
     },
     "execution_count": 18,
     "metadata": {},
     "output_type": "execute_result"
    }
   ],
   "source": [
    "# type solution here\n",
    "# goodness of fit\n",
    "#h0: no significance diff obs-exp=0\n",
    "# h1:sig diff obs-exp!=0\n",
    "df_emp[\"Department\"].value_counts()"
   ]
  },
  {
   "cell_type": "code",
   "execution_count": 19,
   "id": "60caa195",
   "metadata": {},
   "outputs": [
    {
     "name": "stdout",
     "output_type": "stream",
     "text": [
      "[961, 446, 63] [808.5 514.5 147. ]\n",
      "2.2406437256053955e-19\n"
     ]
    }
   ],
   "source": [
    "obs_val=[961,446,63]\n",
    "\n",
    "prob=[0.55,0.35,0.10]\n",
    "\n",
    "exp_val=np.array(prob)*len(df_emp)\n",
    "print(obs_val,exp_val)\n",
    "\n",
    "# chi sq test\n",
    "stat,p_val=chisquare(f_obs=obs_val,f_exp=exp_val)\n",
    "print(p_val)\n",
    "\n",
    "# alpha is 0.05\n",
    "# reject as pval<alpha "
   ]
  },
  {
   "cell_type": "markdown",
   "id": "4d1cba4b",
   "metadata": {},
   "source": [
    "<table align=\"left\">\n",
    "    <tr>\n",
    "        <td width=\"6%\">\n",
    "            <img src=\"question_icon.png\">\n",
    "        </td>\n",
    "        <td>\n",
    "            <div align=\"left\", style=\"font-size:120%\">\n",
    "                <font color=\"#21618C\">\n",
    "                    <b>9. The employees in an IT firm undergo an online assessment survey. The survey reveals that 20% of employees are least satisfied, 18% are fairly satisfied, 30% are moderately satisfied and 32% are highly satisfied with their job. Use a critical value method to test the survey result with 90% confidence.</b>\n",
    "                </font>\n",
    "            </div>\n",
    "        </td>\n",
    "    </tr>\n",
    "</table>"
   ]
  },
  {
   "cell_type": "code",
   "execution_count": 20,
   "id": "29c2ed79",
   "metadata": {},
   "outputs": [
    {
     "data": {
      "text/plain": [
       "4    459\n",
       "3    442\n",
       "1    289\n",
       "2    280\n",
       "Name: JobSatisfaction, dtype: int64"
      ]
     },
     "execution_count": 20,
     "metadata": {},
     "output_type": "execute_result"
    }
   ],
   "source": [
    "# type solution here\n",
    "df_emp[\"JobSatisfaction\"].value_counts()"
   ]
  },
  {
   "cell_type": "code",
   "execution_count": 21,
   "id": "f5b82e21",
   "metadata": {},
   "outputs": [
    {
     "name": "stdout",
     "output_type": "stream",
     "text": [
      "[459, 442, 280, 289] [470.4 441.  264.6 294. ]\n",
      "1.2598733938019708 0.7386828586247451\n"
     ]
    },
    {
     "data": {
      "text/plain": [
       "6.2513886311703235"
      ]
     },
     "execution_count": 21,
     "metadata": {},
     "output_type": "execute_result"
    }
   ],
   "source": [
    "#H0:\n",
    "obs_val=[459,442,280,289]\n",
    "\n",
    "prob=[0.32,0.30,0.18,0.20]\n",
    "\n",
    "exp_val=np.array(prob)*len(df_emp)\n",
    "\n",
    "print(obs_val,exp_val)\n",
    "\n",
    "# chi sq test\n",
    "stat,p_val=chisquare(f_obs=obs_val,f_exp=exp_val)\n",
    "print(stat,p_val)\n",
    "\n",
    "# critical val\n",
    "stats.chi2.isf(q=0.10,df=3)\n",
    "\n",
    "# pval>alpha so we failed to reject"
   ]
  },
  {
   "cell_type": "markdown",
   "id": "efffe039",
   "metadata": {},
   "source": [
    "<table align=\"left\">\n",
    "    <tr>\n",
    "        <td width=\"6%\">\n",
    "            <img src=\"question_icon.png\">\n",
    "        </td>\n",
    "        <td>\n",
    "            <div align=\"left\", style=\"font-size:120%\">\n",
    "                <font color=\"#21618C\">\n",
    "                    <b>10. Check whether travelling for work depends upon the job role of an employee. Use p-value criteria to test the dependence with 99% confidence.</b>\n",
    "                </font>\n",
    "            </div>\n",
    "        </td>\n",
    "    </tr>\n",
    "</table>"
   ]
  },
  {
   "cell_type": "code",
   "execution_count": 22,
   "id": "b98f9285",
   "metadata": {},
   "outputs": [
    {
     "data": {
      "text/plain": [
       "array([[ 15,   4,  28,  12,  13,   6,  28,  39,   5],\n",
       "       [ 26,  10,  51,  13,  29,  12,  54,  59,  23],\n",
       "       [ 90,  38, 180,  77, 103,  62, 210, 228,  55]], dtype=int64)"
      ]
     },
     "execution_count": 22,
     "metadata": {},
     "output_type": "execute_result"
    }
   ],
   "source": [
    "# type solution here\n",
    "# H0: WORK DOES NOT DEPEND UPOUN JOB ROLE\n",
    "# H1 : WORK DEPENDS ON JOB ROLE\n",
    "\n",
    "# CHECK FOR INDEPENDENT AND DEPENDENT \n",
    "table=pd.crosstab(df_emp[\"BusinessTravel\"],df_emp[\"JobRole\"])\n",
    "table\n",
    "\n",
    "obs_val=table.values\n",
    "obs_val"
   ]
  },
  {
   "cell_type": "code",
   "execution_count": 23,
   "id": "a640d7a2",
   "metadata": {},
   "outputs": [
    {
     "name": "stdout",
     "output_type": "stream",
     "text": [
      "11.987695596739206 0.7448263418408124\n"
     ]
    }
   ],
   "source": [
    "test_stat,p,dof,exp_val=chi2_contingency(observed=obs_val,correction=True)\n",
    "print(test_stat,p)\n",
    "\n",
    "# p val>alpha (0.01) we fail to reject"
   ]
  },
  {
   "cell_type": "markdown",
   "id": "d89f049e",
   "metadata": {},
   "source": [
    "<table align=\"left\">\n",
    "    <tr>\n",
    "        <td width=\"6%\">\n",
    "            <img src=\"question_icon.png\">\n",
    "        </td>\n",
    "        <td>\n",
    "            <div align=\"left\", style=\"font-size:120%\">\n",
    "                <font color=\"#21618C\">\n",
    "                    <b>11. Is there any relationship between the attrition of an employee and his/her marital status? Use the critical value technique to test the relationship with 95% confidence. </b>\n",
    "                </font>\n",
    "            </div>\n",
    "        </td>\n",
    "    </tr>\n",
    "</table>"
   ]
  },
  {
   "cell_type": "code",
   "execution_count": 24,
   "id": "de3ea597",
   "metadata": {},
   "outputs": [
    {
     "data": {
      "text/plain": [
       "array([[294, 589, 350],\n",
       "       [ 33,  84, 120]], dtype=int64)"
      ]
     },
     "execution_count": 24,
     "metadata": {},
     "output_type": "execute_result"
    }
   ],
   "source": [
    "# type solution here\n",
    "# H0: WORK DOES NOT DEPEND UPOUN JOB ROLE\n",
    "# H1 : WORK DEPENDS ON JOB ROLE\n",
    "\n",
    "# CHECK FOR INDEPENDENT AND DEPENDENT \n",
    "table=pd.crosstab(df_emp[\"Attrition\"],df_emp[\"MaritalStatus\"])\n",
    "table\n",
    "\n",
    "obs_val=table.values\n",
    "obs_val"
   ]
  },
  {
   "cell_type": "code",
   "execution_count": 88,
   "id": "76d8d316",
   "metadata": {
    "scrolled": true
   },
   "outputs": [
    {
     "name": "stdout",
     "output_type": "stream",
     "text": [
      "46.163676540848705 9.45551106034083e-11\n"
     ]
    }
   ],
   "source": [
    "test_stat,p,dof,exp_val=chi2_contingency(observed=obs_val,correction=True)\n",
    "print(test_stat,p)"
   ]
  },
  {
   "cell_type": "code",
   "execution_count": null,
   "id": "0a5f7308",
   "metadata": {},
   "outputs": [],
   "source": [
    "# pval<alpha so we reject"
   ]
  },
  {
   "cell_type": "code",
   "execution_count": 25,
   "id": "db28a61e",
   "metadata": {},
   "outputs": [
    {
     "data": {
      "text/plain": [
       "5.991"
      ]
     },
     "execution_count": 25,
     "metadata": {},
     "output_type": "execute_result"
    }
   ],
   "source": [
    "# using critical val also we can do 2nd mehod\n",
    "chi_val=np.abs(round(stats.chi2.isf(q=0.05,df=2),3))\n",
    "chi_val"
   ]
  },
  {
   "cell_type": "markdown",
   "id": "efbadc5a",
   "metadata": {},
   "source": [
    "<a id = \"1way\"> </a>\n",
    "## 5. One-way ANOVA"
   ]
  },
  {
   "cell_type": "markdown",
   "id": "feb608ff",
   "metadata": {},
   "source": [
    "Use the data available in the CSV file `sales_emp.csv` for questions 7 to 11."
   ]
  },
  {
   "cell_type": "markdown",
   "id": "d7f11e33",
   "metadata": {},
   "source": [
    "Please use below dataset"
   ]
  },
  {
   "cell_type": "code",
   "execution_count": 28,
   "id": "d0c4530c",
   "metadata": {},
   "outputs": [
    {
     "data": {
      "text/html": [
       "<div>\n",
       "<style scoped>\n",
       "    .dataframe tbody tr th:only-of-type {\n",
       "        vertical-align: middle;\n",
       "    }\n",
       "\n",
       "    .dataframe tbody tr th {\n",
       "        vertical-align: top;\n",
       "    }\n",
       "\n",
       "    .dataframe thead th {\n",
       "        text-align: right;\n",
       "    }\n",
       "</style>\n",
       "<table border=\"1\" class=\"dataframe\">\n",
       "  <thead>\n",
       "    <tr style=\"text-align: right;\">\n",
       "      <th></th>\n",
       "      <th>Age</th>\n",
       "      <th>BusinessTravel</th>\n",
       "      <th>DailyRate</th>\n",
       "      <th>DistanceFromHome</th>\n",
       "      <th>Education</th>\n",
       "      <th>EducationField</th>\n",
       "      <th>EmployeeCount</th>\n",
       "      <th>EmployeeNumber</th>\n",
       "      <th>EnvironmentSatisfaction</th>\n",
       "      <th>HourlyRate</th>\n",
       "      <th>...</th>\n",
       "      <th>RelationshipSatisfaction</th>\n",
       "      <th>StandardHours</th>\n",
       "      <th>StockOptionLevel</th>\n",
       "      <th>TotalWorkingYears</th>\n",
       "      <th>TrainingTimesLastYear</th>\n",
       "      <th>WorkLifeBalance</th>\n",
       "      <th>YearsAtCompany</th>\n",
       "      <th>YearsInCurrentRole</th>\n",
       "      <th>YearsSinceLastPromotion</th>\n",
       "      <th>YearsWithCurrManager</th>\n",
       "    </tr>\n",
       "  </thead>\n",
       "  <tbody>\n",
       "    <tr>\n",
       "      <th>0</th>\n",
       "      <td>36</td>\n",
       "      <td>Travel_Rarely</td>\n",
       "      <td>1218</td>\n",
       "      <td>9</td>\n",
       "      <td>4</td>\n",
       "      <td>Life Sciences</td>\n",
       "      <td>1</td>\n",
       "      <td>27</td>\n",
       "      <td>3</td>\n",
       "      <td>82</td>\n",
       "      <td>...</td>\n",
       "      <td>2</td>\n",
       "      <td>80</td>\n",
       "      <td>0</td>\n",
       "      <td>10</td>\n",
       "      <td>4</td>\n",
       "      <td>3</td>\n",
       "      <td>5</td>\n",
       "      <td>3</td>\n",
       "      <td>0</td>\n",
       "      <td>3</td>\n",
       "    </tr>\n",
       "    <tr>\n",
       "      <th>1</th>\n",
       "      <td>39</td>\n",
       "      <td>Travel_Rarely</td>\n",
       "      <td>895</td>\n",
       "      <td>5</td>\n",
       "      <td>3</td>\n",
       "      <td>Technical Degree</td>\n",
       "      <td>1</td>\n",
       "      <td>42</td>\n",
       "      <td>4</td>\n",
       "      <td>56</td>\n",
       "      <td>...</td>\n",
       "      <td>3</td>\n",
       "      <td>80</td>\n",
       "      <td>1</td>\n",
       "      <td>19</td>\n",
       "      <td>6</td>\n",
       "      <td>4</td>\n",
       "      <td>1</td>\n",
       "      <td>0</td>\n",
       "      <td>0</td>\n",
       "      <td>0</td>\n",
       "    </tr>\n",
       "  </tbody>\n",
       "</table>\n",
       "<p>2 rows × 31 columns</p>\n",
       "</div>"
      ],
      "text/plain": [
       "   Age BusinessTravel  DailyRate  DistanceFromHome  Education  \\\n",
       "0   36  Travel_Rarely       1218                 9          4   \n",
       "1   39  Travel_Rarely        895                 5          3   \n",
       "\n",
       "     EducationField  EmployeeCount  EmployeeNumber  EnvironmentSatisfaction  \\\n",
       "0     Life Sciences              1              27                        3   \n",
       "1  Technical Degree              1              42                        4   \n",
       "\n",
       "   HourlyRate  ...  RelationshipSatisfaction  StandardHours  StockOptionLevel  \\\n",
       "0          82  ...                         2             80                 0   \n",
       "1          56  ...                         3             80                 1   \n",
       "\n",
       "  TotalWorkingYears  TrainingTimesLastYear  WorkLifeBalance  YearsAtCompany  \\\n",
       "0                10                      4                3               5   \n",
       "1                19                      6                4               1   \n",
       "\n",
       "  YearsInCurrentRole YearsSinceLastPromotion  YearsWithCurrManager  \n",
       "0                  3                       0                     3  \n",
       "1                  0                       0                     0  \n",
       "\n",
       "[2 rows x 31 columns]"
      ]
     },
     "execution_count": 28,
     "metadata": {},
     "output_type": "execute_result"
    }
   ],
   "source": [
    "#read the sample data \n",
    "df_emp = pd.read_csv('sales_emp.csv')\n",
    "\n",
    "#display the first two observations\n",
    "df_emp.head(2)"
   ]
  },
  {
   "cell_type": "markdown",
   "id": "369e94ec",
   "metadata": {},
   "source": [
    " <table align=\"left\">\n",
    "    <tr>\n",
    "        <td width=\"6%\">\n",
    "            <img src=\"question_icon.png\">\n",
    "        </td>\n",
    "        <td>\n",
    "            <div align=\"left\", style=\"font-size:120%\">\n",
    "                <font color=\"#21618C\">\n",
    "                    <b>12. Use the sales employees' dataset to test whether the average monthly income of sales executives with different education background is equal or not. Use a critical value method with 99% confidence.</b>\n",
    "                </font>\n",
    "            </div>\n",
    "        </td>\n",
    "    </tr>\n",
    "</table>"
   ]
  },
  {
   "cell_type": "code",
   "execution_count": 27,
   "id": "a5a7e3d2",
   "metadata": {},
   "outputs": [
    {
     "data": {
      "text/html": [
       "<div>\n",
       "<style scoped>\n",
       "    .dataframe tbody tr th:only-of-type {\n",
       "        vertical-align: middle;\n",
       "    }\n",
       "\n",
       "    .dataframe tbody tr th {\n",
       "        vertical-align: top;\n",
       "    }\n",
       "\n",
       "    .dataframe thead th {\n",
       "        text-align: right;\n",
       "    }\n",
       "</style>\n",
       "<table border=\"1\" class=\"dataframe\">\n",
       "  <thead>\n",
       "    <tr style=\"text-align: right;\">\n",
       "      <th></th>\n",
       "      <th>df</th>\n",
       "      <th>sum_sq</th>\n",
       "      <th>mean_sq</th>\n",
       "      <th>F</th>\n",
       "      <th>PR(&gt;F)</th>\n",
       "    </tr>\n",
       "  </thead>\n",
       "  <tbody>\n",
       "    <tr>\n",
       "      <th>Q(\"EducationField\")</th>\n",
       "      <td>4.0</td>\n",
       "      <td>4.087768e+07</td>\n",
       "      <td>1.021942e+07</td>\n",
       "      <td>0.954603</td>\n",
       "      <td>0.440787</td>\n",
       "    </tr>\n",
       "    <tr>\n",
       "      <th>Residual</th>\n",
       "      <td>49.0</td>\n",
       "      <td>5.245652e+08</td>\n",
       "      <td>1.070541e+07</td>\n",
       "      <td>NaN</td>\n",
       "      <td>NaN</td>\n",
       "    </tr>\n",
       "  </tbody>\n",
       "</table>\n",
       "</div>"
      ],
      "text/plain": [
       "                       df        sum_sq       mean_sq         F    PR(>F)\n",
       "Q(\"EducationField\")   4.0  4.087768e+07  1.021942e+07  0.954603  0.440787\n",
       "Residual             49.0  5.245652e+08  1.070541e+07       NaN       NaN"
      ]
     },
     "execution_count": 27,
     "metadata": {},
     "output_type": "execute_result"
    }
   ],
   "source": [
    "# type solution here\n",
    "\n",
    "# H0:not equal\n",
    "#H1:  equal\n",
    "#  reponse  categorival\n",
    "\n",
    "test=ols('MonthlyIncome ~ Q(\"EducationField\")',df_emp).fit()\n",
    "anova=anova_lm(test,typ=1)\n",
    "anova\n",
    "\n",
    "#pval>alpha so we fail to reject\n",
    "\n",
    "\n",
    "# for ANOVA WE CAN DO SHAPIRO AND LEVENE TEST"
   ]
  },
  {
   "cell_type": "markdown",
   "id": "adff7360",
   "metadata": {},
   "source": [
    "<table align=\"left\">\n",
    "    <tr>\n",
    "        <td width=\"6%\">\n",
    "            <img src=\"question_icon.png\">\n",
    "        </td>\n",
    "        <td>\n",
    "            <div align=\"left\", style=\"font-size:120%\">\n",
    "                <font color=\"#21618C\">\n",
    "                    <b>13. Can we use the given data of sales executives to check the equality of the average daily rate for different types of business travellers? Use a p-value technique to test at a 1% level of significance.</b>\n",
    "                </font>\n",
    "            </div>\n",
    "        </td>\n",
    "    </tr>\n",
    "</table>"
   ]
  },
  {
   "cell_type": "code",
   "execution_count": 29,
   "id": "8d77bd2c",
   "metadata": {},
   "outputs": [
    {
     "name": "stdout",
     "output_type": "stream",
     "text": [
      "0.04\n"
     ]
    }
   ],
   "source": [
    "# type solution here\n",
    "#normality\n",
    "stat, p_value = stats.shapiro(df_emp['DailyRate'])\n",
    "p_value = round(p_value,3)\n",
    "print(p_value)\n",
    "\n",
    "#From the above result, we can see that the p-value is greater than 0.01, thus we can say that the daily rate is normally distributed.\n",
    "#Thus the assumption of normality is satisfied."
   ]
  },
  {
   "cell_type": "code",
   "execution_count": 30,
   "id": "db630052",
   "metadata": {},
   "outputs": [
    {
     "name": "stdout",
     "output_type": "stream",
     "text": [
      "0.231\n"
     ]
    }
   ],
   "source": [
    "#variability\n",
    "stat, p_value = stats.levene(df_emp[df_emp['BusinessTravel'] == 'Travel_Rarely']['DailyRate'],\n",
    "                             df_emp[df_emp['BusinessTravel'] == 'Travel_Frequently']['DailyRate'],\n",
    "                             df_emp[df_emp['BusinessTravel'] == 'Non-Travel']['DailyRate'])\n",
    "p_value = round(p_value,3)\n",
    "print(p_value)\n",
    "#From the above result, we can see that the p-value is greater than 0.01, thus we can say that the population variances are equal for all the groups.\n",
    "#Thus we can use the one-way ANOVA test to check the equality of the average daily rate for all the types of business travelling."
   ]
  },
  {
   "cell_type": "code",
   "execution_count": null,
   "id": "2de6fbda",
   "metadata": {},
   "outputs": [],
   "source": []
  },
  {
   "cell_type": "markdown",
   "id": "cc3181ff",
   "metadata": {},
   "source": [
    "<table align=\"left\">\n",
    "    <tr>\n",
    "        <td width=\"6%\">\n",
    "            <img src=\"question_icon.png\">\n",
    "        </td>\n",
    "        <td>\n",
    "            <div align=\"left\", style=\"font-size:120%\">\n",
    "                <font color=\"#21618C\">\n",
    "                    <b>14. Use the parametric test to check the equality of the average daily rate for all the types of business travelling. Use a p-value technique to test the data with 99% confidence.</b>\n",
    "                </font>\n",
    "            </div>\n",
    "        </td>\n",
    "    </tr>\n",
    "</table>"
   ]
  },
  {
   "cell_type": "code",
   "execution_count": 31,
   "id": "648d72c0",
   "metadata": {},
   "outputs": [
    {
     "name": "stdout",
     "output_type": "stream",
     "text": [
      "4.527131533131016e-06\n"
     ]
    }
   ],
   "source": [
    "# type solution here\n",
    "#H0: The average daily rate for all the business travels is the same\n",
    "#H1: The average daily rate for at least one type of business travel is different\n",
    "test_stat, p_val = stats.f_oneway(df_emp[df_emp['BusinessTravel'] == 'Travel_Rarely']['DailyRate'],\n",
    "                                  df_emp[df_emp['BusinessTravel'] == 'Travel_Frequently']['DailyRate'],\n",
    "                                  df_emp[df_emp['BusinessTravel'] == 'Non-Travel']['DailyRate'])\n",
    "print(p_val)\n",
    "\n",
    "#The above output shows that the p-value is less than 0.01. Thus we reject the null hypothesis \n",
    "#and conclude that the average daily rate for at least one type of business travel is different."
   ]
  },
  {
   "cell_type": "markdown",
   "id": "4e947d34",
   "metadata": {},
   "source": [
    "<table align=\"left\">\n",
    "    <tr>\n",
    "        <td width=\"6%\">\n",
    "            <img src=\"question_icon.png\">\n",
    "        </td>\n",
    "        <td>\n",
    "            <div align=\"left\", style=\"font-size:120%\">\n",
    "                <font color=\"#21618C\">\n",
    "                    <b>15. Find the types of business travel for which the average daily rate is different. Use a 1% level of significance.</b>\n",
    "                </font>\n",
    "            </div>\n",
    "        </td>\n",
    "    </tr>\n",
    "</table>"
   ]
  },
  {
   "cell_type": "code",
   "execution_count": 32,
   "id": "539741d3",
   "metadata": {},
   "outputs": [
    {
     "data": {
      "text/html": [
       "<table class=\"simpletable\">\n",
       "<caption>Multiple Comparison of Means - Tukey HSD, FWER=0.01</caption>\n",
       "<tr>\n",
       "       <th>group1</th>            <th>group2</th>       <th>meandiff</th>   <th>p-adj</th>   <th>lower</th>     <th>upper</th>  <th>reject</th>\n",
       "</tr>\n",
       "<tr>\n",
       "     <td>Non-Travel</td>     <td>Travel_Frequently</td> <td>639.7778</td>    <td>0.0</td>  <td>289.5928</td>  <td>989.9627</td>  <td>True</td> \n",
       "</tr>\n",
       "<tr>\n",
       "     <td>Non-Travel</td>       <td>Travel_Rarely</td>   <td>242.6667</td>  <td>0.0972</td> <td>-107.5183</td> <td>592.8516</td>  <td>False</td>\n",
       "</tr>\n",
       "<tr>\n",
       "  <td>Travel_Frequently</td>   <td>Travel_Rarely</td>   <td>-397.1111</td> <td>0.0031</td> <td>-747.2961</td> <td>-46.9262</td>  <td>True</td> \n",
       "</tr>\n",
       "</table>"
      ],
      "text/plain": [
       "<class 'statsmodels.iolib.table.SimpleTable'>"
      ]
     },
     "execution_count": 32,
     "metadata": {},
     "output_type": "execute_result"
    }
   ],
   "source": [
    "# type solution here\n",
    "comp = mc.MultiComparison(data = df_emp['DailyRate'], groups = df_emp['BusinessTravel'])\n",
    "post_hoc = comp.tukeyhsd(alpha = 0.01)\n",
    "post_hoc.summary()"
   ]
  }
 ],
 "metadata": {
  "kernelspec": {
   "display_name": "Python 3 (ipykernel)",
   "language": "python",
   "name": "python3"
  },
  "language_info": {
   "codemirror_mode": {
    "name": "ipython",
    "version": 3
   },
   "file_extension": ".py",
   "mimetype": "text/x-python",
   "name": "python",
   "nbconvert_exporter": "python",
   "pygments_lexer": "ipython3",
   "version": "3.9.12"
  }
 },
 "nbformat": 4,
 "nbformat_minor": 5
}
