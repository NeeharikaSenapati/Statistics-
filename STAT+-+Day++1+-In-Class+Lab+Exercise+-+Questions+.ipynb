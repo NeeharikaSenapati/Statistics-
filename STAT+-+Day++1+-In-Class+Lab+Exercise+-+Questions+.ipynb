{
 "cells": [
  {
   "cell_type": "markdown",
   "metadata": {
    "colab_type": "text",
    "id": "0yzl3MKzf98L"
   },
   "source": [
    "<table align=\"center\" width=100%>\n",
    "    <tr>\n",
    "        <td width=\"20%\">\n",
    "            <img src=\"GL-2.png\">\n",
    "        </td>\n",
    "        <td>\n",
    "            <div align=\"center\">\n",
    "                <font color=\"#21618C\" size=8px>\n",
    "                    <b> Inclass-Lab  <br>(Day  1)\n",
    "                    </b>\n",
    "                </font>\n",
    "            </div>\n",
    "        </td>\n",
    "    </tr>\n",
    "</table>"
   ]
  },
  {
   "cell_type": "markdown",
   "metadata": {},
   "source": [
    "## Table of Content\n",
    "\n",
    "1. **[Sampling](#sample)**\n",
    "2. **[Descriptive Statistics](#descr)**\n",
    "3. **[Probability and Bayes Theorem](#prob)**"
   ]
  },
  {
   "cell_type": "markdown",
   "metadata": {},
   "source": [
    "**Import the required libraries**"
   ]
  },
  {
   "cell_type": "code",
   "execution_count": 6,
   "metadata": {},
   "outputs": [],
   "source": [
    "# type your code here\n",
    "# import 'pandas' \n",
    "import pandas as pd \n",
    "\n",
    "# import 'numpy' \n",
    "import numpy as np\n",
    "\n",
    "# import subpackage of matplotlib\n",
    "import matplotlib.pyplot as plt\n",
    "from matplotlib import gridspec\n",
    "%matplotlib inline\n",
    "\n",
    "# import 'seaborn'\n",
    "import seaborn as sns\n",
    "\n",
    "# to suppress warnings \n",
    "from warnings import filterwarnings\n",
    "filterwarnings('ignore')\n",
    "\n",
    "# import 'factorial' from math library\n",
    "from math import factorial\n",
    "\n",
    "# import 'stats' package from scipy library\n",
    "from scipy import stats\n",
    "from scipy.stats import randint\n",
    "from scipy.stats import skewnorm\n",
    "\n",
    "# import 'random' to generate a random sample\n",
    "import random"
   ]
  },
  {
   "cell_type": "markdown",
   "metadata": {
    "colab_type": "text",
    "id": "psOYFu6zf98N"
   },
   "source": [
    "### Let's begin with some hands-on practice exercises"
   ]
  },
  {
   "cell_type": "markdown",
   "metadata": {
    "colab_type": "text",
    "id": "GhwNCvTmf99O"
   },
   "source": [
    "<a id=\"sample\"></a>\n",
    "## 1. Sampling"
   ]
  },
  {
   "cell_type": "markdown",
   "metadata": {
    "colab_type": "text",
    "id": "EE_L86gBf99t"
   },
   "source": [
    "<table align=\"left\">\n",
    "    <tr>\n",
    "        <td width=\"6%\">\n",
    "            <img src=\"question_icon.png\">\n",
    "        </td>\n",
    "        <td>\n",
    "            <div align=\"left\", style=\"font-size:120%\">\n",
    "                <font color=\"#21618C\">\n",
    "                    <b>1. A farmer has planted 98 tomato plants last year. He has numbered each plant with numbers 1,2,...98. Now he wants to study the growth of the plants. Help the farmer to select 12 plants randomly as a sample for the study using an appropriate sampling technique.</b>\n",
    "                </font>\n",
    "            </div>\n",
    "        </td>\n",
    "    </tr>\n",
    "</table>"
   ]
  },
  {
   "cell_type": "code",
   "execution_count": 4,
   "metadata": {},
   "outputs": [
    {
     "name": "stdout",
     "output_type": "stream",
     "text": [
      "sample points of plants without replacement: [29, 44, 12, 81, 90, 91, 57, 70, 36, 9, 1, 46]\n"
     ]
    }
   ],
   "source": [
    "# type your code here\n",
    "# selection of 12 plants from 98 plants by using without replacement technique\n",
    "# to create a numbering system\n",
    "data=np.arange(1,99)\n",
    "data\n",
    "# to create a list of number of plants and randomly sample\n",
    "sample_wor=random.sample(population=list(data),k=12)\n",
    "sample_wor\n",
    "print(\"sample points of plants without replacement:\",sample_wor)"
   ]
  },
  {
   "cell_type": "markdown",
   "metadata": {
    "colab_type": "text",
    "id": "-qD5ZQ7Bf99v"
   },
   "source": [
    "<table align=\"left\">\n",
    "    <tr>\n",
    "        <td width=\"6%\">\n",
    "            <img src=\"question_icon.png\">\n",
    "        </td>\n",
    "        <td>\n",
    "            <div align=\"left\", style=\"font-size:120%\">\n",
    "                <font color=\"#21618C\">\n",
    "                    <b>2. Ron found gold, silver and copper coin on his way home. He asked 10 people to choose a coin randomly. He then created a list of coins chosen by each individual. Find one of the possible sample space for this experiment using an appropriate sampling technique. </b>\n",
    "                </font>\n",
    "            </div>\n",
    "        </td>\n",
    "    </tr>\n",
    "</table>"
   ]
  },
  {
   "cell_type": "code",
   "execution_count": 10,
   "metadata": {},
   "outputs": [
    {
     "name": "stdout",
     "output_type": "stream",
     "text": [
      "coins without replacement: ['silver', 'gold', 'silver', 'gold', 'silver', 'silver', 'copper', 'silver', 'copper', 'gold']\n"
     ]
    }
   ],
   "source": [
    "# type your code here\n",
    "coins=[\"gold\",\"silver\",\"copper\"]\n",
    "# draw sample with replacement for 10 individuals\n",
    "sample_wr=random.choices(population=coins,k=10)\n",
    "sample_wr\n",
    "print(\"coins without replacement:\",sample_wr)"
   ]
  },
  {
   "cell_type": "markdown",
   "metadata": {
    "colab_type": "text",
    "id": "r4J-iIEhf98N"
   },
   "source": [
    "<a id = \"descr\"> </a>\n",
    "## 2. Descriptive Statistics "
   ]
  },
  {
   "cell_type": "markdown",
   "metadata": {
    "colab_type": "text",
    "id": "9qnEEhR4f98X"
   },
   "source": [
    "<table align=\"left\">\n",
    "    <tr>\n",
    "        <td width=\"6%\">\n",
    "            <img src=\"question_icon.png\">\n",
    "        </td>\n",
    "        <td>\n",
    "            <div align=\"left\", style=\"font-size:120%\">\n",
    "                <font color=\"#21618C\">\n",
    "                    <b>3. An ice-cream manufacturer wants to study the sales of ice-creams to decide the production policies of the company. He collects the data for the number of ice-creams sold in a month from all the 30 franchise. Find the mean and median sales of all the franchises .</b>\n",
    "                </font>\n",
    "            </div>\n",
    "        </td>\n",
    "    </tr>\n",
    "</table>"
   ]
  },
  {
   "cell_type": "markdown",
   "metadata": {},
   "source": [
    "Given Data \n",
    "\n",
    "sales = [21, 93, 62, 76, 73, 20, 56, 95, 41, 36, 38, 13, 80, 88, 34, 18, 40, 11, 25, 29, 61, 23, 82, 10, 92, 69, 60, 87, 14, 91]"
   ]
  },
  {
   "cell_type": "code",
   "execution_count": 22,
   "metadata": {},
   "outputs": [
    {
     "name": "stdout",
     "output_type": "stream",
     "text": [
      "51.27\n",
      "48.5\n",
      "28.92\n",
      "0.08916446718602886\n",
      "0.564072557050907\n"
     ]
    }
   ],
   "source": [
    "# type your code here\n",
    "sales = [21, 93, 62, 76, 73, 20, 56, 95, 41, 36, 38, 13, 80, 88, 34, 18, 40, 11, 25, 29, 61, 23, 82, 10, 92, 69, 60, 87, 14, 91]\n",
    "sales\n",
    "mean_sales=round(np.mean(sales),2)\n",
    "median_sales=round(np.median(sales),2)\n",
    "std_sales=round(np.std(sales),2)\n",
    "print(mean_sales)\n",
    "print(median_sales)\n",
    "print(std_sales)\n",
    "print(stats.skew(sales))\n",
    "cv=std_sales/mean_sales\n",
    "print(cv)"
   ]
  },
  {
   "cell_type": "markdown",
   "metadata": {
    "colab_type": "text",
    "id": "9qnEEhR4f98X"
   },
   "source": [
    "<table align=\"left\">\n",
    "    <tr>\n",
    "        <td width=\"6%\">\n",
    "            <img src=\"question_icon.png\">\n",
    "        </td>\n",
    "        <td>\n",
    "            <div align=\"left\", style=\"font-size:120%\">\n",
    "                <font color=\"#21618C\">\n",
    "                    <b>4. Use the data given in the previous question to calculate the standard deviation of ice-cream sales.Also find the range in which the middle 50% of the sales would lie.</b>\n",
    "                </font>\n",
    "            </div>\n",
    "        </td>\n",
    "    </tr>\n",
    "</table>"
   ]
  },
  {
   "cell_type": "markdown",
   "metadata": {},
   "source": [
    "Given Data \n",
    "\n",
    "sales = [21, 93, 62, 76, 73, 20, 56, 95, 41, 36, 38, 13, 80, 88, 34, 18, 40, 11, 25, 29, 61, 23, 82, 10, 92, 69, 60, 87, 14, 91]"
   ]
  },
  {
   "cell_type": "code",
   "execution_count": 29,
   "metadata": {},
   "outputs": [
    {
     "name": "stdout",
     "output_type": "stream",
     "text": [
      "28.923961615856765\n",
      "55.5\n"
     ]
    }
   ],
   "source": [
    "# type your code here\n",
    "sales = [21, 93, 62, 76, 73, 20, 56, 95, 41, 36, 38, 13, 80, 88, 34, 18, 40, 11, 25, 29, 61, 23, 82, 10, 92, 69, 60, 87, 14, 91]\n",
    "std_sales=np.std(sales)\n",
    "print(std_sales)\n",
    "q3=np.quantile(a=sales,q=0.75)\n",
    "q1=np.quantile(a=sales,q=0.25)\n",
    "range=q3-q1\n",
    "print(range)"
   ]
  },
  {
   "cell_type": "markdown",
   "metadata": {
    "colab_type": "text",
    "id": "6YXVLVi9f98b"
   },
   "source": [
    "<table align=\"left\">\n",
    "    <tr>\n",
    "        <td width=\"6%\">\n",
    "            <img src=\"question_icon.png\">\n",
    "        </td>\n",
    "        <td>\n",
    "            <div align=\"left\", style=\"font-size:120%\">\n",
    "                <font color=\"#21618C\">\n",
    "                    <b>5. Again using the data of the previous question calculate the measure of skewness and kurtosis of ice-cream sales </b>\n",
    "                </font>\n",
    "            </div>\n",
    "        </td>\n",
    "    </tr>\n",
    "</table>"
   ]
  },
  {
   "cell_type": "markdown",
   "metadata": {},
   "source": [
    "Given Data \n",
    "\n",
    "sales = [21, 93, 62, 76, 73, 20, 56, 95, 41, 36, 38, 13, 80, 88, 34, 18, 40, 11, 25, 29, 61, 23, 82, 10, 92, 69, 60, 87, 14, 91]"
   ]
  },
  {
   "cell_type": "code",
   "execution_count": 35,
   "metadata": {},
   "outputs": [
    {
     "name": "stdout",
     "output_type": "stream",
     "text": [
      "0.08916446718602886\n",
      "-1.4821565080588839\n"
     ]
    }
   ],
   "source": [
    "# type your code here\n",
    "sales = [21, 93, 62, 76, 73, 20, 56, 95, 41, 36, 38, 13, 80, 88, 34, 18, 40, 11, 25, 29, 61, 23, 82, 10, 92, 69, 60, 87, 14, 91]\n",
    "print(stats.skew(sales))\n",
    "print(stats.kurtosis(sales))\n",
    "# higher is the kurtosis indicates more are the ouliers\n",
    "# skewness tells the direction of outliers"
   ]
  },
  {
   "cell_type": "markdown",
   "metadata": {
    "colab_type": "text",
    "id": "9qnEEhR4f98X"
   },
   "source": [
    "<table align=\"left\">\n",
    "    <tr>\n",
    "        <td width=\"6%\">\n",
    "            <img src=\"question_icon.png\">\n",
    "        </td>\n",
    "        <td>\n",
    "            <div align=\"left\", style=\"font-size:120%\">\n",
    "                <font color=\"#21618C\">\n",
    "                    <b>6. An ice-cream manufacturer wants to study the sales of ice-creams to decide the production policies of the company. He collects the data for the number of ice-creams sold in a month from all the 30 franchise. Additionally he also has data for the average work hours of each franchise last month. Is there a relationship between the sales and working hours. Comment on the nature of relationship .</b>\n",
    "                </font>\n",
    "            </div>\n",
    "        </td>\n",
    "    </tr>\n",
    "</table>"
   ]
  },
  {
   "cell_type": "markdown",
   "metadata": {},
   "source": [
    "Given Data \n",
    "\n",
    "sales = [21, 93, 62, 76, 73, 20, 56, 95, 41, 36, 38, 13, 80, 88, 34, 18, 40, 11, 25, 29, 61, 23, 82, 10, 92, 69, 60, 87, 14, 91]\n",
    "\n",
    "hours=[7, 9.5, 8, 8.5, 9, 6.5, 7, 10.5, 9, 7.5, 8, 6, 10, 8.5, 6, 6.5, 7, 5, 6.5, 6.5, 7.5, 6.5, 8, 8.5, 9.5, 10,7.5, 8.5, 6.5, 10.5] "
   ]
  },
  {
   "cell_type": "code",
   "execution_count": 38,
   "metadata": {},
   "outputs": [
    {
     "name": "stdout",
     "output_type": "stream",
     "text": [
      "0.8041722414371261\n"
     ]
    }
   ],
   "source": [
    "# type your code here\n",
    "sales=pd.Series([21, 93, 62, 76, 73, 20, 56, 95, 41, 36, 38, 13, 80, 88, 34, 18, 40, 11, 25, 29, 61, 23, 82, 10, 92, 69, 60, 87, 14, 91])\n",
    "hours=pd.Series([7, 9.5, 8, 8.5, 9, 6.5, 7, 10.5, 9, 7.5, 8, 6, 10, 8.5, 6, 6.5, 7, 5, 6.5, 6.5, 7.5, 6.5, 8, 8.5, 9.5, 10,7.5, 8.5, 6.5, 10.5])\n",
    "\n",
    "# calculation of correlation values\n",
    "corelation_coff=hours.corr(sales)\n",
    "print(corelation_coff)\n",
    "\n",
    "# there is a strong corelation between working hourss implying more corelation means more sales"
   ]
  },
  {
   "cell_type": "markdown",
   "metadata": {
    "colab_type": "text",
    "id": "r4J-iIEhf98N"
   },
   "source": [
    "<a id = \"prob\"> </a>\n",
    "## 3. Probability"
   ]
  },
  {
   "cell_type": "markdown",
   "metadata": {
    "colab_type": "text",
    "id": "V7QJT8W9f98T"
   },
   "source": [
    "<table align=\"left\">\n",
    "    <tr>\n",
    "        <td width=\"6%\">\n",
    "            <img src=\"question_icon.png\">\n",
    "        </td>\n",
    "        <td>\n",
    "            <div align=\"left\", style=\"font-size:120%\">\n",
    "                <font color=\"#21618C\">\n",
    "                    <b>7. If the letters of the word MATHEMATICS are arranged in random, what is the probability that the two M's come together.</b>\n",
    "                </font>\n",
    "            </div>\n",
    "        </td>\n",
    "    </tr>\n",
    "</table>"
   ]
  },
  {
   "cell_type": "code",
   "execution_count": 46,
   "metadata": {},
   "outputs": [
    {
     "data": {
      "text/plain": [
       "0.18181818181818182"
      ]
     },
     "execution_count": 46,
     "metadata": {},
     "output_type": "execute_result"
    }
   ],
   "source": [
    "no_of_M=2\n",
    "no_of_A=2\n",
    "no_of_T=2\n",
    "no_of_H=1\n",
    "no_of_E=1\n",
    "no_of_I=1\n",
    "no_of_C=1\n",
    "no_of_S=1\n",
    "lengthofword=len('MATHEMATICS')\n",
    "denominator=(factorial(no_of_M))*factorial(no_of_A)*factorial(no_of_T)*factorial(no_of_H)*factorial(no_of_E)*factorial(no_of_I)*factorial(no_of_C)*factorial(no_of_S)\n",
    "total_numberofwordsarranged=factorial(lengthofword)/denominator\n",
    "total_numberofwordsarranged\n",
    "\n",
    "#total no of ways mathematics can be arranged when M are arrange\n",
    "denom1=factorial(no_of_A)*factorial(no_of_T)*factorial(no_of_H)*factorial(no_of_E)*factorial(no_of_I)*factorial(no_of_C)*factorial(no_of_S)\n",
    "total_number_with2M=factorial(10)/denom1\n",
    "probability_2M=total_number_with2M/total_numberofwordsarranged\n",
    "\n",
    "\n",
    "probability_2M"
   ]
  },
  {
   "cell_type": "markdown",
   "metadata": {
    "colab_type": "text",
    "id": "V7QJT8W9f98T"
   },
   "source": [
    "<table align=\"left\">\n",
    "    <tr>\n",
    "        <td width=\"6%\">\n",
    "            <img src=\"question_icon.png\">\n",
    "        </td>\n",
    "        <td>\n",
    "            <div align=\"left\", style=\"font-size:120%\">\n",
    "                <font color=\"#21618C\">\n",
    "                    <b>8. If the letters of the word MATHEMATICS are arranged in random, what is the probability that the all the vowels come together.</b>\n",
    "                </font>\n",
    "            </div>\n",
    "        </td>\n",
    "    </tr>\n",
    "</table>"
   ]
  },
  {
   "cell_type": "code",
   "execution_count": 7,
   "metadata": {},
   "outputs": [],
   "source": [
    "# type your code here\n",
    "w=len(\" MATHEMATICS\")\n",
    "no_of_vowels=4\n",
    "total_letters=11\n",
    "no_of_M=2\n",
    "no_of_A=2\n",
    "no_of_T=2\n",
    "no_of_H=1\n",
    "no_of_E=1\n",
    "no_of_I=1\n",
    "no_of_C=1\n",
    "no_of_S=1\n",
    "tot=factorial(w)/(factorial(no_of_M)*factorial(no_of_A)*factorial(no_of_T)*factorial(no_of_H)*factorial(no_of_E)*factorial(no_of_I)\n",
    "                 *factorial(no_of_C)*factorial(no_of_S))\n",
    "vow=(factorial(8)/(factorial(no_of_M)*factorial(no_of_T)*factorial(no_of_H)*factorial(no_of_C)*factorial(no_of_S))*(factorial(4)/factorial(no_of_A)))"
   ]
  },
  {
   "cell_type": "code",
   "execution_count": 9,
   "metadata": {},
   "outputs": [
    {
     "data": {
      "text/plain": [
       "0.00202020202020202"
      ]
     },
     "execution_count": 9,
     "metadata": {},
     "output_type": "execute_result"
    }
   ],
   "source": [
    "final=vow/tot\n",
    "final"
   ]
  },
  {
   "cell_type": "markdown",
   "metadata": {
    "colab_type": "text",
    "id": "V7QJT8W9f98T"
   },
   "source": [
    "<table align=\"left\">\n",
    "    <tr>\n",
    "        <td width=\"6%\">\n",
    "            <img src=\"question_icon.png\">\n",
    "        </td>\n",
    "        <td>\n",
    "            <div align=\"left\", style=\"font-size:120%\">\n",
    "                <font color=\"#21618C\">\n",
    "                    <b>9. The odds that it will rain tomorrow is 15:10. What is the probability that it will not rain tomorrow. </b>\n",
    "                </font>\n",
    "            </div>\n",
    "        </td>\n",
    "    </tr>\n",
    "</table>"
   ]
  },
  {
   "cell_type": "code",
   "execution_count": 47,
   "metadata": {},
   "outputs": [
    {
     "name": "stdout",
     "output_type": "stream",
     "text": [
      "The probability that the person is fit is 0.4\n"
     ]
    }
   ],
   "source": [
    "# type your code here\n",
    "a = 15 \n",
    "b = 10\n",
    "req_prob = 1 - (a/(a+b))\n",
    "\n",
    "print('The probability that the person is fit is', req_prob)"
   ]
  },
  {
   "cell_type": "markdown",
   "metadata": {
    "colab_type": "text",
    "id": "V7QJT8W9f98T"
   },
   "source": [
    "<table align=\"left\">\n",
    "    <tr>\n",
    "        <td width=\"6%\">\n",
    "            <img src=\"question_icon.png\">\n",
    "        </td>\n",
    "        <td>\n",
    "            <div align=\"left\", style=\"font-size:120%\">\n",
    "                <font color=\"#21618C\">\n",
    "                    <b>10. In a company there are 95 employees. Out of these 70 employees received an incentive whereas 25 did not. In the previous year 40 employees had undergone a special training. Thirty of the employee who had attended the training  received the incentive. What is the probability that a person who received an incentive had done the training.</b>\n",
    "                </font>\n",
    "            </div>\n",
    "        </td>\n",
    "    </tr>\n",
    "</table>"
   ]
  },
  {
   "cell_type": "markdown",
   "metadata": {},
   "source": [
    "### Example:\n",
    "<table align=\"center\" width=350>\n",
    "    <tr>\n",
    "        <td width=\"20%\">\n",
    "            <img src=\"matrix.png\">\n",
    "        </td>\n",
    "    </tr>\n",
    "</table>"
   ]
  },
  {
   "cell_type": "code",
   "execution_count": 49,
   "metadata": {},
   "outputs": [
    {
     "data": {
      "text/plain": [
       "0.48214285714285715"
      ]
     },
     "execution_count": 49,
     "metadata": {},
     "output_type": "execute_result"
    }
   ],
   "source": [
    "# type your code here\n",
    "# prob of emp receiving incentive\n",
    "p_i=70/95\n",
    "# prob of emp got training\n",
    "p_t=45/95\n",
    "# prob of emp got incentive given they have undergone training\n",
    "p_ig=30/40\n",
    "#prob that a person who has choosen training has received an incentive\n",
    "p_tgivenincentive=p_ig*p_t/p_i\n",
    "p_tgivenincentive"
   ]
  }
 ],
 "metadata": {
  "colab": {
   "name": "ITP - In-Class Lab Exercise (Day1) - Solutions [V1.0 030120].ipynb",
   "provenance": []
  },
  "kernelspec": {
   "display_name": "Python 3 (ipykernel)",
   "language": "python",
   "name": "python3"
  },
  "language_info": {
   "codemirror_mode": {
    "name": "ipython",
    "version": 3
   },
   "file_extension": ".py",
   "mimetype": "text/x-python",
   "name": "python",
   "nbconvert_exporter": "python",
   "pygments_lexer": "ipython3",
   "version": "3.9.12"
  }
 },
 "nbformat": 4,
 "nbformat_minor": 1
}
