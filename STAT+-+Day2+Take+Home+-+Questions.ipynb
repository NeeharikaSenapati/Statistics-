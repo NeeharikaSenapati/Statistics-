{
 "cells": [
  {
   "cell_type": "markdown",
   "metadata": {},
   "source": [
    "<table align=\"center\" width=100%>\n",
    "    <tr>\n",
    "        <td width=\"20%\">\n",
    "            <img src=\"GL-2.png\">\n",
    "        </td>\n",
    "        <td>\n",
    "            <div align=\"center\">\n",
    "                <font color=\"#21618C\" size=8px>\n",
    "                    <b> Take Home <br>(Day 2)\n",
    "                    </b>\n",
    "                </font>\n",
    "            </div>\n",
    "        </td>\n",
    "    </tr>\n",
    "</table>"
   ]
  },
  {
   "cell_type": "markdown",
   "metadata": {},
   "source": [
    "## Table of Content\n",
    "\n",
    "1. **[Binomial Distributions](#BDist)**\n",
    "2. **[Normal Distributions](#NDist)**\n",
    "2. **[Central Limit Theorem](#CLT)**"
   ]
  },
  {
   "cell_type": "markdown",
   "metadata": {},
   "source": [
    "**Import the required libraries**"
   ]
  },
  {
   "cell_type": "code",
   "execution_count": 2,
   "metadata": {},
   "outputs": [],
   "source": [
    "# type your code here\n",
    "\n",
    "# import 'numpy' \n",
    "import numpy as np\n",
    "\n",
    "# import subpackage of matplotlib\n",
    "import matplotlib.pyplot as plt\n",
    "from matplotlib import gridspec\n",
    "%matplotlib inline\n",
    "\n",
    "# import 'seaborn'\n",
    "import seaborn as sns\n",
    "\n",
    "# to suppress warnings \n",
    "from warnings import filterwarnings\n",
    "filterwarnings('ignore')\n",
    "\n",
    "# import 'factorial' from math library\n",
    "from math import factorial\n",
    "\n",
    "# import 'stats' package from scipy library\n",
    "from scipy import stats\n",
    "from scipy.stats import randint\n",
    "from scipy.stats import skewnorm\n",
    "\n",
    "# import 'random' to generate a random sample\n",
    "import random"
   ]
  },
  {
   "cell_type": "markdown",
   "metadata": {},
   "source": [
    "### Let's begin with some hands-on practice exercises"
   ]
  },
  {
   "cell_type": "markdown",
   "metadata": {},
   "source": [
    "<a id= \"BDist\"></a>\n",
    "## 1. Binomial Distributions"
   ]
  },
  {
   "cell_type": "markdown",
   "metadata": {
    "collapsed": true
   },
   "source": [
    "<table align=\"left\">\n",
    "    <tr>\n",
    "        <td width=\"6%\">\n",
    "            <img src=\"question_icon.png\">\n",
    "        </td>\n",
    "        <td>\n",
    "            <div align=\"left\", style=\"font-size:120%\">\n",
    "                <font color=\"#21618C\">\n",
    "                    <b>1. In a factory, the probability of producing a defective plastic box is 0.32. A sample of 50 boxes is collected. What is the probability that exactly 15 boxes are defective?\n",
    "</b>\n",
    "                </font>\n",
    "            </div>\n",
    "        </td>\n",
    "    </tr>\n",
    "</table>"
   ]
  },
  {
   "cell_type": "code",
   "execution_count": 4,
   "metadata": {},
   "outputs": [
    {
     "name": "stdout",
     "output_type": "stream",
     "text": [
      "probability that exactly 15 boxes are defective are  0.12\n"
     ]
    }
   ],
   "source": [
    "# type your code here\n",
    "p=0.32\n",
    "n=50\n",
    "k=15\n",
    "prob_def=stats.binom.pmf(k=15,n=50,p=0.32)\n",
    "print(\"probability that exactly 15 boxes are defective are \",round(prob_def,2))"
   ]
  },
  {
   "cell_type": "markdown",
   "metadata": {
    "collapsed": true
   },
   "source": [
    "<table align=\"left\">\n",
    "    <tr>\n",
    "        <td width=\"6%\">\n",
    "            <img src=\"question_icon.png\">\n",
    "        </td>\n",
    "        <td>\n",
    "            <div align=\"left\", style=\"font-size:120%\">\n",
    "                <font color=\"#21618C\">\n",
    "                    <b>2.Raj Supermarket  sells products like milk, bread, egg, fruits and vegetables. It is observed that 30% of their customers complain about the products purchased by them for many reasons. On Friday, 20 customers purchased  products from Raj Supermarket.Calculate the probability that exactly 4 customers will complain about the purchased products. \n",
    "                </font>\n",
    "            </div>\n",
    "        </td>\n",
    "    </tr>\n",
    "</table>"
   ]
  },
  {
   "cell_type": "code",
   "execution_count": 6,
   "metadata": {},
   "outputs": [
    {
     "name": "stdout",
     "output_type": "stream",
     "text": [
      " probability that exactly 4 customers will complain about the purchased products 0.13\n"
     ]
    }
   ],
   "source": [
    "# type your code here\n",
    "p=0.30\n",
    "n=20\n",
    "k=4\n",
    "prob_comp=stats.binom.pmf(k=4,n=20,p=0.30)\n",
    "print(\" probability that exactly 4 customers will complain about the purchased products\",round(prob_comp,2))"
   ]
  },
  {
   "cell_type": "markdown",
   "metadata": {
    "collapsed": true
   },
   "source": [
    "<table align=\"left\">\n",
    "    <tr>\n",
    "        <td width=\"6%\">\n",
    "            <img src=\"question_icon.png\">\n",
    "        </td>\n",
    "        <td>\n",
    "            <div align=\"left\", style=\"font-size:120%\">\n",
    "                <font color=\"#21618C\">\n",
    "                <b>3.Raj Supermarket  sells products like milk, bread, egg, fruits and vegetables. It is observed that 30% of their customers complain about the products purchased by them for many reasons. On Friday, 20 customers purchased  products from Raj Supermarket.Calculate the probability that more than 4 customers will complain about the furniture purchased by them.</b>\n",
    "                </font>\n",
    "            </div>\n",
    "        </td>\n",
    "    </tr>\n",
    "</table>"
   ]
  },
  {
   "cell_type": "code",
   "execution_count": 7,
   "metadata": {},
   "outputs": [
    {
     "name": "stdout",
     "output_type": "stream",
     "text": [
      " probability that more than 4 customers will complain about the purchased products 0.76\n"
     ]
    }
   ],
   "source": [
    "# type your code here\n",
    "p=0.30\n",
    "n=20\n",
    "k=4\n",
    "prob_comp_more=stats.binom.sf(k=4,n=20,p=0.30)\n",
    "print(\" probability that more than 4 customers will complain about the purchased products\",round(prob_comp_more,2))"
   ]
  },
  {
   "cell_type": "markdown",
   "metadata": {},
   "source": [
    "<a id= \"NDist\"></a>\n",
    "## 2. Normal Distributions"
   ]
  },
  {
   "cell_type": "markdown",
   "metadata": {
    "collapsed": true
   },
   "source": [
    "<table align=\"left\">\n",
    "    <tr>\n",
    "        <td width=\"6%\">\n",
    "            <img src=\"question_icon.png\">\n",
    "        </td>\n",
    "        <td>\n",
    "            <div align=\"left\", style=\"font-size:120%\">\n",
    "                <font color=\"#21618C\">\n",
    "                    <b>4. The dietician has offered a meal plan for 30 patients. After two months of starting the diet, she has collected the data of weights for all the patients. The average weight is 80 kg with a standard deviation of 20 kg. What is the probability that the weight of a person is between 75 to 85 kg? Assume that the data is normally distributed. </b>\n",
    "                </font>\n",
    "            </div>\n",
    "        </td>\n",
    "    </tr>\n",
    "</table>"
   ]
  },
  {
   "cell_type": "code",
   "execution_count": 14,
   "metadata": {},
   "outputs": [
    {
     "name": "stdout",
     "output_type": "stream",
     "text": [
      " probability that the weight of a person is between 75 to 85 kg 0.197\n"
     ]
    }
   ],
   "source": [
    "# type your code here\n",
    "mean=80\n",
    "std=20\n",
    "n=30\n",
    "p1=stats.norm.cdf(x=75,loc=mean,scale=std)\n",
    "p2=stats.norm.cdf(x=85,loc=mean,scale=std)\n",
    "p=p2-p1\n",
    "print(\" probability that the weight of a person is between 75 to 85 kg\",round(p,3))"
   ]
  },
  {
   "cell_type": "markdown",
   "metadata": {
    "collapsed": true
   },
   "source": [
    "<table align=\"left\">\n",
    "    <tr>\n",
    "        <td width=\"6%\">\n",
    "            <img src=\"question_icon.png\">\n",
    "        </td>\n",
    "        <td>\n",
    "            <div align=\"left\", style=\"font-size:120%\">\n",
    "                <font color=\"#21618C\">\n",
    "                    <b>5. The survey by road safety department states that the in the Oneonta city the average speed of vehicle is 65 mph and the standard deviation is 9 mph. Find the probability that a randomly selected vehicle has a speed greater than 78 mph.\n",
    "</b>\n",
    "                </font>\n",
    "            </div>\n",
    "        </td>\n",
    "    </tr>\n",
    "</table>"
   ]
  },
  {
   "cell_type": "code",
   "execution_count": 19,
   "metadata": {},
   "outputs": [
    {
     "name": "stdout",
     "output_type": "stream",
     "text": [
      "probability that a randomly selected vehicle has a speed greater than 78 mph. is  0.07\n"
     ]
    }
   ],
   "source": [
    "# type your code here\n",
    "mean=65\n",
    "std=9\n",
    "prob=stats.norm.sf(x=78,loc=mean,scale=std)\n",
    "print(\"probability that a randomly selected vehicle has a speed greater than 78 mph. is \",round(prob,2))"
   ]
  },
  {
   "cell_type": "markdown",
   "metadata": {
    "collapsed": true
   },
   "source": [
    "<table align=\"left\">\n",
    "    <tr>\n",
    "        <td width=\"6%\">\n",
    "            <img src=\"question_icon.png\">\n",
    "        </td>\n",
    "        <td>\n",
    "            <div align=\"left\", style=\"font-size:120%\">\n",
    "                <font color=\"#21618C\">\n",
    "                    <b>6. The fill amount in 2-liter soft drink bottles is normally distributed, with a mean of 2.0 liters and a standard deviation of 0.05 liter. If the bottles contain less than 95% of the listed net content (1.90 liters, in our case), the manufacturer may be subject to penalty by the state office of consumer affairs. Bottles that have a net content above 2.1 liters may cause excess spillage upon opening. What is the proportion of bottles that will contain:\n",
    " </b>\n",
    "                </font>\n",
    "            </div>\n",
    "        </td>\n",
    "    </tr>\n",
    "</table>"
   ]
  },
  {
   "cell_type": "markdown",
   "metadata": {},
   "source": [
    "<table align=\"left\">\n",
    "    <tr>\n",
    "        <td width=\"6%\">\n",
    "            <img src=\"question_icon.png\">\n",
    "        </td>\n",
    "        <td>\n",
    "            <div align=\"left\", style=\"font-size:120%\">\n",
    "                <font color=\"#21618C\">\n",
    "                    <b>a. between 1.9 and 2.0 liters</b>\n",
    "                </font>\n",
    "            </div>\n",
    "        </td>\n",
    "    </tr>\n",
    "</table>"
   ]
  },
  {
   "cell_type": "code",
   "execution_count": 21,
   "metadata": {},
   "outputs": [
    {
     "name": "stdout",
     "output_type": "stream",
     "text": [
      "the proportion of bottles that will contain between 1.9 and 2.0 liters is  0.48\n"
     ]
    }
   ],
   "source": [
    "# type your code here\n",
    "mean=2\n",
    "std=0.05\n",
    "p1=stats.norm.cdf(x=1.9,loc=mean,scale=std)\n",
    "p2=stats.norm.cdf(x=2.0,loc=mean,scale=std)\n",
    "p=p2-p1\n",
    "print(\"the proportion of bottles that will contain between 1.9 and 2.0 liters is \",round(p,2))"
   ]
  },
  {
   "cell_type": "markdown",
   "metadata": {
    "collapsed": true
   },
   "source": [
    "<table align=\"left\">\n",
    "    <tr>\n",
    "        <td width=\"6%\">\n",
    "            <img src=\"question_icon.png\">\n",
    "        </td>\n",
    "        <td>\n",
    "            <div align=\"left\", style=\"font-size:120%\">\n",
    "                <font color=\"#21618C\">\n",
    "                    <b>b.between 1.9 and 2.1 liters</b>\n",
    "                </font>\n",
    "            </div>\n",
    "        </td>\n",
    "    </tr>\n",
    "</table>"
   ]
  },
  {
   "cell_type": "code",
   "execution_count": 22,
   "metadata": {},
   "outputs": [
    {
     "name": "stdout",
     "output_type": "stream",
     "text": [
      "the proportion of bottles that will contain between 1.9 and 2.1 liters is  0.95\n"
     ]
    }
   ],
   "source": [
    "# type your code here\n",
    "mean=2\n",
    "std=0.05\n",
    "p1=stats.norm.cdf(x=1.9,loc=mean,scale=std)\n",
    "p2=stats.norm.cdf(x=2.1,loc=mean,scale=std)\n",
    "p=p2-p1\n",
    "print(\"the proportion of bottles that will contain between 1.9 and 2.1 liters is \",round(p,2))"
   ]
  },
  {
   "cell_type": "markdown",
   "metadata": {
    "collapsed": true
   },
   "source": [
    "<table align=\"left\">\n",
    "    <tr>\n",
    "        <td width=\"6%\">\n",
    "            <img src=\"question_icon.png\">\n",
    "        </td>\n",
    "        <td>\n",
    "            <div align=\"left\", style=\"font-size:120%\">\n",
    "                <font color=\"#21618C\">\n",
    "                    <b>c. below 1.9 liters or above 2.1 liters</b>\n",
    "                </font>\n",
    "            </div>\n",
    "        </td>\n",
    "    </tr>\n",
    "</table>"
   ]
  },
  {
   "cell_type": "code",
   "execution_count": 25,
   "metadata": {},
   "outputs": [
    {
     "name": "stdout",
     "output_type": "stream",
     "text": [
      "the proportion of bottles that will contain  below 1.9 liters  is  0.02\n",
      "the proportion of bottles that will contain   above 2.1 liters is  0.02\n"
     ]
    }
   ],
   "source": [
    "# type your code here\n",
    "mean=2\n",
    "std=0.05\n",
    "p1=stats.norm.cdf(x=1.9,loc=mean,scale=std)\n",
    "p2=stats.norm.sf(x=2.1,loc=mean,scale=std)\n",
    "print(\"the proportion of bottles that will contain  below 1.9 liters  is \",round(p1,2))\n",
    "print(\"the proportion of bottles that will contain   above 2.1 liters is \",round(p2,2))"
   ]
  },
  {
   "cell_type": "markdown",
   "metadata": {},
   "source": [
    "<a id=\"CLT\"></a>\n",
    "## 3. Central Limit Theorem"
   ]
  },
  {
   "cell_type": "markdown",
   "metadata": {
    "colab_type": "text",
    "id": "V7QJT8W9f98T"
   },
   "source": [
    "<table align=\"left\">\n",
    "    <tr>\n",
    "        <td width=\"6%\">\n",
    "            <img src=\"question_icon.png\">\n",
    "        </td>\n",
    "        <td>\n",
    "            <div align=\"left\", style=\"font-size:120%\">\n",
    "                <font color=\"#21618C\">\n",
    "                    <b>7. Perform Central Limit Theorem on Right Skewed data with sample size 100 and number of samples as 30.</b>\n",
    "                </font>\n",
    "            </div>\n",
    "        </td>\n",
    "    </tr>\n",
    "</table>"
   ]
  },
  {
   "cell_type": "code",
   "execution_count": 3,
   "metadata": {},
   "outputs": [
    {
     "data": {
      "image/png": "[encoded data removed]",
      "text/plain": [
       "<Figure size 432x288 with 1 Axes>"
      ]
     },
     "metadata": {
      "needs_background": "light"
     },
     "output_type": "display_data"
    }
   ],
   "source": [
    "# type your code here\n",
    "from scipy.stats import skewnorm\n",
    "right_skew = 20\n",
    "popn = stats.skewnorm.rvs(right_skew,size = 50000)\n",
    "sns.kdeplot(popn)\n",
    "plt.show()"
   ]
  },
  {
   "cell_type": "markdown",
   "metadata": {},
   "source": [
    "<table align=\"left\">\n",
    "    <tr>\n",
    "        <td width=\"6%\">\n",
    "            <img src=\"question_icon.png\">\n",
    "        </td>\n",
    "        <td>\n",
    "            <div align=\"left\", style=\"font-size:120%\">\n",
    "                <font color=\"#21618C\">\n",
    "                    <b>8. Indian Team players on average score 70 with a standard deviation of 30. Assume that the data is normally distributed. If a random sample of 25 match scores are selected,  what is the probability that the average score of the sample is less than 83?</b>\n",
    "                </font>\n",
    "            </div>\n",
    "        </td>\n",
    "    </tr>\n",
    "</table>"
   ]
  },
  {
   "cell_type": "code",
   "execution_count": 27,
   "metadata": {},
   "outputs": [
    {
     "name": "stdout",
     "output_type": "stream",
     "text": [
      " the probability that the average score of the sample is less than 83 is  0.98\n"
     ]
    }
   ],
   "source": [
    "# type your code here\n",
    "mean=70\n",
    "std=30\n",
    "n=25\n",
    "p1=stats.norm.cdf(x=83,loc=mean,scale=std/np.sqrt(n))\n",
    "print(\" the probability that the average score of the sample is less than 83 is \",round(p1,2))"
   ]
  },
  {
   "cell_type": "markdown",
   "metadata": {},
   "source": [
    "<table align=\"left\">\n",
    "    <tr>\n",
    "        <td width=\"6%\">\n",
    "            <img src=\"question_icon.png\">\n",
    "        </td>\n",
    "        <td>\n",
    "            <div align=\"left\", style=\"font-size:120%\">\n",
    "                <font color=\"#21618C\">\n",
    "                    <b>9.The average profit of restaurants in Chennai is 7 Lakh INR with standard diviation of 1.3 Lakh INR. If a sample of 40 restaurants  are randomly selected, find the probability that the average profit of the sample is between 6.9 L to 7.1 L INR. </b>\n",
    "                </font>\n",
    "            </div>\n",
    "        </td>\n",
    "    </tr>\n",
    "</table>"
   ]
  },
  {
   "cell_type": "code",
   "execution_count": 28,
   "metadata": {},
   "outputs": [
    {
     "name": "stdout",
     "output_type": "stream",
     "text": [
      "the probability that the average profit of the sample is between 6.9 L to 7.1 L INR is  0.37\n"
     ]
    }
   ],
   "source": [
    "# type your code here\n",
    "mean=7\n",
    "std=1.3\n",
    "n=40\n",
    "p1=stats.norm.cdf(x=6.9,loc=mean,scale=std/np.sqrt(n))\n",
    "p2=stats.norm.cdf(x=7.1,loc=mean,scale=std/np.sqrt(n))\n",
    "p=p2-p1\n",
    "print(\"the probability that the average profit of the sample is between 6.9 L to 7.1 L INR is \",round(p,2))"
   ]
  },
  {
   "cell_type": "markdown",
   "metadata": {},
   "source": [
    "<table align=\"left\">\n",
    "    <tr>\n",
    "        <td width=\"6%\">\n",
    "            <img src=\"question_icon.png\">\n",
    "        </td>\n",
    "        <td>\n",
    "            <div align=\"left\", style=\"font-size:120%\">\n",
    "                <font color=\"#21618C\">\n",
    "                    <b>10. The average score of the students at a Community College is 70% with a standard deviation of 20% and Assume that the data is normally distributed. If a random sample of 30 students are selected,  what is the probability that the average score of the sample is more than 77 %?</b>\n",
    "                </font>\n",
    "            </div>\n",
    "        </td>\n",
    "    </tr>\n",
    "</table>"
   ]
  },
  {
   "cell_type": "code",
   "execution_count": 34,
   "metadata": {},
   "outputs": [
    {
     "name": "stdout",
     "output_type": "stream",
     "text": [
      "the probability that the average score of the sample is more than 77 % is 0.028\n"
     ]
    }
   ],
   "source": [
    "# type your code here\n",
    "mean=0.70\n",
    "std=0.20\n",
    "n=30\n",
    "prob=stats.norm.sf(x=0.77,loc=mean,scale=std/np.sqrt(n))\n",
    "print(\"the probability that the average score of the sample is more than 77 % is\",round(prob,3))"
   ]
  }
 ],
 "metadata": {
  "kernelspec": {
   "display_name": "Python 3 (ipykernel)",
   "language": "python",
   "name": "python3"
  },
  "language_info": {
   "codemirror_mode": {
    "name": "ipython",
    "version": 3
   },
   "file_extension": ".py",
   "mimetype": "text/x-python",
   "name": "python",
   "nbconvert_exporter": "python",
   "pygments_lexer": "ipython3",
   "version": "3.9.12"
  }
 },
 "nbformat": 4,
 "nbformat_minor": 2
}
