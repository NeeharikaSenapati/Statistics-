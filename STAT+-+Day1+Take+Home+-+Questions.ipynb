{
 "cells": [
  {
   "cell_type": "markdown",
   "metadata": {},
   "source": [
    "<table align=\"center\" width=100%>\n",
    "    <tr>\n",
    "        <td width=\"20%\">\n",
    "            <img src=\"GL-2.png\">\n",
    "        </td>\n",
    "        <td>\n",
    "            <div align=\"center\">\n",
    "                <font color=\"#21618C\" size=8px>\n",
    "                    <b> Take Home <br>(Day 1)\n",
    "                    </b>\n",
    "                </font>\n",
    "            </div>\n",
    "        </td>\n",
    "    </tr>\n",
    "</table>"
   ]
  },
  {
   "cell_type": "markdown",
   "metadata": {},
   "source": [
    "## Table of Content\n",
    "\n",
    "1. **[Sampling](#sample)**\n",
    "2. **[Descriptive Statistics](#descr)**\n",
    "3. **[Probability and Bayes Theorem](#prob)**"
   ]
  },
  {
   "cell_type": "markdown",
   "metadata": {},
   "source": [
    "**Import the required libraries**"
   ]
  },
  {
   "cell_type": "code",
   "execution_count": 2,
   "metadata": {},
   "outputs": [],
   "source": [
    "# import libraries here\n",
    "import pandas as pd \n",
    "\n",
    "# import 'numpy' \n",
    "import numpy as np\n",
    "\n",
    "# import subpackage of matplotlib\n",
    "import matplotlib.pyplot as plt\n",
    "from matplotlib import gridspec\n",
    "%matplotlib inline\n",
    "\n",
    "# import 'seaborn'\n",
    "import seaborn as sns\n",
    "\n",
    "# to suppress warnings \n",
    "from warnings import filterwarnings\n",
    "filterwarnings('ignore')\n",
    "\n",
    "# import 'factorial' from math library\n",
    "from math import factorial\n",
    "\n",
    "# import 'stats' package from scipy library\n",
    "from scipy import stats\n",
    "from scipy.stats import randint\n",
    "from scipy.stats import skewnorm\n",
    "\n",
    "# import 'random' to generate a random sample\n",
    "import random"
   ]
  },
  {
   "cell_type": "markdown",
   "metadata": {},
   "source": [
    "### Let's begin with some hands-on practice exercises"
   ]
  },
  {
   "cell_type": "markdown",
   "metadata": {},
   "source": [
    "<table align=\"left\">\n",
    "    <tr>\n",
    "        <td width=\"6%\">\n",
    "            <img src=\"question_icon.png\">\n",
    "        </td>\n",
    "        <td>\n",
    "            <div align=\"left\", style=\"font-size:120%\">\n",
    "                <font color=\"#21618C\">\n",
    "                    <b>1. A wrist-watch company wants to perform a quality check before launching their next-generation k22-digital watch. The production team has delivered 30 watches with number tags as 1,2,...30 on each watch for the quality check. Pick 5 watches randomly to check the quality. </b>\n",
    "                </font>\n",
    "            </div>\n",
    "        </td>\n",
    "    </tr>\n",
    "</table>"
   ]
  },
  {
   "cell_type": "code",
   "execution_count": 3,
   "metadata": {},
   "outputs": [
    {
     "name": "stdout",
     "output_type": "stream",
     "text": [
      "watches selected  randomly to check the quality. [23, 12, 26, 1, 5]\n"
     ]
    }
   ],
   "source": [
    "# write answer here\n",
    "data=np.arange(1,31,1)\n",
    "data\n",
    "wor=random.sample(population=list(data),k=5)\n",
    "print(\"watches selected  randomly to check the quality.\",wor)"
   ]
  },
  {
   "cell_type": "markdown",
   "metadata": {
    "colab_type": "text",
    "id": "77vuf1DVf98O"
   },
   "source": [
    "<table align=\"left\">\n",
    "    <tr>\n",
    "        <td width=\"6%\">\n",
    "            <img src=\"question_icon.png\">\n",
    "        </td>\n",
    "        <td>\n",
    "            <div align=\"left\", style=\"font-size:120%\">\n",
    "                <font color=\"#21618C\">\n",
    "                    <b>2. The rainfall (in mm) in the city is recorded for 10 days. Find the rainfall value under which 60% of the rainfalls would lie.</b>\n",
    "                </font>\n",
    "            </div>\n",
    "        </td>\n",
    "    </tr>\n",
    "</table>"
   ]
  },
  {
   "cell_type": "markdown",
   "metadata": {},
   "source": [
    "Given data:\n",
    "\n",
    "        rainfall (in mm) = [86, 74, 90, 108, 65, 84, 75, 92, 102, 93]"
   ]
  },
  {
   "cell_type": "code",
   "execution_count": 7,
   "metadata": {},
   "outputs": [
    {
     "data": {
      "text/plain": [
       "90.8"
      ]
     },
     "execution_count": 7,
     "metadata": {},
     "output_type": "execute_result"
    }
   ],
   "source": [
    "# Write answer here\n",
    "rainfall= [86, 74, 90, 108, 65, 84, 75, 92, 102, 93]\n",
    "rain_60=np.quantile(a=rainfall,q=0.60)\n",
    "rain_60"
   ]
  },
  {
   "cell_type": "markdown",
   "metadata": {
    "colab_type": "text",
    "id": "V7QJT8W9f98T"
   },
   "source": [
    "<table align=\"left\">\n",
    "    <tr>\n",
    "        <td width=\"6%\">\n",
    "            <img src=\"question_icon.png\">\n",
    "        </td>\n",
    "        <td>\n",
    "            <div align=\"left\", style=\"font-size:120%\">\n",
    "                <font color=\"#21618C\">\n",
    "                    <b>3. John is studying Mechanical Engineering while Jack is studying Fine Arts The performance of John and Jack in the monthly exams is given below. Compare their performances and identify the more consistent student. </b>\n",
    "                </font>\n",
    "            </div>\n",
    "        </td>\n",
    "    </tr>\n",
    "</table>"
   ]
  },
  {
   "cell_type": "markdown",
   "metadata": {},
   "source": [
    "Given data:\n",
    "\n",
    "        John = [42, 38, 47, 35, 39, 46]\n",
    "        Jack = [32, 36, 46, 49, 28, 30]"
   ]
  },
  {
   "cell_type": "code",
   "execution_count": 10,
   "metadata": {},
   "outputs": [
    {
     "name": "stdout",
     "output_type": "stream",
     "text": [
      "coeff of variation of jack is  10.44\n",
      "coeff of variation of john is 19.353\n"
     ]
    }
   ],
   "source": [
    "# Write answer here\n",
    "John = [42, 38, 47, 35, 39, 46]\n",
    "Jack = [32, 36, 46, 49, 28, 30]\n",
    "john_std=np.std(John)\n",
    "jack_std=np.std(Jack)\n",
    "john_mean=np.mean(John)\n",
    "jack_mean=np.mean(John)\n",
    "john_cv = (john_std/ john_mean)*100\n",
    "jack_cv = (jack_std/ jack_mean)*100\n",
    "print(\"coeff of variation of jack is \",round(john_cv,3))\n",
    "print(\"coeff of variation of john is\",round(jack_cv,3))\n",
    "# Jack is more consistent as the standard deviation of jack is high"
   ]
  },
  {
   "cell_type": "markdown",
   "metadata": {
    "colab_type": "text",
    "id": "9qnEEhR4f98X"
   },
   "source": [
    "<table align=\"left\">\n",
    "    <tr>\n",
    "        <td width=\"6%\">\n",
    "            <img src=\"question_icon.png\">\n",
    "        </td>\n",
    "        <td>\n",
    "            <div align=\"left\", style=\"font-size:120%\">\n",
    "                <font color=\"#21618C\">\n",
    "                    <b>4. The amount of Calcium, Potassium and Iron in the chocolate cookies of 5 different brands is collected. Find out which mineral can be neglected while comparing the different cookie brands?</b>\n",
    "                </font>\n",
    "            </div>\n",
    "        </td>\n",
    "    </tr>\n",
    "</table>"
   ]
  },
  {
   "cell_type": "markdown",
   "metadata": {},
   "source": [
    "Given data:\n",
    "\n",
    "        Calcium (in mg) = [132, 138.56, 147.2, 145.6, 139]\n",
    "        Potassium (in mg) = [122.2, 116, 106.6, 119.52, 128]\n",
    "        Iron (in mg) = [2.96, 3.02, 3.01, 2.99, 2.93]"
   ]
  },
  {
   "cell_type": "code",
   "execution_count": 11,
   "metadata": {},
   "outputs": [
    {
     "name": "stdout",
     "output_type": "stream",
     "text": [
      "5.461861953583225\n",
      "7.111032555121656\n",
      "0.03310589071449363\n"
     ]
    }
   ],
   "source": [
    "# Write answer here\n",
    "Calcium  = [132, 138.56, 147.2, 145.6, 139]\n",
    "Potassium  = [122.2, 116, 106.6, 119.52, 128]\n",
    "Iron  = [2.96, 3.02, 3.01, 2.99, 2.93]\n",
    "C_std=np.std(Calcium)\n",
    "P_std=np.std(Potassium)\n",
    "I_std=np.std(Iron)\n",
    "print(C_std)\n",
    "print(P_std)\n",
    "print(I_std)\n",
    "# The amount of iron in the cookies of all the brands is almost equal and hence we can neglect it"
   ]
  },
  {
   "cell_type": "markdown",
   "metadata": {},
   "source": [
    "<table align=\"left\">\n",
    "    <tr>\n",
    "        <td width=\"6%\">\n",
    "            <img src=\"question_icon.png\">\n",
    "        </td>\n",
    "        <td>\n",
    "            <div align=\"left\", style=\"font-size:120%\">\n",
    "                <font color=\"#21618C\">\n",
    "                    <b>5. You have given two car's company cars mileage details. Find the company is more reliable, while comparing the mileage.\n",
    "            </div>\n",
    "        </td>\n",
    "    </tr>\n",
    "</table>"
   ]
  },
  {
   "cell_type": "markdown",
   "metadata": {},
   "source": [
    "Given data:\n",
    "\n",
    "        Motor_Company1 = [20,30,23,25,26,27,33,27,21,22]\n",
    "        Motor_Company2 = [22,40,10,34,11,41,9,12,19,29]\n",
    "      "
   ]
  },
  {
   "cell_type": "code",
   "execution_count": 16,
   "metadata": {},
   "outputs": [
    {
     "name": "stdout",
     "output_type": "stream",
     "text": [
      "3.8781438859330635 11.9\n"
     ]
    }
   ],
   "source": [
    "# Write answer here\n",
    "Motor_Company1 = [20,30,23,25,26,27,33,27,21,22]\n",
    "Motor_Company2 = [22,40,10,34,11,41,9,12,19,29]\n",
    "M1=np.std(Motor_Company1)\n",
    "M2=np.std(Motor_Company2)\n",
    "print(M1,M2)\n",
    "\n",
    "# as mean mileages of M2 is high so Motor_Company2 is more reliable"
   ]
  },
  {
   "cell_type": "code",
   "execution_count": 19,
   "metadata": {},
   "outputs": [
    {
     "name": "stdout",
     "output_type": "stream",
     "text": [
      "company 1\n"
     ]
    }
   ],
   "source": [
    "if M1>M2:\n",
    "    print(\"company 2\")\n",
    "else:\n",
    "    print(\"company 1\")\n",
    "    \n",
    "# motor company 1 is more consistent than motor company 2"
   ]
  },
  {
   "cell_type": "markdown",
   "metadata": {},
   "source": [
    "<table align=\"left\">\n",
    "    <tr>\n",
    "        <td width=\"6%\">\n",
    "            <img src=\"question_icon.png\">\n",
    "        </td>\n",
    "        <td>\n",
    "            <div align=\"left\", style=\"font-size:120%\">\n",
    "                <font color=\"#21618C\">\n",
    "                    <b>6. Use the below data and find five point summary of the data.\n",
    "</b>\n",
    "                </font>\n",
    "            </div>\n",
    "        </td>\n",
    "    </tr>\n",
    "</table>"
   ]
  },
  {
   "cell_type": "markdown",
   "metadata": {},
   "source": [
    "rainfall = [132, 138.56, 147.2, 145.6, 139,86, 74, 90, 108, 65, 84, 75, 92, 102, 93,140,133.2,145.4,146.2,122.2, 116, 106.6, 119.52, 128.1,122.2, 116, 106.6, 119.52, 128,1]"
   ]
  },
  {
   "cell_type": "code",
   "execution_count": 23,
   "metadata": {},
   "outputs": [
    {
     "data": {
      "text/plain": [
       "count     30.000000\n",
       "mean     110.730000\n",
       "std       31.493512\n",
       "min        1.000000\n",
       "25%       92.250000\n",
       "50%      117.760000\n",
       "75%      132.900000\n",
       "max      147.200000\n",
       "dtype: float64"
      ]
     },
     "execution_count": 23,
     "metadata": {},
     "output_type": "execute_result"
    }
   ],
   "source": [
    "# Write answer here\n",
    "rainfall = [132, 138.56, 147.2, 145.6, 139,86, 74, 90, 108, 65, 84, 75, 92, 102, 93,140,133.2,145.4,146.2,122.2, 116, 106.6, 119.52, 128.1,122.2, 116, 106.6, 119.52, 128,1]\n",
    "rainfall=pd.Series([132, 138.56, 147.2, 145.6, 139,86, 74, 90, 108, 65, 84, 75, 92, 102, 93,140,133.2,145.4,146.2,122.2, 116, 106.6, 119.52, 128.1,122.2, 116, 106.6, 119.52, 128,1])\n",
    "rainfall.describe()"
   ]
  },
  {
   "cell_type": "markdown",
   "metadata": {
    "colab_type": "text",
    "id": "6YXVLVi9f98b"
   },
   "source": [
    "<table align=\"left\">\n",
    "    <tr>\n",
    "        <td width=\"6%\">\n",
    "            <img src=\"question_icon.png\">\n",
    "        </td>\n",
    "        <td>\n",
    "            <div align=\"left\", style=\"font-size:120%\">\n",
    "                <font color=\"#21618C\">\n",
    "                    <b>7. A box contains 5 coins of Rs. 1, 3 coins of Rs. 2 and 6 coins of Rs. 5. We want to select three coins such that only the coins of an odd value are selected. Find the probability of selecting 3 such coins.</b>\n",
    "                </font>\n",
    "            </div>\n",
    "        </td>\n",
    "    </tr>\n",
    "</table>"
   ]
  },
  {
   "cell_type": "code",
   "execution_count": 24,
   "metadata": {
    "id": "qBlJcQbadLgs",
    "outputId": "fb0cf2fb-30b4-455d-c0b8-bec3b1052cda"
   },
   "outputs": [
    {
     "name": "stdout",
     "output_type": "stream",
     "text": [
      "The probability that three coins are selected with an odd price: 0.4532967032967033\n"
     ]
    }
   ],
   "source": [
    "# Write answer here\n",
    "\n",
    "n_coins = 5 + 3 + 6\n",
    " \n",
    "def combination(n, r):\n",
    "    result = factorial(n) / (factorial(r) * factorial(n-r))\n",
    "    return result\n",
    "total_ways = combination(n_coins, 3)\n",
    "\n",
    "num_X = combination(11, 3)\n",
    "\n",
    "prob =  num_X / total_ways\n",
    "\n",
    "print('The probability that three coins are selected with an odd price:', prob)"
   ]
  },
  {
   "cell_type": "markdown",
   "metadata": {
    "colab_type": "text",
    "id": "YIaQZc58f98p"
   },
   "source": [
    "<table align=\"left\">\n",
    "    <tr>\n",
    "        <td width=\"6%\">\n",
    "            <img src=\"question_icon.png\">\n",
    "        </td>\n",
    "        <td>\n",
    "            <div align=\"left\", style=\"font-size:120%\">\n",
    "                <font color=\"#21618C\">\n",
    "                    <b>8. A magician wants you to select three cards from a pack of 52 cards without replacement. Find the probability that one card is a queen?</b>\n",
    "                </font>\n",
    "            </div>\n",
    "        </td>\n",
    "    </tr>\n",
    "</table>"
   ]
  },
  {
   "cell_type": "code",
   "execution_count": 26,
   "metadata": {
    "id": "6iAxYHJIdLgt",
    "outputId": "de744060-0b73-4651-9235-ba6d95e23b95"
   },
   "outputs": [
    {
     "name": "stdout",
     "output_type": "stream",
     "text": [
      "The probability of occurrence of a queen among selected cards is: 0.2041628959276018\n"
     ]
    }
   ],
   "source": [
    "# Write answer here\n",
    "def combination(n, r):\n",
    "    result = factorial(n) / (factorial(r) * factorial(n-r))\n",
    "    return result\n",
    "\n",
    "n = 52\n",
    "total_ways = combination(n, 3)\n",
    "num_A = combination(4, 1)* combination(48, 2)\n",
    "prob =  num_A / total_ways\n",
    "print('The probability of occurrence of a queen among selected cards is:', prob)"
   ]
  },
  {
   "cell_type": "markdown",
   "metadata": {},
   "source": [
    "<table align=\"left\">\n",
    "    <tr>\n",
    "        <td width=\"6%\">\n",
    "            <img src=\"question_icon.png\">\n",
    "        </td>\n",
    "        <td>\n",
    "            <div align=\"left\", style=\"font-size:120%\">\n",
    "                <font color=\"#21618C\">\n",
    "                    <b>9. The same magician wants another person to select three cards from a pack of 52 cards without replacement. Find the probability that at least one card is a queen?</b>\n",
    "                </font>\n",
    "            </div>\n",
    "        </td>\n",
    "    </tr>\n",
    "</table>"
   ]
  },
  {
   "cell_type": "code",
   "execution_count": 27,
   "metadata": {},
   "outputs": [
    {
     "name": "stdout",
     "output_type": "stream",
     "text": [
      "The probability of occurrence of at least one queen among selected cards is: 0.217\n"
     ]
    }
   ],
   "source": [
    "# Write answer here\n",
    "\n",
    "def combination(n, r):\n",
    "    result = factorial(n) / (factorial(r) * factorial(n-r))\n",
    "    return result \n",
    "n = 52\n",
    "total_ways = combination(n, 3)\n",
    "num_not_A = combination(48, 3)\n",
    "\n",
    "prob_at_least_one_queen =  1- num_not_A / total_ways\n",
    "\n",
    "print('The probability of occurrence of at least one queen among selected cards is:', round(prob_at_least_one_queen,3))"
   ]
  },
  {
   "cell_type": "markdown",
   "metadata": {},
   "source": [
    "<table align=\"left\">\n",
    "    <tr>\n",
    "        <td width=\"6%\">\n",
    "            <img src=\"question_icon.png\">\n",
    "        </td>\n",
    "        <td>\n",
    "            <div align=\"left\", style=\"font-size:120%\">\n",
    "                <font color=\"#21618C\">\n",
    "                    <b>10.The probability of parking in a no parking zone is 0.2. The probability of a day being crowded is 0.36. The probability of the day being crowded and parking in the no parking zone is 0.28. What is the probability that a person will park in the no parking zone given that the day is  crowded day.\n",
    "            </div>\n",
    "        </td>\n",
    "    </tr>\n",
    "</table>"
   ]
  },
  {
   "cell_type": "code",
   "execution_count": 28,
   "metadata": {},
   "outputs": [
    {
     "name": "stdout",
     "output_type": "stream",
     "text": [
      "The probability of the person will park in the no parking zone given the day is crowded : 0.778\n"
     ]
    }
   ],
   "source": [
    "# write answer here\n",
    "no_parking = 0.2\n",
    "crowded = 0.36\n",
    "crowded_no_parking = 0.28\n",
    "conditional_prob=(crowded_no_parking)/ crowded\n",
    "print('The probability of the person will park in the no parking zone given the day is crowded :',round(conditional_prob,3))"
   ]
  },
  {
   "cell_type": "markdown",
   "metadata": {},
   "source": [
    "<table align=\"left\">\n",
    "    <tr>\n",
    "        <td width=\"6%\">\n",
    "            <img src=\"question_icon.png\">\n",
    "        </td>\n",
    "        <td>\n",
    "            <div align=\"left\", style=\"font-size:120%\">\n",
    "                <font color=\"#21618C\">\n",
    "                    <b>11. A bulb manufacture company has two machines to produce bulbs, Machine A and Machine B. Machine A produces 80% of the bulbs and Machine B produces 20% of the bulbs. Machine A gives 10% defective bulb and Machine B gives 12% defective bulbs. What is the probability that a bulb selected at random which is defective is from Machine B.\n",
    "            </div>\n",
    "        </td>\n",
    "    </tr>\n",
    "</table>"
   ]
  },
  {
   "cell_type": "code",
   "execution_count": 29,
   "metadata": {},
   "outputs": [
    {
     "name": "stdout",
     "output_type": "stream",
     "text": [
      "The required probability is  0.231\n"
     ]
    }
   ],
   "source": [
    "# Write answer here\n",
    "Machine_A = .80\n",
    "Machine_B = .20\n",
    "Defective_given_Machine_A = .10\n",
    "Defective_given_Machine_B = .12\n",
    "defective_machine_B = (Defective_given_Machine_B * Machine_B)/((Defective_given_Machine_A*Machine_A) + (Defective_given_Machine_B*Machine_B))\n",
    "\n",
    "print(\"The required probability is \", round(defective_machine_B,3)) "
   ]
  }
 ],
 "metadata": {
  "kernelspec": {
   "display_name": "Python 3 (ipykernel)",
   "language": "python",
   "name": "python3"
  },
  "language_info": {
   "codemirror_mode": {
    "name": "ipython",
    "version": 3
   },
   "file_extension": ".py",
   "mimetype": "text/x-python",
   "name": "python",
   "nbconvert_exporter": "python",
   "pygments_lexer": "ipython3",
   "version": "3.9.12"
  }
 },
 "nbformat": 4,
 "nbformat_minor": 2
}
