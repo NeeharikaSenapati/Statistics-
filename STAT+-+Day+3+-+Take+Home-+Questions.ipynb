{
 "cells": [
  {
   "cell_type": "markdown",
   "id": "f6cbd6d4",
   "metadata": {},
   "source": [
    "<table align=\"center\" width=100%>\n",
    "    <tr>\n",
    "        <td width=\"20%\">\n",
    "            <img src=\"GL-2.png\">\n",
    "        </td>\n",
    "        <td>\n",
    "            <div align=\"center\">\n",
    "                <font color=\"#21618C\" size=8px>\n",
    "                    <b> Take Home <br>(Day 3)\n",
    "                    </b>\n",
    "                </font>\n",
    "            </div>\n",
    "        </td>\n",
    "    </tr>\n",
    "</table>"
   ]
  },
  {
   "cell_type": "markdown",
   "id": "922a354b",
   "metadata": {},
   "source": [
    "**Import the required libraries**"
   ]
  },
  {
   "cell_type": "markdown",
   "id": "ee80dd9c",
   "metadata": {},
   "source": [
    "### Let's begin with some hands-on practice exercises"
   ]
  },
  {
   "cell_type": "markdown",
   "id": "522e72cc",
   "metadata": {},
   "source": [
    "### Parameter Estimation"
   ]
  },
  {
   "cell_type": "code",
   "execution_count": 6,
   "id": "4141b8a8",
   "metadata": {},
   "outputs": [],
   "source": [
    "# type your code here\n",
    "import pandas as pd \n",
    "\n",
    "# import 'numpy' \n",
    "import numpy as np\n",
    "\n",
    "# import subpackage of matplotlib\n",
    "import matplotlib.pyplot as plt\n",
    "\n",
    "# import 'seaborn'\n",
    "import seaborn as sns\n",
    "\n",
    "# to suppress warnings \n",
    "from warnings import filterwarnings\n",
    "filterwarnings('ignore')\n",
    "\n",
    "# import 'random' to generate random sample\n",
    "import random\n",
    "\n",
    "# import statistics to perform statistical computation  \n",
    "import statistics\n",
    "\n",
    "# import 'stats' package from scipy library\n",
    "from scipy import stats\n",
    "\n",
    "# import a library to perform Z-test\n",
    "from statsmodels.stats import weightstats as stests\n",
    "\n",
    "# to test the normality \n",
    "from scipy.stats import shapiro\n",
    "\n",
    "# import the function to calculate the power of test\n",
    "from statsmodels.stats import power"
   ]
  },
  {
   "cell_type": "markdown",
   "id": "48be347a",
   "metadata": {},
   "source": [
    "<table align=\"left\">\n",
    "    <tr>\n",
    "        <td width=\"6%\">\n",
    "            <img src=\"question_icon.png\">\n",
    "        </td>\n",
    "        <td>\n",
    "            <div align=\"left\", style=\"font-size:120%\">\n",
    "                <font color=\"#21618C\">\n",
    "                    <b>1.Great Learning collected 500 students grades. From them, a sample of 70 students was selected, out of which 65 students were outstanding performers. Can you estimate the total number of outstanding performers? </b>\n",
    "                </font>\n",
    "            </div>\n",
    "        </td>\n",
    "    </tr>\n",
    "</table>"
   ]
  },
  {
   "cell_type": "code",
   "execution_count": 4,
   "id": "2bcae305",
   "metadata": {},
   "outputs": [
    {
     "name": "stdout",
     "output_type": "stream",
     "text": [
      "464\n"
     ]
    }
   ],
   "source": [
    "# type solution here\n",
    "N=500\n",
    "n=70\n",
    "x=65\n",
    "p_sample=x/n\n",
    "no_of_outstanding_performers=p_sample*N\n",
    "print (round(no_of_outstanding_performers))\n"
   ]
  },
  {
   "cell_type": "markdown",
   "id": "fe9b000f",
   "metadata": {},
   "source": [
    "<table align=\"left\">\n",
    "    <tr>\n",
    "        <td width=\"6%\">\n",
    "            <img src=\"question_icon.png\">\n",
    "        </td>\n",
    "        <td>\n",
    "            <div align=\"left\", style=\"font-size:120%\">\n",
    "                <font color=\"#21618C\">\n",
    "                    <b>2. Great Learning has collected 500 students grades. From them, A sample of 70 students marks was selected, out of which 6 students were underperformers. Estimate the population propotion with 95% confidence interval. \n",
    "</b>\n",
    "                </font>\n",
    "            </div>\n",
    "        </td>\n",
    "    </tr>\n",
    "</table>"
   ]
  },
  {
   "cell_type": "code",
   "execution_count": 9,
   "id": "18c2f8b9",
   "metadata": {},
   "outputs": [
    {
     "name": "stdout",
     "output_type": "stream",
     "text": [
      "(0.02, 0.15)\n"
     ]
    }
   ],
   "source": [
    "# type solution here\n",
    "\n",
    "# find the pop prop usinf the p(1-p)/n formula\n",
    "N=500\n",
    "n=70\n",
    "x=6\n",
    "p_sample=x/n\n",
    "interval=stats.norm.interval(0.95,loc=p_sample,scale=np.sqrt((p_sample*(1-p_sample))/n))\n",
    "interval = round(interval[0],2),round(interval[1],2)\n",
    "print(interval)"
   ]
  },
  {
   "cell_type": "markdown",
   "id": "c9772c43",
   "metadata": {},
   "source": [
    "<table align=\"left\">\n",
    "    <tr>\n",
    "        <td width=\"6%\">\n",
    "            <img src=\"question_icon.png\">\n",
    "        </td>\n",
    "        <td>\n",
    "            <div align=\"left\", style=\"font-size:120%\">\n",
    "                <font color=\"#21618C\">\n",
    "                    <b>3. A team of IT experts wants to estimate the average time required to a system to run a specific program. The team aims to estimate the average time with 95% confidence. A technical report from last week shows that the standard deviation is 3.8 minutes. The team decides that the margin of error should be 1.2 minutes. How many systems should the team choose for the estimation? </b>\n",
    "                </font>\n",
    "            </div>\n",
    "        </td>\n",
    "    </tr>\n",
    "</table>"
   ]
  },
  {
   "cell_type": "code",
   "execution_count": 7,
   "id": "f554c3f5",
   "metadata": {},
   "outputs": [
    {
     "name": "stdout",
     "output_type": "stream",
     "text": [
      "no of systems should the team choose for the estimation is  39\n"
     ]
    }
   ],
   "source": [
    "# type solution here\n",
    "\n",
    "# find n \n",
    "std=3.8\n",
    "ME=1.2\n",
    "CL=0.95\n",
    "alpha=1-0.95\n",
    "zalphaby2=np.abs(round(stats.norm.isf(q=alpha/2),3))\n",
    "n=round((zalphaby2**2)*((std**2)/(ME**2)))\n",
    "print(\"no of systems should the team choose for the estimation is \",n)"
   ]
  },
  {
   "cell_type": "markdown",
   "id": "70d22f38",
   "metadata": {},
   "source": [
    "<table align=\"left\">\n",
    "    <tr>\n",
    "        <td width=\"6%\">\n",
    "            <img src=\"question_icon.png\">\n",
    "        </td>\n",
    "        <td>\n",
    "            <div align=\"left\", style=\"font-size:120%\">\n",
    "                <font color=\"#21618C\">\n",
    "                    <b>4. The production manager at the Xen Sewing Factory claims that on average the diameter of a class 14M bobbin is less than 18 mm. The previous study shows that the standard deviation is 1.7 mm. Consider a sample of 40 class 14M bobbins from a normally distributed population with sample mean diameter as 17.5 mm. Calculate 99% confidence interval for the population mean diameter.\n",
    "</b>\n",
    "                </font>\n",
    "            </div>\n",
    "        </td>\n",
    "    </tr>\n",
    "</table>"
   ]
  },
  {
   "cell_type": "code",
   "execution_count": 14,
   "id": "f92e8eaa",
   "metadata": {},
   "outputs": [
    {
     "name": "stdout",
     "output_type": "stream",
     "text": [
      "(16.98, 18.02)\n"
     ]
    }
   ],
   "source": [
    "# type solution here\n",
    "N=40\n",
    "std=1.7\n",
    "mean=17.5\n",
    "interval=stats.norm.interval(0.99,loc=mean,scale=std/np.sqrt(n))\n",
    "interval = round(interval[0],2),round(interval[1],2)\n",
    "print(interval)\n"
   ]
  },
  {
   "cell_type": "markdown",
   "id": "a635eed0",
   "metadata": {},
   "source": [
    "<table align=\"left\">\n",
    "    <tr>\n",
    "        <td width=\"6%\">\n",
    "            <img src=\"question_icon.png\">\n",
    "        </td>\n",
    "        <td>\n",
    "            <div align=\"left\", style=\"font-size:120%\">\n",
    "                <font color=\"#21618C\">\n",
    "                    <b>5. A construction company wants to estimate the daily wages of contract workers. In the construction business, the wages of contract workers follow the normal distribution with a standard deviation of 85 dollars. A sample of wages for 50 contract workers is considered for the study. Calculate the margin of error for a 95% confidence level.</b>\n",
    "                </font>\n",
    "            </div>\n",
    "        </td>\n",
    "    </tr>\n",
    "</table>"
   ]
  },
  {
   "cell_type": "code",
   "execution_count": 15,
   "id": "f2b12361",
   "metadata": {},
   "outputs": [
    {
     "name": "stdout",
     "output_type": "stream",
     "text": [
      "23.56\n"
     ]
    }
   ],
   "source": [
    "# type solution here\n",
    "std=85\n",
    "n=50\n",
    "CL=0.95\n",
    "alpha=1-0.95\n",
    "zalphaby2=np.abs(round(stats.norm.isf(q=alpha/2),3))\n",
    "ME=(zalphaby2*std)/np.sqrt(n)\n",
    "print(round(ME,2))"
   ]
  },
  {
   "cell_type": "markdown",
   "id": "01bb245d",
   "metadata": {},
   "source": [
    "<table align=\"left\">\n",
    "    <tr>\n",
    "        <td width=\"6%\">\n",
    "            <img src=\"question_icon.png\">\n",
    "        </td>\n",
    "        <td>\n",
    "            <div align=\"left\", style=\"font-size:120%\">\n",
    "                <font color=\"#21618C\">\n",
    "                    <b>6. The physical trainer at a university wants to estimate the average height of students at the university. The trainer collects the data of 100 students and found that the average height is 168 cm with a standard deviation of 12 cm. Find the 95% confidence interval for the population average height.</b>\n",
    "                </font>\n",
    "            </div>\n",
    "        </td>\n",
    "    </tr>\n",
    "</table>"
   ]
  },
  {
   "cell_type": "code",
   "execution_count": 16,
   "id": "0758417d",
   "metadata": {},
   "outputs": [
    {
     "name": "stdout",
     "output_type": "stream",
     "text": [
      "(165.65, 170.35)\n"
     ]
    }
   ],
   "source": [
    "# type solution here\n",
    "n=100\n",
    "mean=168\n",
    "std=12\n",
    "interval=stats.norm.interval(0.95,loc=mean,scale=std/np.sqrt(n))\n",
    "interval=round(interval[0],2),round(interval[1],2)\n",
    "print(interval)\n"
   ]
  },
  {
   "cell_type": "markdown",
   "id": "30c8762b",
   "metadata": {},
   "source": [
    "<table align=\"left\">\n",
    "    <tr>\n",
    "        <td width=\"6%\">\n",
    "            <img src=\"question_icon.png\">\n",
    "        </td>\n",
    "        <td>\n",
    "            <div align=\"left\", style=\"font-size:120%\">\n",
    "                <font color=\"#21618C\">\n",
    "                    <b>7. To study the climate changes, a sample of data of temperature in California is collected for 20 summer days. Calculate 95% confidence interval for the population mean temperature.</b>\n",
    "                </font>\n",
    "            </div>\n",
    "        </td>\n",
    "    </tr>\n",
    "</table>"
   ]
  },
  {
   "cell_type": "markdown",
   "id": "0af07b72",
   "metadata": {},
   "source": [
    "Use the data given below:\n",
    "        \n",
    "            temp (in F) = [51, 68, 83, 93, 89, 58, 79, 54, 60, 77, 87, 57, 63, 85, 92, 74, 67, 88, 91, 82]"
   ]
  },
  {
   "cell_type": "code",
   "execution_count": 22,
   "id": "cc1767f6",
   "metadata": {},
   "outputs": [
    {
     "name": "stdout",
     "output_type": "stream",
     "text": [
      "(68.92, 80.88)\n"
     ]
    }
   ],
   "source": [
    "# type solution here\n",
    "temp  = [51, 68, 83, 93, 89, 58, 79, 54, 60, 77, 87, 57, 63, 85, 92, 74, 67, 88, 91, 82]\n",
    "mean=np.mean(temp)\n",
    "std=np.std(temp)\n",
    "n=len(temp)\n",
    "interval=stats.norm.interval(0.95,loc=mean,scale=std/np.sqrt(n))\n",
    "interval=round(interval[0],2),round(interval[1],2)\n",
    "print(interval)"
   ]
  },
  {
   "cell_type": "markdown",
   "id": "eb19c606",
   "metadata": {},
   "source": [
    "<table align=\"left\">\n",
    "    <tr>\n",
    "        <td width=\"6%\">\n",
    "            <img src=\"question_icon.png\">\n",
    "        </td>\n",
    "        <td>\n",
    "            <div align=\"left\", style=\"font-size:120%\">\n",
    "                <font color=\"#21618C\">\n",
    "                    <b>8. The health magazine in Los Angeles states that a person should drink 1.8 L water every day. To study this statement, the physician collects the data of 15 people and found that the average water intake for these people is 1.6 L with a standard deviation of 0.5 L. Calculate the 90% confidence interval for the population average water intake.</b>\n",
    "                </font>\n",
    "            </div>\n",
    "        </td>\n",
    "    </tr>\n",
    "</table>"
   ]
  },
  {
   "cell_type": "code",
   "execution_count": 23,
   "id": "7e4c328e",
   "metadata": {},
   "outputs": [
    {
     "name": "stdout",
     "output_type": "stream",
     "text": [
      "(1.39, 1.81)\n"
     ]
    }
   ],
   "source": [
    "# type solution here\n",
    "n=15\n",
    "mean=1.6\n",
    "std=0.5\n",
    "interval=stats.norm.interval(0.90,loc=mean,scale=std/np.sqrt(n))\n",
    "interval=round(interval[0],2),round(interval[1],2)\n",
    "print(interval)"
   ]
  },
  {
   "cell_type": "markdown",
   "id": "593e06f9",
   "metadata": {},
   "source": [
    "## Hypothesis Testing"
   ]
  },
  {
   "cell_type": "markdown",
   "id": "17e8c15d",
   "metadata": {},
   "source": [
    "<table align=\"left\">\n",
    "    <tr>\n",
    "        <td width=\"6%\">\n",
    "            <img src=\"question_icon.png\">\n",
    "        </td>\n",
    "        <td>\n",
    "            <div align=\"left\", style=\"font-size:120%\">\n",
    "                <font color=\"#21618C\">\n",
    "                    <b>9. The quality assurance department claims that on average the non-fat yogurt contains less than 148 mg of potassium per 100 g pack. To check this claim 35 packs of yogurt are collected and the content of potassium is recorded. Can we use the Z-test to test the claim of the quality assurance department at  α = 0.05.   \n",
    "</b>\n",
    "                </font>\n",
    "            </div>\n",
    "        </td>\n",
    "    </tr>\n",
    "</table>"
   ]
  },
  {
   "cell_type": "code",
   "execution_count": 24,
   "id": "b7b0d992",
   "metadata": {},
   "outputs": [],
   "source": [
    "# type solution here\n",
    "pot_mg = [151, 159, 168, 146, 129, 147, 149, 141, 150, 158, 119, 125, 139, 154, 163, 156, 132, 137, 126, 152,\n",
    "                127, 135, 138, 145, 128, 148, 153, 124, 170, 134, 157, 164, 144, 160, 161]\n"
   ]
  },
  {
   "cell_type": "code",
   "execution_count": 25,
   "id": "a1677e2e",
   "metadata": {},
   "outputs": [
    {
     "name": "stdout",
     "output_type": "stream",
     "text": [
      "0.4285268187522888\n"
     ]
    }
   ],
   "source": [
    "stat,p_val=shapiro(pot_mg)\n",
    "print(p_val)\n",
    "# alpha =0.05\n",
    "# p_val>alpha so we fail to reject which implies the distribution is normal and we can apply z test"
   ]
  },
  {
   "cell_type": "markdown",
   "id": "5c4e1601",
   "metadata": {},
   "source": [
    "<table align=\"left\">\n",
    "    <tr>\n",
    "        <td width=\"6%\">\n",
    "            <img src=\"question_icon.png\">\n",
    "        </td>\n",
    "        <td>\n",
    "            <div align=\"left\", style=\"font-size:120%\">\n",
    "                <font color=\"#21618C\">\n",
    "                    <b>10. The quality assurance department claims that on average the non-fat yogurt contains less than 148 mg of potassium per 100 g pack. To check this claim 35 packs of yogurt are collected and the content of potassium is recorded. Use 0.05 as a level of significance to test the claim using p-value technique.   \n",
    "</b>\n",
    "                </font>\n",
    "            </div>\n",
    "        </td>\n",
    "    </tr>\n",
    "</table>"
   ]
  },
  {
   "cell_type": "markdown",
   "id": "411bd4f6",
   "metadata": {},
   "source": [
    "Use the data given below:\n",
    "        \n",
    "          pot_mg = [151, 159, 168, 146, 129, 147, 149, 141, 150, 158, 119, 125, 139, 154, 163, 156, 132, 137, 126, 152,\n",
    "                    127, 135, 138, 145, 128, 148, 153, 124, 170, 134, 157, 164, 144, 160, 161]"
   ]
  },
  {
   "cell_type": "code",
   "execution_count": 26,
   "id": "ebecdac6",
   "metadata": {},
   "outputs": [],
   "source": [
    "\n",
    "pot_mg = [151, 159, 168, 146, 129, 147, 149, 141, 150, 158, 119, 125, 139, 154, 163, 156, 132, 137, 126, 152,\n",
    "                127, 135, 138, 145, 128, 148, 153, 124, 170, 134, 157, 164, 144, 160, 161]# type solution here"
   ]
  },
  {
   "cell_type": "code",
   "execution_count": 27,
   "id": "a1cda80d",
   "metadata": {},
   "outputs": [
    {
     "name": "stdout",
     "output_type": "stream",
     "text": [
      "0.13356148631189496\n"
     ]
    }
   ],
   "source": [
    "#H0: miu=148\n",
    "#H1: miu<148\n",
    "n=35\n",
    "zstats,p_val=stests.ztest(pot_mg,value=148,alternative=\"smaller\")\n",
    "print(p_val)\n",
    "# alpha=0.05\n",
    "# p_val>alpha hence we fail to reject the null"
   ]
  },
  {
   "cell_type": "markdown",
   "id": "e348e1fb",
   "metadata": {},
   "source": [
    "<table align=\"left\">\n",
    "    <tr>\n",
    "        <td width=\"6%\">\n",
    "            <img src=\"question_icon.png\">\n",
    "        </td>\n",
    "        <td>\n",
    "            <div align=\"left\", style=\"font-size:120%\">\n",
    "                <font color=\"#21618C\">\n",
    "                    <b>11. The production manager at the Xen Sewing Factory claims that on average the diameter of a class 14M bobbin is less than 18 mm. The previous study shows that the standard deviation is 1.7 mm. Consider a sample of 40 class 14M bobbins from a normally distributed population with sample mean diameter as 17.5 mm. Test the claim of the production manager with 99% confidence. \n",
    "</b>\n",
    "                </font>\n",
    "            </div>\n",
    "        </td>\n",
    "    </tr>\n",
    "</table>"
   ]
  },
  {
   "cell_type": "code",
   "execution_count": 32,
   "id": "73f874e1",
   "metadata": {},
   "outputs": [
    {
     "name": "stdout",
     "output_type": "stream",
     "text": [
      "-1.86\n"
     ]
    }
   ],
   "source": [
    "# type solution here\n",
    "#H0:miu=18\n",
    "#H1:miu<18\n",
    "\n",
    "def ztest(pop_mean,pop_std,n,samp_mean):\n",
    "    z_cal=(samp_mean-pop_mean)/(pop_std/np.sqrt(n))\n",
    "    return z_cal\n",
    "n=40\n",
    "pop_mean=18\n",
    "pop_std=1.7\n",
    "samp_mean=17.5\n",
    "\n",
    "z_cal=ztest(pop_mean,pop_std,n,samp_mean)\n",
    "z_cal=round(z_cal,2)\n",
    "print(z_cal)\n",
    "\n"
   ]
  },
  {
   "cell_type": "code",
   "execution_count": 34,
   "id": "bd94fff0",
   "metadata": {},
   "outputs": [
    {
     "name": "stdout",
     "output_type": "stream",
     "text": [
      "0.03144276298075271\n"
     ]
    }
   ],
   "source": [
    "p_value = stats.norm.cdf(z_cal)\n",
    "print (p_value)\n",
    "\n",
    "# pval>alpha we fail to reject hence there is Not enough to conclude that average diameter of bobbins is less than 18mm."
   ]
  },
  {
   "cell_type": "markdown",
   "id": "8e547bf8",
   "metadata": {},
   "source": [
    "<table align=\"left\">\n",
    "    <tr>\n",
    "        <td width=\"6%\">\n",
    "            <img src=\"question_icon.png\">\n",
    "        </td>\n",
    "        <td>\n",
    "            <div align=\"left\", style=\"font-size:120%\">\n",
    "                <font color=\"#21618C\">\n",
    "                    <b>12. The production manager at the automobile company states that all the steel rods are produced with an average length of 26 cm and a standard deviation of 2.4 cm. The length of 60 rods is collected as a sample and the average length of these rods is found to be 24.8 cm. Test whether the length of the rod is different than 26 cm with a 95% confidence interval. Assume the distribution is normal</b>\n",
    "                </font>\n",
    "            </div>\n",
    "        </td>\n",
    "    </tr>\n",
    "</table>"
   ]
  },
  {
   "cell_type": "code",
   "execution_count": 35,
   "id": "c87fa343",
   "metadata": {},
   "outputs": [
    {
     "name": "stdout",
     "output_type": "stream",
     "text": [
      "(16.89, 18.11)\n"
     ]
    }
   ],
   "source": [
    "# type solution here\n",
    "#H0: miu=26\n",
    "#H1: miu!=26\n",
    "pop_mean=26\n",
    "n=60\n",
    "samp_mean\n",
    "pop_std=2.4\n",
    "interval=stats.norm.interval(0.95,loc=samp_mean,scale=pop_std/np.sqrt(n))\n",
    "interval = round(interval[0],2),round(interval[1],2)\n",
    "print(interval)\n",
    "# 26 lies outside the interval hence we reject the null hypotesis"
   ]
  },
  {
   "cell_type": "markdown",
   "id": "15420772",
   "metadata": {},
   "source": [
    "<table align=\"left\">\n",
    "    <tr>\n",
    "        <td width=\"6%\">\n",
    "            <img src=\"question_icon.png\">\n",
    "        </td>\n",
    "        <td>\n",
    "            <div align=\"left\", style=\"font-size:120%\">\n",
    "                <font color=\"#21618C\">\n",
    "                        <b>13. The production manager at tea emporium claims that the weight of a green tea bag is less than 3.5 g. To test the manager's claim consider a sample of 50 tea bags. The sample average weight is found to be 3.28 g with a standard deviation of 0.6 g. Use the p-value technique to test the claim at a 10% level of significance. Assume the distribution is normal. </b>\n",
    "                </font>\n",
    "            </div>\n",
    "        </td>\n",
    "    </tr>\n",
    "</table>"
   ]
  },
  {
   "cell_type": "code",
   "execution_count": 37,
   "id": "b817b376",
   "metadata": {},
   "outputs": [
    {
     "name": "stdout",
     "output_type": "stream",
     "text": [
      "-2.59\n"
     ]
    }
   ],
   "source": [
    "# type solution here\n",
    "#H0: miu=35\n",
    "#H1: miu<35\n",
    "def ztest(pop_mean,pop_std,n,samp_mean):\n",
    "    z_cal=(samp_mean-pop_mean)/(pop_std/np.sqrt(n))\n",
    "    return z_cal\n",
    "n=50\n",
    "samp_mean=3.28\n",
    "pop_std=0.6\n",
    "pop_mean=3.5\n",
    "\n",
    "z_cal= ztest(pop_mean,pop_std,n,samp_mean)\n",
    "print(round(z_cal,2))"
   ]
  },
  {
   "cell_type": "code",
   "execution_count": 38,
   "id": "dec22067",
   "metadata": {},
   "outputs": [
    {
     "name": "stdout",
     "output_type": "stream",
     "text": [
      "0.0047609455920493825\n"
     ]
    }
   ],
   "source": [
    "p_value = stats.norm.cdf(z_cal)\n",
    "print (p_value)\n",
    "# pval<alpha so we reject the null and state that \n",
    "#that there is enough evidence to conclude that the average weight of green tea bags is less than 3.5 gms"
   ]
  },
  {
   "cell_type": "markdown",
   "id": "80c40a2f",
   "metadata": {},
   "source": [
    "<table align=\"left\">\n",
    "    <tr>\n",
    "        <td width=\"6%\">\n",
    "            <img src=\"question_icon.png\">\n",
    "        </td>\n",
    "        <td>\n",
    "            <div align=\"left\", style=\"font-size:120%\">\n",
    "                <font color=\"#21618C\">\n",
    "                    <b>14. The physician at university claims that the average height of male students in the university hostel is more than 175 cm with a standard deviation of 8 cm. To test the claim the physical trainer at a university collects the data of 75 male students in the hostel and calculate the average height of those 75 students as 176.3 cm. Test the physician's claim at 95% confidence. Assume the distribution is normal.\n",
    "</b>\n",
    "                </font>\n",
    "            </div>\n",
    "        </td>\n",
    "    </tr>\n",
    "</table>"
   ]
  },
  {
   "cell_type": "code",
   "execution_count": 39,
   "id": "08e80ca7",
   "metadata": {},
   "outputs": [
    {
     "name": "stdout",
     "output_type": "stream",
     "text": [
      "1.41\n"
     ]
    }
   ],
   "source": [
    "# type solution here\n",
    "#H0: miu=175\n",
    "#H1: miu>175\n",
    "def ztest(pop_mean,pop_std,n,samp_mean):\n",
    "    z_cal=(samp_mean-pop_mean)/(pop_std/np.sqrt(n))\n",
    "    return z_cal\n",
    "n=75\n",
    "samp_mean=176.3\n",
    "pop_std=8\n",
    "pop_mean=175\n",
    "\n",
    "z_cal= ztest(pop_mean,pop_std,n,samp_mean)\n",
    "print(round(z_cal,2))"
   ]
  },
  {
   "cell_type": "code",
   "execution_count": 40,
   "id": "803940ad",
   "metadata": {},
   "outputs": [
    {
     "name": "stdout",
     "output_type": "stream",
     "text": [
      "0.07967051682425197\n"
     ]
    }
   ],
   "source": [
    "p_value = 1-stats.norm.cdf(z_cal)  # more is given in ques\n",
    "print (p_value)\n",
    "#pval>alpha hence we fail to reject the null\n",
    "#hence there is Not enough evidence to conclude that the average height of hostel students is greater than 175 cm."
   ]
  },
  {
   "cell_type": "markdown",
   "id": "0e2e8c08",
   "metadata": {},
   "source": [
    "<table align=\"left\">\n",
    "    <tr>\n",
    "        <td width=\"6%\">\n",
    "            <img src=\"question_icon.png\">\n",
    "        </td>\n",
    "        <td>\n",
    "            <div align=\"left\", style=\"font-size:120%\">\n",
    "                <font color=\"#21618C\">\n",
    "                            <b>15. The economic journal claims that the students who graduated from tier 1 universities get more salary than the average salary of 35000$. A random sample of 20 graduated students is selected to test the claim. Use p-value criteria to test the claim with 0.1 as a level of significance. Assume the data is normally distributed. \n",
    "</b>\n",
    "                </font>\n",
    "            </div>\n",
    "        </td>\n",
    "    </tr>\n",
    "</table>"
   ]
  },
  {
   "cell_type": "markdown",
   "id": "8e9b197f",
   "metadata": {},
   "source": [
    "Use the data given below:\n",
    "\n",
    "        salary = [29560, 26534, 31020, 44300, 52335, 69190, 71100, 80100, 90000, 41002, 46118, 88129, 79713, 95881, 47989,\n",
    "                  15188, 91631, 96189, 77819, 79590]"
   ]
  },
  {
   "cell_type": "code",
   "execution_count": 41,
   "id": "0d827ad8",
   "metadata": {},
   "outputs": [
    {
     "name": "stdout",
     "output_type": "stream",
     "text": [
      "0.1006370484828949\n"
     ]
    }
   ],
   "source": [
    "# type solution here\n",
    "salary = [29560, 26534, 31020, 44300, 52335, 69190, 71100, 80100, 90000, 41002, 46118, 88129, 79713, 95881, 47989,\n",
    "              15188, 91631, 96189, 77819, 79590]\n",
    "mean=np.mean(salary)\n",
    "std=np.std(salary)\n",
    "n=len(salary)\n",
    "# normality\n",
    "stat, p_value = shapiro(salary)\n",
    "print(p_value)\n",
    "#p_value>alpha hence normally distributed\n"
   ]
  },
  {
   "cell_type": "code",
   "execution_count": 45,
   "id": "451a2755",
   "metadata": {},
   "outputs": [
    {
     "name": "stdout",
     "output_type": "stream",
     "text": [
      "0.0001\n"
     ]
    }
   ],
   "source": [
    "#H0:miu=35000\n",
    "#H1:miu>35000\n",
    "t_stat, p_val = stats.ttest_1samp(a = salary, popmean = 35000)\n",
    "req_p_val = p_val/2\n",
    "print (round(req_p_val,4))\n",
    "# pval<alpha so we reject the null"
   ]
  }
 ],
 "metadata": {
  "kernelspec": {
   "display_name": "Python 3 (ipykernel)",
   "language": "python",
   "name": "python3"
  },
  "language_info": {
   "codemirror_mode": {
    "name": "ipython",
    "version": 3
   },
   "file_extension": ".py",
   "mimetype": "text/x-python",
   "name": "python",
   "nbconvert_exporter": "python",
   "pygments_lexer": "ipython3",
   "version": "3.9.12"
  }
 },
 "nbformat": 4,
 "nbformat_minor": 5
}
