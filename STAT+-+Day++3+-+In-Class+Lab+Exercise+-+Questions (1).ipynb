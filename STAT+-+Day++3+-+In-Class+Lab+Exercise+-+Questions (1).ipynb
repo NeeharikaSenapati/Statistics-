{
 "cells": [
  {
   "cell_type": "markdown",
   "metadata": {
    "colab_type": "text",
    "id": "0yzl3MKzf98L"
   },
   "source": [
    "<table align=\"center\" width=100%>\n",
    "    <tr>\n",
    "        <td width=\"20%\">\n",
    "            <img src=\"GL-2.png\">\n",
    "        </td>\n",
    "        <td>\n",
    "            <div align=\"center\">\n",
    "                <font color=\"#21618C\" size=8px>\n",
    "                    <b> Inclass-Lab  <br>(Day  3)\n",
    "                    </b>\n",
    "                </font>\n",
    "            </div>\n",
    "        </td>\n",
    "    </tr>\n",
    "</table>"
   ]
  },
  {
   "cell_type": "markdown",
   "metadata": {},
   "source": [
    "## Table of Content\n",
    "\n",
    "1. **[Import Libraries](#lib)**\n",
    "2. **[Parameter Estimation](#est)**\n",
    "3. **[Test of Hypothesis](#TOH)**\n",
    "\n"
   ]
  },
  {
   "cell_type": "markdown",
   "metadata": {},
   "source": [
    "<a id= \"lib\"></a>\n",
    "## 1. Import the required libraries"
   ]
  },
  {
   "cell_type": "code",
   "execution_count": 2,
   "metadata": {},
   "outputs": [],
   "source": [
    "# type your code here\n",
    "import pandas as pd \n",
    "\n",
    "# import 'numpy' \n",
    "import numpy as np\n",
    "\n",
    "# import subpackage of matplotlib\n",
    "import matplotlib.pyplot as plt\n",
    "\n",
    "# import 'seaborn'\n",
    "import seaborn as sns\n",
    "\n",
    "# to suppress warnings \n",
    "from warnings import filterwarnings\n",
    "filterwarnings('ignore')\n",
    "\n",
    "# import 'random' to generate random sample\n",
    "import random\n",
    "\n",
    "# import statistics to perform statistical computation  \n",
    "import statistics\n",
    "\n",
    "# import 'stats' package from scipy library\n",
    "from scipy import stats\n",
    "\n",
    "# import a library to perform Z-test\n",
    "from statsmodels.stats import weightstats as stests\n",
    "\n",
    "# to test the normality \n",
    "from scipy.stats import shapiro\n",
    "\n",
    "# import the function to calculate the power of test\n",
    "from statsmodels.stats import power"
   ]
  },
  {
   "cell_type": "markdown",
   "metadata": {
    "colab_type": "text",
    "id": "psOYFu6zf98N"
   },
   "source": [
    "### Let's begin with some hands-on practice exercises"
   ]
  },
  {
   "cell_type": "markdown",
   "metadata": {
    "colab_type": "text",
    "id": "r4J-iIEhf98N"
   },
   "source": [
    "<a id = \"est\"> </a>\n",
    "## 2. Parameter Estimation"
   ]
  },
  {
   "cell_type": "markdown",
   "metadata": {},
   "source": [
    "<table align=\"left\">\n",
    "    <tr>\n",
    "        <td width=\"6%\">\n",
    "            <img src=\"question_icon.png\">\n",
    "        </td>\n",
    "        <td>\n",
    "            <div align=\"left\", style=\"font-size:120%\">\n",
    "                <font color=\"#21618C\">\n",
    "                    <b>1. The quality controller at the automobile company needs to know the average length of a steel rod produced in the company. He managed to collect the length (in cm) of 15 rods produced in the last week. Find the point estimate for the average length of the steel rod using sample data. </b>\n",
    "                </font>\n",
    "            </div>\n",
    "        </td>\n",
    "    </tr>\n",
    "</table>"
   ]
  },
  {
   "cell_type": "markdown",
   "metadata": {},
   "source": [
    "Given data:\n",
    "\n",
    "        len_rod (cm) = [25.2, 26.3, 28, 21.9, 23.4, 24, 27.2, 23, 29.2, 28.7, 23.1, 23.5, 26.4, 22.8, 24.7]"
   ]
  },
  {
   "cell_type": "code",
   "execution_count": 3,
   "metadata": {},
   "outputs": [
    {
     "name": "stdout",
     "output_type": "stream",
     "text": [
      "25.16\n"
     ]
    }
   ],
   "source": [
    "# type your code here\n",
    "# point esimate is xbar\n",
    "len_rod= [25.2, 26.3, 28, 21.9, 23.4, 24, 27.2, 23, 29.2, 28.7, 23.1, 23.5, 26.4, 22.8, 24.7]\n",
    "len_mean=np.mean(len_rod)\n",
    "print(len_mean)"
   ]
  },
  {
   "cell_type": "markdown",
   "metadata": {
    "colab_type": "text",
    "id": "9qnEEhR4f98X"
   },
   "source": [
    "<table align=\"left\">\n",
    "    <tr>\n",
    "        <td width=\"6%\">\n",
    "            <img src=\"question_icon.png\">\n",
    "        </td>\n",
    "        <td>\n",
    "            <div align=\"left\", style=\"font-size:120%\">\n",
    "                <font color=\"#21618C\">\n",
    "                    <b>2. The meteorological department collected a sample of data for 20 summer days and wants to find the point estimate using below sample data.</b>\n",
    "                </font>\n",
    "            </div>\n",
    "        </td>\n",
    "    </tr>\n",
    "</table>"
   ]
  },
  {
   "cell_type": "markdown",
   "metadata": {},
   "source": [
    "Use the data given below:\n",
    "        \n",
    "            temp (in F) = [51, 68, 83, 93, 89, 58, 79, 54, 60, 77, 87, 57, 63, 85, 92, 74, 67, 88, 91, 82]"
   ]
  },
  {
   "cell_type": "code",
   "execution_count": 5,
   "metadata": {},
   "outputs": [
    {
     "name": "stdout",
     "output_type": "stream",
     "text": [
      "74.9\n",
      "13.645145656972664\n"
     ]
    }
   ],
   "source": [
    "# type your code here\n",
    "#\n",
    "temp = [51, 68, 83, 93, 89, 58, 79, 54, 60, 77, 87, 57, 63, 85, 92, 74, 67, 88, 91, 82]\n",
    "temp_mean=np.mean(temp)\n",
    "print(temp_mean)\n",
    "temp_std=np.std(temp)\n",
    "print(temp_std)"
   ]
  },
  {
   "cell_type": "markdown",
   "metadata": {},
   "source": [
    "<a id= \"IE\"></a>\n",
    "### Interval Estimation:"
   ]
  },
  {
   "cell_type": "markdown",
   "metadata": {},
   "source": [
    "<table align=\"left\">\n",
    "    <tr>\n",
    "        <td width=\"6%\">\n",
    "            <img src=\"question_icon.png\">\n",
    "        </td>\n",
    "        <td>\n",
    "            <div align=\"left\", style=\"font-size:120%\">\n",
    "                <font color=\"#21618C\">\n",
    "                    <b>3. The production manager at tea emporium wants to estimate the weight of a green tea bag. The previous study shows that the standard deviation of weight is 2.3 g. The manager collects 65 tea bags for the study. How much margin of error the manager should be considered to estimate the weight with 99%  confidence. </b>\n",
    "                </font>\n",
    "            </div>\n",
    "        </td>\n",
    "    </tr>\n",
    "</table>"
   ]
  },
  {
   "cell_type": "code",
   "execution_count": 12,
   "metadata": {},
   "outputs": [
    {
     "name": "stdout",
     "output_type": "stream",
     "text": [
      "margin of error is 0.003708638564217333\n"
     ]
    }
   ],
   "source": [
    "# type your code here\n",
    "n=65\n",
    "sigma=2.3\n",
    "alpha=1 - .99\n",
    "# find zalpha/2\n",
    "zalphaby2=round(stats.norm.isf(q=(1-alpha)/2),3)\n",
    "ME=zalphaby2*(sigma/np.sqrt(n))\n",
    "print(\"margin of error is\",ME)"
   ]
  },
  {
   "cell_type": "markdown",
   "metadata": {},
   "source": [
    "<table align=\"left\">\n",
    "    <tr>\n",
    "        <td width=\"6%\">\n",
    "            <img src=\"question_icon.png\">\n",
    "        </td>\n",
    "        <td>\n",
    "            <div align=\"left\", style=\"font-size:120%\">\n",
    "                <font color=\"#21618C\">\n",
    "                    <b>4. The bank manager has received several fraud complaints from past  few weeks. The report from accountant states that the standard deviation in frauds is 16. The manager is ready to consider the margin of error as 5. To estimate the average number of frauds with 90% confidence how many transactions should the manager consider?</b>\n",
    "                </font>\n",
    "            </div>\n",
    "        </td>\n",
    "    </tr>\n",
    "</table>"
   ]
  },
  {
   "cell_type": "code",
   "execution_count": 20,
   "metadata": {},
   "outputs": [
    {
     "name": "stdout",
     "output_type": "stream",
     "text": [
      "28\n"
     ]
    }
   ],
   "source": [
    "# type your code here\n",
    "# find n\n",
    "std=16\n",
    "alpha=1 - .90\n",
    "# find zalpha/2\n",
    "zalphaby2=round(stats.norm.isf(q=(alpha)/2),3)\n",
    "ME=5\n",
    "samplesize=((zalphaby2*std)/ME)**2\n",
    "print(round(samplesize))"
   ]
  },
  {
   "cell_type": "markdown",
   "metadata": {
    "colab_type": "text",
    "id": "V7QJT8W9f98T"
   },
   "source": [
    "<table align=\"left\">\n",
    "    <tr>\n",
    "        <td width=\"6%\">\n",
    "            <img src=\"question_icon.png\">\n",
    "        </td>\n",
    "        <td>\n",
    "            <div align=\"left\", style=\"font-size:120%\">\n",
    "                <font color=\"#21618C\">\n",
    "                    <b>5. A pediatrician wants to check the amount of sugar in the 100g pack of baby food produced by KidsGrow company. The medical journal states that a standard deviation of sugar in 100g pack is 8g. The pediatrician collects 37 packets of baby food and found that the average sugar is 24g. Find the 90% confidence interval for the population mean.</b>\n",
    "                </font>\n",
    "            </div>\n",
    "        </td>\n",
    "    </tr>\n",
    "</table>"
   ]
  },
  {
   "cell_type": "code",
   "execution_count": 28,
   "metadata": {},
   "outputs": [
    {
     "name": "stdout",
     "output_type": "stream",
     "text": [
      "(21.837, 26.163)\n"
     ]
    }
   ],
   "source": [
    "# type your code here\n",
    "# CONFIDENCE INTERVAL ODF MEAN\n",
    "sigma=8\n",
    "n=37\n",
    "alpha=1-0.90\n",
    "xbar=24\n",
    "Confidence_Interval=stats.norm.interval(0.90,loc=xbar,scale=sigma/np.sqrt(n))\n",
    "# sample distribution\n",
    "Confidence_Interval=round(Confidence_Interval[0],3),round(Confidence_Interval[1],3)\n",
    "print(Confidence_Interval)\n"
   ]
  },
  {
   "cell_type": "markdown",
   "metadata": {
    "colab_type": "text",
    "id": "EFaFOXFTf99t"
   },
   "source": [
    "<table align=\"left\">\n",
    "    <tr>\n",
    "        <td width=\"6%\">\n",
    "            <img src=\"question_icon.png\">\n",
    "        </td>\n",
    "        <td>\n",
    "            <div align=\"left\", style=\"font-size:120%\">\n",
    "                <font color=\"#21618C\">\n",
    "                    <b>6. The NY university has opened the post of Astrophysics professor. The total number of applications was 36. To check the authenticity of the applicants a sample of 10 applications was collected, out of which 3 applicants were found to be a fraud. Construct the 95% confidence interval for the population proportion.</b>\n",
    "                </font>\n",
    "            </div>\n",
    "        </td>\n",
    "    </tr>\n",
    "</table>"
   ]
  },
  {
   "cell_type": "code",
   "execution_count": 36,
   "metadata": {},
   "outputs": [
    {
     "name": "stdout",
     "output_type": "stream",
     "text": [
      "(0.016, 0.584)\n"
     ]
    }
   ],
   "source": [
    "# type your code here\n",
    "N=36\n",
    "n=10\n",
    "p_cap=3/10 # location\n",
    "alpha=0.95\n",
    "Confidence_Interval=stats.norm.interval(0.95,loc=p_cap,scale=np.sqrt(p_cap*(1-p_cap)/n))\n",
    "Confidence_Interval=round(Confidence_Interval[0],3),round(Confidence_Interval[1],3)\n",
    "print(Confidence_Interval)\n",
    "                                        \n",
    "\n"
   ]
  },
  {
   "cell_type": "markdown",
   "metadata": {
    "colab_type": "text",
    "id": "QLSslfFdf98b"
   },
   "source": [
    "<a id= \"TOH\"></a>\n",
    "## 3. Test of Hypothesis"
   ]
  },
  {
   "cell_type": "markdown",
   "metadata": {},
   "source": [
    "<table align=\"left\">\n",
    "    <tr>\n",
    "        <td width=\"6%\">\n",
    "            <img src=\"question_icon.png\">\n",
    "        </td>\n",
    "        <td>\n",
    "            <div align=\"left\", style=\"font-size:120%\">\n",
    "                <font color=\"#21618C\">\n",
    "                    <b>7. The temperature (in degree Celsius) at Manhattan is recorded for 45 winter days. A student from the Geography department wants to test the claim proposed by the weather department. Check whether the given data satisfies the condition of normality with 99% confidence?</b>\n",
    "                </font>\n",
    "            </div>\n",
    "        </td>\n",
    "    </tr>\n",
    "</table>"
   ]
  },
  {
   "cell_type": "markdown",
   "metadata": {
    "colab_type": "text",
    "id": "YIaQZc58f98p"
   },
   "source": [
    "Use the data given below:\n",
    "        \n",
    "    temp_winter =  [2.51, 2.6, 1.8, 2.61, 3.9, 1.7, 1.9, 3.1, 1.58, 2.85, 2.9, 1.25, 1.3, 2.4, 3.22, 2.56, 1.32, 1.2, 1.26, \n",
    "                    3.2, 2.7, 3.5, 2.8, 1.5, 3.8, 1.84, 3.31, 1.24, 1.75, 1.41, 1.57, 1.4, 1.49, 2.26, 2.5, 2.52, 3.42, 1.36, \n",
    "                    2.35, 2.47, 2.28, 2.22, 2.66, 3.43, 1.98]"
   ]
  },
  {
   "cell_type": "code",
   "execution_count": 37,
   "metadata": {},
   "outputs": [
    {
     "name": "stdout",
     "output_type": "stream",
     "text": [
      "pvalue is : 0.034\n"
     ]
    }
   ],
   "source": [
    "# type your code here\n",
    "temp_winter =  [2.51, 2.6, 1.8, 2.61, 3.9, 1.7, 1.9, 3.1, 1.58, 2.85, 2.9, 1.25, 1.3, 2.4, 3.22, 2.56, 1.32, 1.2, 1.26, \n",
    "                3.2, 2.7, 3.5, 2.8, 1.5, 3.8, 1.84, 3.31, 1.24, 1.75, 1.41, 1.57, 1.4, 1.49, 2.26, 2.5, 2.52, 3.42, 1.36, \n",
    "                2.35, 2.47, 2.28, 2.22, 2.66, 3.43, 1.98]\n",
    "stats,pvalue=shapiro(temp_winter)\n",
    "print(\"pvalue is :\",round(pvalue,3))\n",
    "\n",
    "# since p value is less than alpha(alpha=1%) so p val >0.01 we can conclude that the data  follow normal distribution"
   ]
  },
  {
   "cell_type": "markdown",
   "metadata": {},
   "source": [
    "<a id = \"LST\"> </a>\n",
    "### Large Sample Lest"
   ]
  },
  {
   "cell_type": "markdown",
   "metadata": {},
   "source": [
    "<a id= \"OSTZ\"></a>\n",
    "### One sample  Z Test"
   ]
  },
  {
   "cell_type": "markdown",
   "metadata": {},
   "source": [
    "<table align=\"left\">\n",
    "    <tr>\n",
    "        <td width=\"6%\">\n",
    "            <img src=\"question_icon.png\">\n",
    "        </td>\n",
    "        <td>\n",
    "            <div align=\"left\", style=\"font-size:120%\">\n",
    "                <font color=\"#21618C\">\n",
    "                    <b>8. Use the temperature data given in the previous question. The weather department claims that the average temperature in Manhattan is less than 2.8 degree celsius in winter. Test the department's claim using a critical value method with 99% confidence.</b>\n",
    "                </font>\n",
    "            </div>\n",
    "        </td>\n",
    "    </tr>\n",
    "</table>"
   ]
  },
  {
   "cell_type": "markdown",
   "metadata": {},
   "source": [
    "Use the data given below:\n",
    "        \n",
    "    temp_winter =  [2.51, 2.6, 1.8, 2.61, 3.9, 1.7, 1.9, 3.1, 1.58, 2.85, 2.9, 1.25, 1.3, 2.4, 3.22, 2.56, 1.32, 1.2, 1.26, \n",
    "                    3.2, 2.7, 3.5, 2.8, 1.5, 3.8, 1.84, 3.31, 1.24, 1.75, 1.41, 1.57, 1.4, 1.49, 2.26, 2.5, 2.52, 3.42, 1.36, \n",
    "                    2.35, 2.47, 2.28, 2.22, 2.66, 3.43, 1.98]"
   ]
  },
  {
   "cell_type": "code",
   "execution_count": 51,
   "metadata": {},
   "outputs": [
    {
     "name": "stdout",
     "output_type": "stream",
     "text": [
      "zstats -4.44\n",
      "zcritical -2.326\n"
     ]
    }
   ],
   "source": [
    "# type your code here\n",
    "\n",
    "#HO miu=2.8\n",
    "#H1 miu<2.8\n",
    "alpha=0.01\n",
    "temp_winter =  [2.51, 2.6, 1.8, 2.61, 3.9, 1.7, 1.9, 3.1, 1.58, 2.85, 2.9, 1.25, 1.3, 2.4, 3.22, 2.56, 1.32, 1.2, 1.26, \n",
    "                3.2, 2.7, 3.5, 2.8, 1.5, 3.8, 1.84, 3.31, 1.24, 1.75, 1.41, 1.57, 1.4, 1.49, 2.26, 2.5, 2.52, 3.42, 1.36, \n",
    "                2.35, 2.47, 2.28, 2.22, 2.66, 3.43, 1.98]\n",
    "# to conduct z test\n",
    "Zstats,pvalue=stests.ztest(temp_winter,value=2.8,alternative=\"smaller\")\n",
    "print(\"zstats\",round(Zstats,3))\n",
    "\n",
    "# to find critical value\n",
    "zcritical=stats.norm.isf(q=0.99)\n",
    "print(\"zcritical\",round(zcritical,3))"
   ]
  },
  {
   "cell_type": "markdown",
   "metadata": {
    "colab_type": "text",
    "id": "iZkGr2rTf98y"
   },
   "source": [
    "<table align=\"left\">\n",
    "    <tr>\n",
    "        <td width=\"6%\">\n",
    "            <img src=\"question_icon.png\">\n",
    "        </td>\n",
    "        <td>\n",
    "            <div align=\"left\", style=\"font-size:120%\">\n",
    "                <font color=\"#21618C\">\n",
    "                    <b>9. The bank manager claims that the complaints regarding fraud transactions are less than 12 per month with a standard deviation of 3 frauds. To test the claim the sample data for 3 years is collected. The average number of frauds per month in sample data is 14. Use the critical value method to test the claim with 95% confidence.</b>\n",
    "                </font>\n",
    "            </div>\n",
    "        </td>\n",
    "    </tr>\n",
    "</table>"
   ]
  },
  {
   "cell_type": "code",
   "execution_count": 6,
   "metadata": {},
   "outputs": [],
   "source": [
    "# type your code here\n",
    "# here data is not given so u cannot use inbuilt func create ur own\n",
    "\n",
    "# HO<14\n",
    "# H1>14\n"
   ]
  },
  {
   "cell_type": "code",
   "execution_count": 56,
   "metadata": {},
   "outputs": [
    {
     "name": "stdout",
     "output_type": "stream",
     "text": [
      "z_cal is  4.0\n"
     ]
    }
   ],
   "source": [
    "def z_test(pop_mean,pop_std,n,samp_mean):\n",
    "    z_cal=(samp_mean-pop_mean)/(pop_std/np.sqrt(n))\n",
    "    return z_cal\n",
    " # sample is for 36 months\n",
    "n=36\n",
    "pop_mean=12\n",
    "pop_std=3\n",
    "samp_mean=14\n",
    "\n",
    "# calc stats func using func ztest\n",
    "z_cal=z_test(pop_mean,pop_std,n,samp_mean)\n",
    "print(\"z_cal is \",z_cal)\n",
    "\n",
    "# not reject"
   ]
  },
  {
   "cell_type": "markdown",
   "metadata": {
    "collapsed": true
   },
   "source": [
    "<table align=\"left\">\n",
    "    <tr>\n",
    "        <td width=\"6%\">\n",
    "            <img src=\"question_icon.png\">\n",
    "        </td>\n",
    "        <td>\n",
    "            <div align=\"left\", style=\"font-size:120%\">\n",
    "                <font color=\"#21618C\">\n",
    "                    <b>10. The internet provider claims that their router gives a speed of 25 Mbps with a standard deviation of 4.8 Mbps. The computer engineer wants to check whether the speed is different than what the provider claims. For this study, the engineer collects the speed of 40 routers and found that the average speed is 23.2 Mbps for those 40 routers. Test the claim of engineer with 95% confidence.</b>\n",
    "                </font> \n",
    "            </div>\n",
    "        </td>\n",
    "    </tr>\n",
    "</table>"
   ]
  },
  {
   "cell_type": "code",
   "execution_count": 58,
   "metadata": {},
   "outputs": [
    {
     "name": "stdout",
     "output_type": "stream",
     "text": [
      "z_val is  1.96\n"
     ]
    }
   ],
   "source": [
    "# type your code here\n",
    "#HO =25\n",
    "#H1 not equal to 25\n",
    "z_val=np.abs(round(stats.norm.isf(q=0.05/2),2))\n",
    "print(\"z_val is \",z_val)\n"
   ]
  },
  {
   "cell_type": "code",
   "execution_count": 59,
   "metadata": {},
   "outputs": [
    {
     "name": "stdout",
     "output_type": "stream",
     "text": [
      "z_cal is  -2.250000000000001\n"
     ]
    }
   ],
   "source": [
    "def z_test(pop_mean,pop_std,n,samp_mean):\n",
    "    z_cal=(samp_mean-pop_mean)/(pop_std/np.sqrt(n))\n",
    "    return z_cal\n",
    " # sample is for 36 months\n",
    "n=36\n",
    "pop_mean=25\n",
    "pop_std=4.8\n",
    "samp_mean=23.2\n",
    "\n",
    "# calc stats func using func ztest\n",
    "z_cal=z_test(pop_mean,pop_std,n,samp_mean)\n",
    "print(\"z_cal is \",z_cal)\n"
   ]
  },
  {
   "cell_type": "code",
   "execution_count": null,
   "metadata": {},
   "outputs": [],
   "source": [
    "#z test vale is less than the critical value of 1.96 we reject the null hypothesis and conclude avg speed isdiff from 25"
   ]
  },
  {
   "cell_type": "markdown",
   "metadata": {
    "colab_type": "text",
    "id": "iOS1kKjWf983"
   },
   "source": [
    "<table align=\"left\">\n",
    "    <tr>\n",
    "        <td width=\"6%\">\n",
    "            <img src=\"question_icon.png\">\n",
    "        </td>\n",
    "        <td>\n",
    "            <div align=\"left\", style=\"font-size:120%\">\n",
    "                <font color=\"#21618C\">\n",
    "                    <b>11. The health magazine in New York states that every person in NY drinks more than 1.8 L water every day with a standard deviation of 0.5 L. To test this claim the physician collects the data of 45 people and found that the average water intake for these people is 1.93 L. Use the p-value technique to test the claim with 95% confidence.</b>\n",
    "                </font>\n",
    "            </div>\n",
    "        </td>\n",
    "    </tr>\n",
    "</table>"
   ]
  },
  {
   "cell_type": "code",
   "execution_count": null,
   "metadata": {},
   "outputs": [],
   "source": [
    "#HO =1.8\n",
    "#H1 >1.8"
   ]
  },
  {
   "cell_type": "code",
   "execution_count": 62,
   "metadata": {},
   "outputs": [
    {
     "name": "stdout",
     "output_type": "stream",
     "text": [
      "z_cal is  1.7441330224498344\n"
     ]
    }
   ],
   "source": [
    "# type your code here\n",
    "def z_test(pop_mean,pop_std,n,samp_mean):\n",
    "    z_cal=(samp_mean-pop_mean)/(pop_std/np.sqrt(n))\n",
    "    return z_cal\n",
    " # sample is for 36 months\n",
    "n=45\n",
    "pop_mean=1.8 # mui\n",
    "pop_std=0.5 \n",
    "samp_mean=1.93 \n",
    "\n",
    "# calc stats func using func ztest\n",
    "z_cal=z_test(pop_mean,pop_std,n,samp_mean)\n",
    "print(\"z_cal is \",z_cal)\n"
   ]
  },
  {
   "cell_type": "code",
   "execution_count": 63,
   "metadata": {},
   "outputs": [
    {
     "name": "stdout",
     "output_type": "stream",
     "text": [
      "0.041\n"
     ]
    }
   ],
   "source": [
    "# pvalue\n",
    "p_val=stats.norm.sf(z_cal)\n",
    "p_val=round(p_val,3)\n",
    "print(p_val)\n"
   ]
  },
  {
   "cell_type": "markdown",
   "metadata": {},
   "source": [
    "<a id=\"SST\"></a>\n",
    "### Small Sample Test"
   ]
  },
  {
   "cell_type": "markdown",
   "metadata": {},
   "source": [
    "<a id= \"OSTT\"></a>\n",
    "### One sample t Test"
   ]
  },
  {
   "cell_type": "markdown",
   "metadata": {},
   "source": [
    "<table align=\"left\">\n",
    "    <tr>\n",
    "        <td width=\"6%\">\n",
    "            <img src=\"question_icon.png\">\n",
    "        </td>\n",
    "        <td>\n",
    "            <div align=\"left\", style=\"font-size:120%\">\n",
    "                <font color=\"#21618C\">\n",
    "                    <b>12. The quality assurance department has collected 15 packets of potato chips. The department wants to test the average weight of the packets. Check whether they can use the one sample t-test for the population mean with 95% confidence.</b>\n",
    "                </font>\n",
    "            </div>\n",
    "        </td>\n",
    "    </tr>\n",
    "</table>"
   ]
  },
  {
   "cell_type": "markdown",
   "metadata": {},
   "source": [
    "Use the data given below:\n",
    "        \n",
    "    pack_wt = [26.8, 29.6, 27.8, 31.2, 30.9, 27.1, 28, 28.6, 29.4, 29.3, 31.5, 32.4, 29.7, 28.1, 31.9]"
   ]
  },
  {
   "cell_type": "code",
   "execution_count": 69,
   "metadata": {},
   "outputs": [
    {
     "name": "stdout",
     "output_type": "stream",
     "text": [
      "0.587\n"
     ]
    }
   ],
   "source": [
    "# type your code here\n",
    "pack_wt = [26.8, 29.6, 27.8, 31.2, 30.9, 27.1, 28, 28.6, 29.4, 29.3, 31.5, 32.4, 29.7, 28.1, 31.9]\n",
    "# perform shapiro to test the normslity\n",
    "stat,p_value=shapiro(pack_wt)\n",
    "\n",
    "\n",
    "# p value\n",
    "p_value=round(p_value,3)\n",
    "print(p_value)\n",
    "\n",
    "# p val is more than alpha so data follows normal dist so we can do t test"
   ]
  },
  {
   "cell_type": "markdown",
   "metadata": {},
   "source": [
    "<table align=\"left\">\n",
    "    <tr>\n",
    "        <td width=\"6%\">\n",
    "            <img src=\"question_icon.png\">\n",
    "        </td>\n",
    "        <td>\n",
    "            <div align=\"left\", style=\"font-size:120%\">\n",
    "                <font color=\"#21618C\">\n",
    "                    <b>13. Use the weight of the potato chips packets given in the previous question and test whether the average weight of packet is more than 30 g. using p-value method. (Use 10% level of significance)</b>\n",
    "                </font>\n",
    "            </div>\n",
    "        </td>\n",
    "    </tr>\n",
    "</table>"
   ]
  },
  {
   "cell_type": "markdown",
   "metadata": {},
   "source": [
    "Use the data given below:\n",
    "        \n",
    "    pack_wt = [26.8, 29.6, 27.8, 31.2, 30.9, 27.1, 28, 28.6, 29.4, 29.3, 31.5, 32.4, 29.7, 28.1, 31.9]"
   ]
  },
  {
   "cell_type": "code",
   "execution_count": 4,
   "metadata": {},
   "outputs": [
    {
     "data": {
      "text/plain": [
       "0.8593171187217965"
      ]
     },
     "execution_count": 4,
     "metadata": {},
     "output_type": "execute_result"
    }
   ],
   "source": [
    "# type your code here\n",
    "pack_wt = [26.8, 29.6, 27.8, 31.2, 30.9, 27.1, 28, 28.6, 29.4, 29.3, 31.5, 32.4, 29.7, 28.1, 31.9]\n",
    "#HO =30\n",
    "#H1>30\n",
    "t_stat,p_val=stats.ttest_1samp(a=pack_wt,popmean=30,alternative=\"greater\")\n",
    "p_val\n",
    "\n",
    "\n",
    "# the hypo is one tailed then we divide the two tailed by 2 to obtain one tailed prob\n",
    "\n"
   ]
  },
  {
   "cell_type": "code",
   "execution_count": null,
   "metadata": {},
   "outputs": [],
   "source": [
    "# weight of the potatoes is not more tha 30g\n",
    "# fail to reject"
   ]
  },
  {
   "cell_type": "markdown",
   "metadata": {},
   "source": [
    "<table align=\"left\">\n",
    "    <tr>\n",
    "        <td width=\"6%\">\n",
    "            <img src=\"question_icon.png\">\n",
    "        </td>\n",
    "        <td>\n",
    "            <div align=\"left\", style=\"font-size:120%\">\n",
    "                <font color=\"#21618C\">\n",
    "                    <b> 14. The orthopaedic surgeon states that a T-score for females older than 30 years is less than -1.2 which indicates the low bone density. To test the claim a sample of 10 women was selected and the average T-score was found to be -1.34 with a standard deviation of 0.8. Test the surgeon's claim  with 95% confidence. (Assume the normality of the T-score). </b>\n",
    "                </font>\n",
    "            </div>\n",
    "        </td>\n",
    "    </tr>\n",
    "</table>"
   ]
  },
  {
   "cell_type": "code",
   "execution_count": 3,
   "metadata": {},
   "outputs": [
    {
     "name": "stdout",
     "output_type": "stream",
     "text": [
      "Critical value for one-tailed t-test: 1.83\n"
     ]
    }
   ],
   "source": [
    "t_val = round(stats.t.isf(q = 0.05, df = 9), 2)\n",
    "\n",
    "print('Critical value for one-tailed t-test:', t_val)"
   ]
  },
  {
   "cell_type": "code",
   "execution_count": 5,
   "metadata": {},
   "outputs": [
    {
     "name": "stdout",
     "output_type": "stream",
     "text": [
      "test_stat: -0.553\n"
     ]
    }
   ],
   "source": [
    "\n",
    "def t_test(pop_mean, samp_std, n, samp_mean):\n",
    "    t_score = (samp_mean - pop_mean) / (samp_std / np.sqrt(n))\n",
    "    return t_score\n",
    "\n",
    "n = 10\n",
    "pop_mean = -1.2\n",
    "samp_mean = -1.34\n",
    "samp_std = 0.8\n",
    "\n",
    "test_stat = t_test(pop_mean, samp_std, n, samp_mean)\n",
    "\n",
    "test_stat = round(test_stat,3)\n",
    "print(\"test_stat:\", test_stat)\n"
   ]
  },
  {
   "cell_type": "code",
   "execution_count": null,
   "metadata": {},
   "outputs": [],
   "source": []
  },
  {
   "cell_type": "code",
   "execution_count": null,
   "metadata": {},
   "outputs": [],
   "source": []
  }
 ],
 "metadata": {
  "colab": {
   "name": "ITP - In-Class Lab Exercise (Day1) - Solutions [V1.0 030120].ipynb",
   "provenance": []
  },
  "kernelspec": {
   "display_name": "Python 3 (ipykernel)",
   "language": "python",
   "name": "python3"
  },
  "language_info": {
   "codemirror_mode": {
    "name": "ipython",
    "version": 3
   },
   "file_extension": ".py",
   "mimetype": "text/x-python",
   "name": "python",
   "nbconvert_exporter": "python",
   "pygments_lexer": "ipython3",
   "version": "3.9.12"
  }
 },
 "nbformat": 4,
 "nbformat_minor": 1
}
