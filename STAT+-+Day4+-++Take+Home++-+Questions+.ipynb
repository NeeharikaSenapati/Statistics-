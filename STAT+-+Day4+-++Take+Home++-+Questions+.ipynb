{
 "cells": [
  {
   "cell_type": "markdown",
   "id": "9a1698f1",
   "metadata": {},
   "source": [
    "<table align=\"left\" width=100%>\n",
    "    <tr>\n",
    "        <td width=\"20%\">\n",
    "            <img src=\"GL-2.png\">\n",
    "        </td>\n",
    "        <td>\n",
    "            <div align=\"center\">\n",
    "                <font color=\"#21618C\" size=8px>\n",
    "                    <b> Take Home <br> Day 4</b>\n",
    "                </font>\n",
    "            </div>\n",
    "        </td>\n",
    "    </tr>\n",
    "</table>"
   ]
  },
  {
   "cell_type": "code",
   "execution_count": 45,
   "id": "1441b408",
   "metadata": {},
   "outputs": [],
   "source": [
    "# Import required Libraries here\n",
    "# import 'pandas' \n",
    "import pandas as pd \n",
    "\n",
    "# import 'numpy' \n",
    "import numpy as np\n",
    "\n",
    "# import subpackage of matplotlib\n",
    "import matplotlib.pyplot as plt\n",
    "\n",
    "# import 'seaborn'\n",
    "import seaborn as sns\n",
    "\n",
    "# to suppress warnings \n",
    "from warnings import filterwarnings\n",
    "filterwarnings('ignore')\n",
    "\n",
    "# import statsmodels\n",
    "import statsmodels.api as sm\n",
    "\n",
    "# import 'stats' package from scipy library\n",
    "from scipy import stats\n",
    "\n",
    "# import statistics to perform statistical computations\n",
    "import statistics\n",
    "\n",
    "# to test the normality \n",
    "from scipy.stats import shapiro\n",
    "\n",
    "# import a library to perform Z-test\n",
    "from statsmodels.stats import weightstats as stests\n",
    "\n",
    "# import statsmodels\n",
    "from statsmodels.formula.api import ols\n",
    "from statsmodels.stats.anova import anova_lm\n",
    "\n",
    "# import the functions to perform Chi-square tests\n",
    "from scipy.stats import chi2_contingency\n",
    "from scipy.stats import chisquare\n",
    "\n",
    "# function to perform post-hoc test\n",
    "import statsmodels.stats.multicomp as mc"
   ]
  },
  {
   "cell_type": "markdown",
   "id": "f32f1b47",
   "metadata": {},
   "source": [
    "### Let's begin with some hands-on practice exercises"
   ]
  },
  {
   "cell_type": "markdown",
   "id": "f73734c0",
   "metadata": {},
   "source": [
    "<table align=\"left\">\n",
    "    <tr>\n",
    "        <td width=\"6%\">\n",
    "            <img src=\"question_icon.png\">\n",
    "        </td>\n",
    "        <td>\n",
    "            <div align=\"left\", style=\"font-size:120%\">\n",
    "                <font color=\"#21618C\">\n",
    "                    <b>1. A financial firm AlpaMoney has recently started their online payment gateway and claims that the level of customer satisfaction about the transactions is the same as that of their competitor firm PayEarly. Consider the equality of an average level of satisfaction as the null hypothesis and test the claim using a critical value method with 90% confidence.</b>\n",
    "                </font>\n",
    "            </div>\n",
    "        </td>\n",
    "    </tr>\n",
    "</table>"
   ]
  },
  {
   "cell_type": "markdown",
   "id": "c08d5807",
   "metadata": {},
   "source": [
    "<img src='2_z.png'>"
   ]
  },
  {
   "cell_type": "code",
   "execution_count": 3,
   "id": "14fe67f3",
   "metadata": {},
   "outputs": [
    {
     "name": "stdout",
     "output_type": "stream",
     "text": [
      "1.6448536269514729\n"
     ]
    }
   ],
   "source": [
    "# type solution here\n",
    "#H0: miuA-muiP=0\n",
    "#H1: miuA-muiP!=0\n",
    "#critical val\n",
    "z_critical=stats.norm.isf(q=0.1/2)\n",
    "print(z_critical)\n",
    "\n"
   ]
  },
  {
   "cell_type": "code",
   "execution_count": 7,
   "id": "7a423896",
   "metadata": {},
   "outputs": [
    {
     "name": "stdout",
     "output_type": "stream",
     "text": [
      "1.64\n"
     ]
    }
   ],
   "source": [
    "def TwoSampZTest(samp_mean_1, samp_mean_2, samp_std_1, samp_std_2, value, n1, n2):\n",
    "    denominator = np.sqrt((samp_std_1**2 / n1) + (samp_std_2**2 / n2))\n",
    "    zcal = ((samp_mean_1 - samp_mean_2) - (value)) / denominator\n",
    "    return zcal\n",
    "\n",
    "sm1 = 4.23\n",
    "sm2 = 3.56\n",
    "sstd1 = 1.6\n",
    "sstd2 = 0.72\n",
    "nullval = 0\n",
    "n1 = 527\n",
    "n2 = 652\n",
    "\n",
    "zcal = TwoSampZTest(samp_mean_1 = sm1, samp_mean_2 = sm2, samp_std_1 = sstd1, samp_std_2 = sstd2, value = nullval, n1 = n1, n2 = n2)\n",
    "z_cal=round(z_cal,3)\n",
    "print(z_cal)"
   ]
  },
  {
   "cell_type": "markdown",
   "id": "5d4a397f",
   "metadata": {},
   "source": [
    "<table align=\"left\">\n",
    "    <tr>\n",
    "        <td width=\"6%\">\n",
    "            <img src=\"question_icon.png\">\n",
    "        </td>\n",
    "        <td>\n",
    "            <div align=\"left\", style=\"font-size:120%\">\n",
    "                <font color=\"#21618C\">\n",
    "                    <b>2. Amy and Susan are national level swimmers. Their coach conducts five rounds each of 400 m and records the time taken by the individuals. Perform a two sample t-test to test whether there is any difference between the average time taken by Amy and Susan. Use 0.05 as a level of significance.</b>\n",
    "                </font>\n",
    "            </div>\n",
    "        </td>\n",
    "    </tr>\n",
    "</table>"
   ]
  },
  {
   "cell_type": "markdown",
   "id": "a3bf3338",
   "metadata": {},
   "source": [
    "Use the timing (in minutes) given below:\n",
    "\n",
    "        Amy_time = [4.2, 3, 3.8, 5, 4.6]\n",
    "        Susan_time = [5.2, 4.6, 3.9, 4.4, 5]"
   ]
  },
  {
   "cell_type": "code",
   "execution_count": 9,
   "id": "a6f20734",
   "metadata": {},
   "outputs": [],
   "source": [
    "# type solution here\n",
    "Amy_time = [4.2, 3, 3.8, 5, 4.6]\n",
    "Susan_time = [5.2, 4.6, 3.9, 4.4, 5]\n",
    "time = [4.2, 3, 3.8, 5, 4.6, 5.2, 4.6, 3.9, 4.4, 5]\n"
   ]
  },
  {
   "cell_type": "code",
   "execution_count": 11,
   "id": "212f27a6",
   "metadata": {},
   "outputs": [
    {
     "name": "stdout",
     "output_type": "stream",
     "text": [
      "0.941 0.562\n"
     ]
    }
   ],
   "source": [
    "#normality\n",
    "stats,p_val=shapiro(time)\n",
    "print(round(stats,3),round(p_val,3))\n",
    "# p val>0.05 hence its normally distributed"
   ]
  },
  {
   "cell_type": "code",
   "execution_count": 15,
   "id": "745a4091",
   "metadata": {},
   "outputs": [
    {
     "name": "stdout",
     "output_type": "stream",
     "text": [
      "0.559 0.562\n"
     ]
    }
   ],
   "source": [
    "# equality of variance\n",
    "stat, p_value = stats.levene(Amy_time, Susan_time)\n",
    "print(round(stat,3),round(p_val,3))\n",
    "#pval>0.05 hence equal variance"
   ]
  },
  {
   "cell_type": "code",
   "execution_count": 16,
   "id": "b0ec40c2",
   "metadata": {},
   "outputs": [
    {
     "name": "stdout",
     "output_type": "stream",
     "text": [
      "8\n"
     ]
    }
   ],
   "source": [
    "#H0: no diff mui1-mui2=0\n",
    "#H1: diff mui1-mui2!=0\n",
    "n1=len(Amy_time)\n",
    "n2=len(Susan_time)\n",
    "dof=n1+n2-2\n",
    "print(dof)"
   ]
  },
  {
   "cell_type": "code",
   "execution_count": 17,
   "id": "40ab1395",
   "metadata": {},
   "outputs": [
    {
     "name": "stdout",
     "output_type": "stream",
     "text": [
      "0.26087578765496466\n"
     ]
    }
   ],
   "source": [
    "t_stat, p_val = stats.ttest_ind(a = Amy_time, b = Susan_time)\n",
    "print(p_val)\n",
    "\n",
    "# pval>alpha we fail to reject the null\n",
    "#hence there is no difference between the average time taken by Amy and Susan."
   ]
  },
  {
   "cell_type": "markdown",
   "id": "893c5f66",
   "metadata": {},
   "source": [
    "<table align=\"left\">\n",
    "    <tr>\n",
    "        <td width=\"6%\">\n",
    "            <img src=\"question_icon.png\">\n",
    "        </td>\n",
    "        <td>\n",
    "            <div align=\"left\", style=\"font-size:120%\">\n",
    "                <font color=\"#21618C\">\n",
    "                    <b>3. A multinational company had organized a presentation activity to test the soft skills of their 6 sales executives and then offered them a skill development course. After the completion of the course, the executives again appeared for the presentation and the scores before and after the course are recorded. Check whether the data satisfies the conditions to use the two sample T-test. (Use 10% level of significance).</b>\n",
    "                </font>\n",
    "            </div>\n",
    "        </td>\n",
    "    </tr>"
   ]
  },
  {
   "cell_type": "markdown",
   "id": "1498e070",
   "metadata": {},
   "source": [
    "Consider the scores given in the file `paired_data.xlsx`"
   ]
  },
  {
   "cell_type": "code",
   "execution_count": 18,
   "id": "0d941a41",
   "metadata": {},
   "outputs": [
    {
     "data": {
      "text/html": [
       "<div>\n",
       "<style scoped>\n",
       "    .dataframe tbody tr th:only-of-type {\n",
       "        vertical-align: middle;\n",
       "    }\n",
       "\n",
       "    .dataframe tbody tr th {\n",
       "        vertical-align: top;\n",
       "    }\n",
       "\n",
       "    .dataframe thead th {\n",
       "        text-align: right;\n",
       "    }\n",
       "</style>\n",
       "<table border=\"1\" class=\"dataframe\">\n",
       "  <thead>\n",
       "    <tr style=\"text-align: right;\">\n",
       "      <th></th>\n",
       "      <th>before_score</th>\n",
       "      <th>after_score</th>\n",
       "    </tr>\n",
       "  </thead>\n",
       "  <tbody>\n",
       "    <tr>\n",
       "      <th>0</th>\n",
       "      <td>23</td>\n",
       "      <td>32</td>\n",
       "    </tr>\n",
       "    <tr>\n",
       "      <th>1</th>\n",
       "      <td>38</td>\n",
       "      <td>36</td>\n",
       "    </tr>\n",
       "  </tbody>\n",
       "</table>\n",
       "</div>"
      ],
      "text/plain": [
       "   before_score  after_score\n",
       "0            23           32\n",
       "1            38           36"
      ]
     },
     "execution_count": 18,
     "metadata": {},
     "output_type": "execute_result"
    }
   ],
   "source": [
    "# type solution here\n",
    "df= pd.read_excel('paired_data.xlsx')\n",
    "df.head(2)"
   ]
  },
  {
   "cell_type": "code",
   "execution_count": 22,
   "id": "497ff813",
   "metadata": {},
   "outputs": [
    {
     "name": "stdout",
     "output_type": "stream",
     "text": [
      "0.903 0.392\n",
      "0.998 1.0\n"
     ]
    }
   ],
   "source": [
    "#normality\n",
    "stats,p_val=shapiro(df[\"after_score\"])\n",
    "print(round(stats,3),round(p_val,3))\n",
    "\n",
    "stats,p_val=shapiro(df[\"before_score\"])\n",
    "print(round(stats,3),round(p_val,3))\n",
    "\n",
    "# p val>0.05 hence its normally distributed"
   ]
  },
  {
   "cell_type": "code",
   "execution_count": 30,
   "id": "8009e674",
   "metadata": {},
   "outputs": [
    {
     "name": "stdout",
     "output_type": "stream",
     "text": [
      "0.02107481559536362 0.8874596836271523\n"
     ]
    }
   ],
   "source": [
    "#variability\n",
    "stat, p_val = stats.levene(df['before_score'], df['after_score'])\n",
    "print(stat,p_val)\n",
    "\n",
    "# pval>alpha hence equal variability"
   ]
  },
  {
   "cell_type": "code",
   "execution_count": null,
   "id": "81298e57",
   "metadata": {},
   "outputs": [],
   "source": [
    "# hence we can use the 2 sample ttest"
   ]
  },
  {
   "cell_type": "markdown",
   "id": "629e053f",
   "metadata": {},
   "source": [
    "<table align=\"left\">\n",
    "    <tr>\n",
    "        <td width=\"6%\">\n",
    "            <img src=\"question_icon.png\">\n",
    "        </td>\n",
    "        <td>\n",
    "            <div align=\"left\", style=\"font-size:120%\">\n",
    "                <font color=\"#21618C\">\n",
    "                    <b>4. A multinational company had organized a presentation activity to test the soft skills of their 6 sales executives and then offered them a skill development course. After the completion of the course, the executives again appeared for the presentation and the scores before and after the course are recorded. Test the company's claim that the course was effective in developing soft skills with 90% confidence using the p-value technique.</b>\n",
    "                </font>\n",
    "            </div>\n",
    "        </td>\n",
    "    </tr>\n",
    "</table>"
   ]
  },
  {
   "cell_type": "markdown",
   "id": "8e02cf3f",
   "metadata": {},
   "source": [
    "Consider the scores given in the file `paired_data.xlsx`"
   ]
  },
  {
   "cell_type": "code",
   "execution_count": 31,
   "id": "f660860b",
   "metadata": {},
   "outputs": [
    {
     "name": "stdout",
     "output_type": "stream",
     "text": [
      "0.01996863587372073\n"
     ]
    }
   ],
   "source": [
    "# type solution here\n",
    "#H0:The skill development course was not effective in developing the soft skills mui=0\n",
    "#H1: The skill development course was effective in developing the soft skills miu>0\n",
    "t_stat, p_val = stats.ttest_rel(df['after_score'], df['before_score'], alternative='greater')\n",
    "print(p_val)\n",
    "#pval<alpha hence we reject the null\n",
    "# hence we conclude that the skill development course was effective in developing soft skills of sales executives."
   ]
  },
  {
   "cell_type": "markdown",
   "id": "876b8783",
   "metadata": {},
   "source": [
    "<table align=\"left\">\n",
    "    <tr>\n",
    "        <td width=\"6%\">\n",
    "            <img src=\"question_icon.png\">\n",
    "        </td>\n",
    "        <td>\n",
    "            <div align=\"left\", style=\"font-size:120%\">\n",
    "                <font color=\"#21618C\">\n",
    "                    <b>5. A pharmaceutical company in Manhattan claims that its new HighView tablet is effective in increasing the height of children. The data of heights (in cm) of 7 children is recorded before and after consuming the tablet. Test the company's claim at a 1% level of significance using the p-value. </b>\n",
    "                </font>\n",
    "            </div>\n",
    "        </td>\n",
    "    </tr>\n",
    "</table>"
   ]
  },
  {
   "cell_type": "markdown",
   "id": "776cc2cf",
   "metadata": {},
   "source": [
    "Use the data that given below:\n",
    "\n",
    "    ht_before = [121, 125, 130, 120, 145, 126, 134]\n",
    "\n",
    "    ht_after = [130, 129, 148, 122, 147, 130, 148]"
   ]
  },
  {
   "cell_type": "code",
   "execution_count": 34,
   "id": "2ef3c4e2",
   "metadata": {},
   "outputs": [],
   "source": [
    "# type solution here\n",
    "ht_before = [121, 125, 130, 120, 145, 126, 134]  #paired\n",
    "\n",
    "ht_after = [130, 129, 148, 122, 147, 130, 148]\n",
    "\n",
    "ht = [121, 125, 130, 120, 145, 126, 134, 130, 129, 148, 122, 147, 130, 148]"
   ]
  },
  {
   "cell_type": "code",
   "execution_count": 35,
   "id": "7acb67d9",
   "metadata": {},
   "outputs": [
    {
     "name": "stdout",
     "output_type": "stream",
     "text": [
      "0.03338424861431122\n"
     ]
    }
   ],
   "source": [
    "stat,p_val=shapiro(ht)\n",
    "print(p_val)\n",
    "#pval>alpha hence its normally distributed"
   ]
  },
  {
   "cell_type": "code",
   "execution_count": 36,
   "id": "b42ad308",
   "metadata": {
    "scrolled": true
   },
   "outputs": [
    {
     "name": "stdout",
     "output_type": "stream",
     "text": [
      "0.4473358116480793 0.5162635342361248\n"
     ]
    }
   ],
   "source": [
    "stat, p_val = stats.levene(ht_before, ht_after)\n",
    "print(stat,p_val)\n",
    "# equal variabilty"
   ]
  },
  {
   "cell_type": "code",
   "execution_count": 39,
   "id": "fed005d2",
   "metadata": {},
   "outputs": [
    {
     "name": "stdout",
     "output_type": "stream",
     "text": [
      "0.00966864434111964\n"
     ]
    }
   ],
   "source": [
    "#H0:diff =0\n",
    "#H1: diff>0\n",
    "test_stat, p_val = stats.ttest_rel(ht_before, ht_after, alternative = 'less')\n",
    "print(p_val)\n",
    "#pval<0.01 so we reject the null"
   ]
  },
  {
   "cell_type": "markdown",
   "id": "3890657c",
   "metadata": {},
   "source": [
    "<table align=\"left\">\n",
    "    <tr>\n",
    "        <td width=\"6%\">\n",
    "            <img src=\"question_icon.png\">\n",
    "        </td>\n",
    "        <td>\n",
    "            <div align=\"left\", style=\"font-size:120%\">\n",
    "                <font color=\"#21618C\">\n",
    "                    <b>6. Consider the cars dataset given below. Check whether the distribution of weight of the manual transmission cars is different than the distribution of weight of the automatic transmission cars. Use a 1% level of significance to check the noramlity of the data. And use the appropriate test with 95% confidence.</b>\n",
    "                </font>\n",
    "            </div>\n",
    "        </td>\n",
    "    </tr>\n",
    "</table>"
   ]
  },
  {
   "cell_type": "markdown",
   "id": "b59c774b",
   "metadata": {},
   "source": [
    "Use the dataset given in the CSV file `cars.csv`"
   ]
  },
  {
   "cell_type": "code",
   "execution_count": 40,
   "id": "e4ae0c24",
   "metadata": {},
   "outputs": [
    {
     "data": {
      "text/html": [
       "<div>\n",
       "<style scoped>\n",
       "    .dataframe tbody tr th:only-of-type {\n",
       "        vertical-align: middle;\n",
       "    }\n",
       "\n",
       "    .dataframe tbody tr th {\n",
       "        vertical-align: top;\n",
       "    }\n",
       "\n",
       "    .dataframe thead th {\n",
       "        text-align: right;\n",
       "    }\n",
       "</style>\n",
       "<table border=\"1\" class=\"dataframe\">\n",
       "  <thead>\n",
       "    <tr style=\"text-align: right;\">\n",
       "      <th></th>\n",
       "      <th>name</th>\n",
       "      <th>mpg</th>\n",
       "      <th>cyl</th>\n",
       "      <th>disp</th>\n",
       "      <th>hp</th>\n",
       "      <th>drat</th>\n",
       "      <th>wt</th>\n",
       "      <th>qsec</th>\n",
       "      <th>vs</th>\n",
       "      <th>am</th>\n",
       "      <th>gear</th>\n",
       "      <th>carb</th>\n",
       "    </tr>\n",
       "  </thead>\n",
       "  <tbody>\n",
       "    <tr>\n",
       "      <th>0</th>\n",
       "      <td>Mazda RX4</td>\n",
       "      <td>21.0</td>\n",
       "      <td>6</td>\n",
       "      <td>160.0</td>\n",
       "      <td>110</td>\n",
       "      <td>3.90</td>\n",
       "      <td>2.620</td>\n",
       "      <td>16.46</td>\n",
       "      <td>0</td>\n",
       "      <td>M</td>\n",
       "      <td>4</td>\n",
       "      <td>4</td>\n",
       "    </tr>\n",
       "    <tr>\n",
       "      <th>1</th>\n",
       "      <td>Mazda RX4 Wag</td>\n",
       "      <td>21.0</td>\n",
       "      <td>6</td>\n",
       "      <td>160.0</td>\n",
       "      <td>110</td>\n",
       "      <td>3.90</td>\n",
       "      <td>2.875</td>\n",
       "      <td>17.02</td>\n",
       "      <td>0</td>\n",
       "      <td>M</td>\n",
       "      <td>4</td>\n",
       "      <td>4</td>\n",
       "    </tr>\n",
       "    <tr>\n",
       "      <th>2</th>\n",
       "      <td>Datsun 710</td>\n",
       "      <td>22.8</td>\n",
       "      <td>4</td>\n",
       "      <td>108.0</td>\n",
       "      <td>93</td>\n",
       "      <td>3.85</td>\n",
       "      <td>2.320</td>\n",
       "      <td>18.61</td>\n",
       "      <td>1</td>\n",
       "      <td>M</td>\n",
       "      <td>4</td>\n",
       "      <td>1</td>\n",
       "    </tr>\n",
       "    <tr>\n",
       "      <th>3</th>\n",
       "      <td>Hornet 4 Drive</td>\n",
       "      <td>21.4</td>\n",
       "      <td>6</td>\n",
       "      <td>258.0</td>\n",
       "      <td>110</td>\n",
       "      <td>3.08</td>\n",
       "      <td>3.215</td>\n",
       "      <td>19.44</td>\n",
       "      <td>1</td>\n",
       "      <td>A</td>\n",
       "      <td>3</td>\n",
       "      <td>1</td>\n",
       "    </tr>\n",
       "    <tr>\n",
       "      <th>4</th>\n",
       "      <td>Hornet Sportabout</td>\n",
       "      <td>18.7</td>\n",
       "      <td>8</td>\n",
       "      <td>360.0</td>\n",
       "      <td>175</td>\n",
       "      <td>3.15</td>\n",
       "      <td>3.440</td>\n",
       "      <td>17.02</td>\n",
       "      <td>0</td>\n",
       "      <td>A</td>\n",
       "      <td>3</td>\n",
       "      <td>2</td>\n",
       "    </tr>\n",
       "  </tbody>\n",
       "</table>\n",
       "</div>"
      ],
      "text/plain": [
       "                name   mpg  cyl   disp   hp  drat     wt   qsec  vs am  gear  \\\n",
       "0          Mazda RX4  21.0    6  160.0  110  3.90  2.620  16.46   0  M     4   \n",
       "1      Mazda RX4 Wag  21.0    6  160.0  110  3.90  2.875  17.02   0  M     4   \n",
       "2         Datsun 710  22.8    4  108.0   93  3.85  2.320  18.61   1  M     4   \n",
       "3     Hornet 4 Drive  21.4    6  258.0  110  3.08  3.215  19.44   1  A     3   \n",
       "4  Hornet Sportabout  18.7    8  360.0  175  3.15  3.440  17.02   0  A     3   \n",
       "\n",
       "   carb  \n",
       "0     4  \n",
       "1     4  \n",
       "2     1  \n",
       "3     1  \n",
       "4     2  "
      ]
     },
     "execution_count": 40,
     "metadata": {},
     "output_type": "execute_result"
    }
   ],
   "source": [
    "# type solution here \n",
    "df_car = pd.read_csv('cars.csv')\n",
    "\n",
    "df_car.head(5)"
   ]
  },
  {
   "cell_type": "code",
   "execution_count": 41,
   "id": "4bb5f649",
   "metadata": {},
   "outputs": [
    {
     "name": "stdout",
     "output_type": "stream",
     "text": [
      "0.09265592694282532\n"
     ]
    }
   ],
   "source": [
    "# normality\n",
    "stat, p_value = shapiro(df_car['wt'])\n",
    "print(p_value)\n",
    "# pval>alpha so normal distribution"
   ]
  },
  {
   "cell_type": "code",
   "execution_count": 42,
   "id": "e05ddcf2",
   "metadata": {},
   "outputs": [
    {
     "name": "stdout",
     "output_type": "stream",
     "text": [
      "1.12543955234245e-05\n"
     ]
    }
   ],
   "source": [
    "#H0: There is no difference between the average weight of manual transmission cars and a automatic transmission mui=0\n",
    "#H1: There is difference between the average weight of manual transmission cars and a automatic transmission mui!=0\n",
    "\n",
    "wt_M = df_car[df_car['am'] == 'M']['wt']\n",
    "wt_A = df_car[df_car['am'] == 'A']['wt']\n",
    "test_stat, p_value = stats.ttest_ind(wt_M, wt_A, alternative = 'two-sided')\n",
    "print( p_value)\n",
    "#Here the p-value is less than 0.05. Thus we reject the null hypothesis \n",
    "#and we can conclude that the weight distribution of manual and automatic cars is different."
   ]
  },
  {
   "cell_type": "markdown",
   "id": "b7046955",
   "metadata": {},
   "source": [
    "<table align=\"left\">\n",
    "    <tr>\n",
    "        <td width=\"6%\">\n",
    "            <img src=\"question_icon.png\">\n",
    "        </td>\n",
    "        <td>\n",
    "            <div align=\"left\", style=\"font-size:120%\">\n",
    "                <font color=\"#21618C\">\n",
    "                    <b>7. The sales manager at an electronics company wants to study if online sales of their products in 2019 follow the same distribution as the online sales of products in 2015. He collected the sample of 300 products sold in 2019. Help the manager to test his claim using p-value technique at a 99% confidence level.</b>\n",
    "                </font>\n",
    "            </div>\n",
    "        </td>\n",
    "    </tr>\n",
    "</table>"
   ]
  },
  {
   "cell_type": "markdown",
   "id": "00bb2fc3",
   "metadata": {},
   "source": [
    "<img src='chi_2.png'>"
   ]
  },
  {
   "cell_type": "code",
   "execution_count": 46,
   "id": "58ee5148",
   "metadata": {},
   "outputs": [
    {
     "ename": "ValueError",
     "evalue": "For each axis slice, the sum of the observed frequencies must agree with the sum of the expected frequencies to a relative tolerance of 1e-08, but the percent differences are:\n99.0",
     "output_type": "error",
     "traceback": [
      "\u001b[1;31m---------------------------------------------------------------------------\u001b[0m",
      "\u001b[1;31mValueError\u001b[0m                                Traceback (most recent call last)",
      "Input \u001b[1;32mIn [46]\u001b[0m, in \u001b[0;36m<cell line: 5>\u001b[1;34m()\u001b[0m\n\u001b[0;32m      3\u001b[0m count\u001b[38;5;241m=\u001b[39m[\u001b[38;5;241m38\u001b[39m,\u001b[38;5;241m20\u001b[39m,\u001b[38;5;241m42\u001b[39m]\n\u001b[0;32m      4\u001b[0m exp_value \u001b[38;5;241m=\u001b[39m np\u001b[38;5;241m.\u001b[39marray(count) \u001b[38;5;241m*\u001b[39m \u001b[38;5;241m300\u001b[39m\n\u001b[1;32m----> 5\u001b[0m stat, p_val \u001b[38;5;241m=\u001b[39m \u001b[43mchisquare\u001b[49m\u001b[43m(\u001b[49m\u001b[43mf_obs\u001b[49m\u001b[43m \u001b[49m\u001b[38;5;241;43m=\u001b[39;49m\u001b[43m \u001b[49m\u001b[43mobs_value\u001b[49m\u001b[43m,\u001b[49m\u001b[43m \u001b[49m\u001b[43mf_exp\u001b[49m\u001b[43m \u001b[49m\u001b[38;5;241;43m=\u001b[39;49m\u001b[43m \u001b[49m\u001b[43mexp_value\u001b[49m\u001b[43m)\u001b[49m\n\u001b[0;32m      6\u001b[0m \u001b[38;5;28mprint\u001b[39m(p_val)\n",
      "File \u001b[1;32m~\\anaconda3\\lib\\site-packages\\scipy\\stats\\stats.py:6852\u001b[0m, in \u001b[0;36mchisquare\u001b[1;34m(f_obs, f_exp, ddof, axis)\u001b[0m\n\u001b[0;32m   6728\u001b[0m \u001b[38;5;28;01mdef\u001b[39;00m \u001b[38;5;21mchisquare\u001b[39m(f_obs, f_exp\u001b[38;5;241m=\u001b[39m\u001b[38;5;28;01mNone\u001b[39;00m, ddof\u001b[38;5;241m=\u001b[39m\u001b[38;5;241m0\u001b[39m, axis\u001b[38;5;241m=\u001b[39m\u001b[38;5;241m0\u001b[39m):\n\u001b[0;32m   6729\u001b[0m     \u001b[38;5;124;03m\"\"\"Calculate a one-way chi-square test.\u001b[39;00m\n\u001b[0;32m   6730\u001b[0m \n\u001b[0;32m   6731\u001b[0m \u001b[38;5;124;03m    The chi-square test tests the null hypothesis that the categorical data\u001b[39;00m\n\u001b[1;32m   (...)\u001b[0m\n\u001b[0;32m   6850\u001b[0m \n\u001b[0;32m   6851\u001b[0m \u001b[38;5;124;03m    \"\"\"\u001b[39;00m\n\u001b[1;32m-> 6852\u001b[0m     \u001b[38;5;28;01mreturn\u001b[39;00m \u001b[43mpower_divergence\u001b[49m\u001b[43m(\u001b[49m\u001b[43mf_obs\u001b[49m\u001b[43m,\u001b[49m\u001b[43m \u001b[49m\u001b[43mf_exp\u001b[49m\u001b[38;5;241;43m=\u001b[39;49m\u001b[43mf_exp\u001b[49m\u001b[43m,\u001b[49m\u001b[43m \u001b[49m\u001b[43mddof\u001b[49m\u001b[38;5;241;43m=\u001b[39;49m\u001b[43mddof\u001b[49m\u001b[43m,\u001b[49m\u001b[43m \u001b[49m\u001b[43maxis\u001b[49m\u001b[38;5;241;43m=\u001b[39;49m\u001b[43maxis\u001b[49m\u001b[43m,\u001b[49m\n\u001b[0;32m   6853\u001b[0m \u001b[43m                            \u001b[49m\u001b[43mlambda_\u001b[49m\u001b[38;5;241;43m=\u001b[39;49m\u001b[38;5;124;43m\"\u001b[39;49m\u001b[38;5;124;43mpearson\u001b[39;49m\u001b[38;5;124;43m\"\u001b[39;49m\u001b[43m)\u001b[49m\n",
      "File \u001b[1;32m~\\anaconda3\\lib\\site-packages\\scipy\\stats\\stats.py:6694\u001b[0m, in \u001b[0;36mpower_divergence\u001b[1;34m(f_obs, f_exp, ddof, axis, lambda_)\u001b[0m\n\u001b[0;32m   6688\u001b[0m     \u001b[38;5;28;01mif\u001b[39;00m diff_gt_tol:\n\u001b[0;32m   6689\u001b[0m         msg \u001b[38;5;241m=\u001b[39m (\u001b[38;5;124mf\u001b[39m\u001b[38;5;124m\"\u001b[39m\u001b[38;5;124mFor each axis slice, the sum of the observed \u001b[39m\u001b[38;5;124m\"\u001b[39m\n\u001b[0;32m   6690\u001b[0m                \u001b[38;5;124mf\u001b[39m\u001b[38;5;124m\"\u001b[39m\u001b[38;5;124mfrequencies must agree with the sum of the \u001b[39m\u001b[38;5;124m\"\u001b[39m\n\u001b[0;32m   6691\u001b[0m                \u001b[38;5;124mf\u001b[39m\u001b[38;5;124m\"\u001b[39m\u001b[38;5;124mexpected frequencies to a relative tolerance \u001b[39m\u001b[38;5;124m\"\u001b[39m\n\u001b[0;32m   6692\u001b[0m                \u001b[38;5;124mf\u001b[39m\u001b[38;5;124m\"\u001b[39m\u001b[38;5;124mof \u001b[39m\u001b[38;5;132;01m{\u001b[39;00mrtol\u001b[38;5;132;01m}\u001b[39;00m\u001b[38;5;124m, but the percent differences are:\u001b[39m\u001b[38;5;130;01m\\n\u001b[39;00m\u001b[38;5;124m\"\u001b[39m\n\u001b[0;32m   6693\u001b[0m                \u001b[38;5;124mf\u001b[39m\u001b[38;5;124m\"\u001b[39m\u001b[38;5;132;01m{\u001b[39;00mrelative_diff\u001b[38;5;132;01m}\u001b[39;00m\u001b[38;5;124m\"\u001b[39m)\n\u001b[1;32m-> 6694\u001b[0m         \u001b[38;5;28;01mraise\u001b[39;00m \u001b[38;5;167;01mValueError\u001b[39;00m(msg)\n\u001b[0;32m   6696\u001b[0m \u001b[38;5;28;01melse\u001b[39;00m:\n\u001b[0;32m   6697\u001b[0m     \u001b[38;5;66;03m# Ignore 'invalid' errors so the edge case of a data set with length 0\u001b[39;00m\n\u001b[0;32m   6698\u001b[0m     \u001b[38;5;66;03m# is handled without spurious warnings.\u001b[39;00m\n\u001b[0;32m   6699\u001b[0m     \u001b[38;5;28;01mwith\u001b[39;00m np\u001b[38;5;241m.\u001b[39merrstate(invalid\u001b[38;5;241m=\u001b[39m\u001b[38;5;124m'\u001b[39m\u001b[38;5;124mignore\u001b[39m\u001b[38;5;124m'\u001b[39m):\n",
      "\u001b[1;31mValueError\u001b[0m: For each axis slice, the sum of the observed frequencies must agree with the sum of the expected frequencies to a relative tolerance of 1e-08, but the percent differences are:\n99.0"
     ]
    }
   ],
   "source": [
    "# type solution here\n",
    "obs_value = [85, 90, 125]\n",
    "count=[38,20,42]\n",
    "exp_value = np.array(count) * 300\n",
    "stat, p_val = chisquare(f_obs = obs_value, f_exp = exp_value)\n",
    "print(p_val)"
   ]
  },
  {
   "cell_type": "markdown",
   "id": "a079ae99",
   "metadata": {},
   "source": [
    "<table align=\"left\">\n",
    "    <tr>\n",
    "        <td width=\"6%\">\n",
    "            <img src=\"question_icon.png\">\n",
    "        </td>\n",
    "        <td>\n",
    "            <div align=\"left\", style=\"font-size:120%\">\n",
    "                <font color=\"#21618C\">\n",
    "                    <b>8. Use hypothesis testing to check if the type of car maintenance is dependent on the type of car's transmission. Test the hypothesis with 95% confidence.</b>\n",
    "                </font>\n",
    "            </div>\n",
    "        </td>\n",
    "    </tr>\n",
    "</table>"
   ]
  },
  {
   "cell_type": "markdown",
   "id": "32bf38cc",
   "metadata": {},
   "source": [
    "<img src='chi_ind.png'>"
   ]
  },
  {
   "cell_type": "code",
   "execution_count": 48,
   "id": "f45e8f93",
   "metadata": {},
   "outputs": [
    {
     "name": "stdout",
     "output_type": "stream",
     "text": [
      "0.0\n",
      "1.0\n",
      "0\n",
      "[ 85.  90. 125.]\n"
     ]
    }
   ],
   "source": [
    "# type solution here\n",
    "test_stat, p, dof, expected_value = chi2_contingency(observed = obs_value, correction = False)\n",
    "\n",
    "print( round(test_stat,3))\n",
    "print(round(p,4))\n",
    "print( dof)\n",
    "print(expected_value)"
   ]
  },
  {
   "cell_type": "markdown",
   "id": "73e955cf",
   "metadata": {},
   "source": [
    "<table align=\"left\">\n",
    "    <tr>\n",
    "        <td width=\"6%\">\n",
    "            <img src=\"question_icon.png\">\n",
    "        </td>\n",
    "        <td>\n",
    "            <div align=\"left\", style=\"font-size:120%\">\n",
    "                <font color=\"#21618C\">\n",
    "                    <b>9. The company claims that in the organization, 68% of employees travel rarely, 20% travel frequently and 12% of employees do not travel for business. Check if the given data fits with the company's claimed distribution. Use the p-value technique with 99% confidence. </b>\n",
    "                </font>\n",
    "            </div>\n",
    "        </td>\n",
    "    </tr>\n",
    "</table>"
   ]
  },
  {
   "cell_type": "markdown",
   "id": "36f92df1",
   "metadata": {},
   "source": [
    "Use the data available in the CSV file `Employee_Attrition.csv`."
   ]
  },
  {
   "cell_type": "code",
   "execution_count": 49,
   "id": "76bba45b",
   "metadata": {},
   "outputs": [
    {
     "data": {
      "text/html": [
       "<div>\n",
       "<style scoped>\n",
       "    .dataframe tbody tr th:only-of-type {\n",
       "        vertical-align: middle;\n",
       "    }\n",
       "\n",
       "    .dataframe tbody tr th {\n",
       "        vertical-align: top;\n",
       "    }\n",
       "\n",
       "    .dataframe thead th {\n",
       "        text-align: right;\n",
       "    }\n",
       "</style>\n",
       "<table border=\"1\" class=\"dataframe\">\n",
       "  <thead>\n",
       "    <tr style=\"text-align: right;\">\n",
       "      <th></th>\n",
       "      <th>Age</th>\n",
       "      <th>Attrition</th>\n",
       "      <th>BusinessTravel</th>\n",
       "      <th>DailyRate</th>\n",
       "      <th>Department</th>\n",
       "      <th>DistanceFromHome</th>\n",
       "      <th>Education</th>\n",
       "      <th>EducationField</th>\n",
       "      <th>EmployeeCount</th>\n",
       "      <th>EmployeeNumber</th>\n",
       "      <th>...</th>\n",
       "      <th>RelationshipSatisfaction</th>\n",
       "      <th>StandardHours</th>\n",
       "      <th>StockOptionLevel</th>\n",
       "      <th>TotalWorkingYears</th>\n",
       "      <th>TrainingTimesLastYear</th>\n",
       "      <th>WorkLifeBalance</th>\n",
       "      <th>YearsAtCompany</th>\n",
       "      <th>YearsInCurrentRole</th>\n",
       "      <th>YearsSinceLastPromotion</th>\n",
       "      <th>YearsWithCurrManager</th>\n",
       "    </tr>\n",
       "  </thead>\n",
       "  <tbody>\n",
       "    <tr>\n",
       "      <th>0</th>\n",
       "      <td>41</td>\n",
       "      <td>Yes</td>\n",
       "      <td>Travel_Rarely</td>\n",
       "      <td>1102</td>\n",
       "      <td>Sales</td>\n",
       "      <td>1</td>\n",
       "      <td>2</td>\n",
       "      <td>Life Sciences</td>\n",
       "      <td>1</td>\n",
       "      <td>1</td>\n",
       "      <td>...</td>\n",
       "      <td>1</td>\n",
       "      <td>80</td>\n",
       "      <td>0</td>\n",
       "      <td>8</td>\n",
       "      <td>0</td>\n",
       "      <td>1</td>\n",
       "      <td>6</td>\n",
       "      <td>4</td>\n",
       "      <td>0</td>\n",
       "      <td>5</td>\n",
       "    </tr>\n",
       "    <tr>\n",
       "      <th>1</th>\n",
       "      <td>49</td>\n",
       "      <td>No</td>\n",
       "      <td>Travel_Frequently</td>\n",
       "      <td>279</td>\n",
       "      <td>Research &amp; Development</td>\n",
       "      <td>8</td>\n",
       "      <td>1</td>\n",
       "      <td>Life Sciences</td>\n",
       "      <td>1</td>\n",
       "      <td>2</td>\n",
       "      <td>...</td>\n",
       "      <td>4</td>\n",
       "      <td>80</td>\n",
       "      <td>1</td>\n",
       "      <td>10</td>\n",
       "      <td>3</td>\n",
       "      <td>3</td>\n",
       "      <td>10</td>\n",
       "      <td>7</td>\n",
       "      <td>1</td>\n",
       "      <td>7</td>\n",
       "    </tr>\n",
       "  </tbody>\n",
       "</table>\n",
       "<p>2 rows × 35 columns</p>\n",
       "</div>"
      ],
      "text/plain": [
       "   Age Attrition     BusinessTravel  DailyRate              Department  \\\n",
       "0   41       Yes      Travel_Rarely       1102                   Sales   \n",
       "1   49        No  Travel_Frequently        279  Research & Development   \n",
       "\n",
       "   DistanceFromHome  Education EducationField  EmployeeCount  EmployeeNumber  \\\n",
       "0                 1          2  Life Sciences              1               1   \n",
       "1                 8          1  Life Sciences              1               2   \n",
       "\n",
       "   ...  RelationshipSatisfaction StandardHours  StockOptionLevel  \\\n",
       "0  ...                         1            80                 0   \n",
       "1  ...                         4            80                 1   \n",
       "\n",
       "   TotalWorkingYears  TrainingTimesLastYear WorkLifeBalance  YearsAtCompany  \\\n",
       "0                  8                      0               1               6   \n",
       "1                 10                      3               3              10   \n",
       "\n",
       "  YearsInCurrentRole  YearsSinceLastPromotion  YearsWithCurrManager  \n",
       "0                  4                        0                     5  \n",
       "1                  7                        1                     7  \n",
       "\n",
       "[2 rows x 35 columns]"
      ]
     },
     "execution_count": 49,
     "metadata": {},
     "output_type": "execute_result"
    }
   ],
   "source": [
    "# type solution here\n",
    "df_emp = pd.read_csv('Employee_Attrition.csv')\n",
    "\n",
    "df_emp.head(2)"
   ]
  },
  {
   "cell_type": "code",
   "execution_count": 50,
   "id": "3a9bc0d5",
   "metadata": {},
   "outputs": [
    {
     "data": {
      "text/plain": [
       "Travel_Rarely        1043\n",
       "Travel_Frequently     277\n",
       "Non-Travel            150\n",
       "Name: BusinessTravel, dtype: int64"
      ]
     },
     "execution_count": 50,
     "metadata": {},
     "output_type": "execute_result"
    }
   ],
   "source": [
    "#H0: There is no significant difference between the observed and expected values.\n",
    "#H1: There is a significant difference between the observed and expected values\n",
    "df_emp['BusinessTravel'].value_counts()"
   ]
  },
  {
   "cell_type": "code",
   "execution_count": 51,
   "id": "76cc1c66",
   "metadata": {},
   "outputs": [
    {
     "name": "stdout",
     "output_type": "stream",
     "text": [
      "0.033\n"
     ]
    }
   ],
   "source": [
    "observed_value = [1043, 277, 150]\n",
    "exp_count = [0.68, 0.20, 0.12]\n",
    "expected_value = np.array(exp_count) * len(df_emp)\n",
    "\n",
    "stat, p_value = chisquare(f_obs = observed_value, f_exp = expected_value)\n",
    "\n",
    "p_value = round(p_value,3)\n",
    "print( p_value)\n",
    "#The above output shows that the p-value is greater than 0.01. Thus, we fail to reject (i.e. accept) the null hypothesis and conclude that company's claim is correct. \n",
    "#there is no significant difference between the observed and expected values"
   ]
  },
  {
   "cell_type": "markdown",
   "id": "872b74b1",
   "metadata": {},
   "source": [
    "<table align=\"left\">\n",
    "    <tr>\n",
    "        <td width=\"6%\">\n",
    "            <img src=\"question_icon.png\">\n",
    "        </td>\n",
    "        <td>\n",
    "            <div align=\"left\", style=\"font-size:120%\">\n",
    "                <font color=\"#21618C\">\n",
    "                        <b>10. Check whether travelling for the business is related to the gender of an employee. Use the p-value technique to test the claim with 90% confidence. </b>\n",
    "                </font>\n",
    "            </div>\n",
    "        </td>\n",
    "    </tr>\n",
    "</table>"
   ]
  },
  {
   "cell_type": "markdown",
   "id": "5268efde",
   "metadata": {},
   "source": [
    "Use the data available in the CSV file `Employee_Attrition.csv`."
   ]
  },
  {
   "cell_type": "code",
   "execution_count": 4,
   "id": "0d101f32",
   "metadata": {},
   "outputs": [],
   "source": [
    "# type solution here\n",
    "#H0: Business travel and gender of an employee are independent\n",
    "#H1: Business travel and gender of an employee are not independent."
   ]
  },
  {
   "cell_type": "code",
   "execution_count": 53,
   "id": "0407671d",
   "metadata": {},
   "outputs": [
    {
     "data": {
      "text/plain": [
       "array([[ 49, 101],\n",
       "       [117, 160],\n",
       "       [422, 621]], dtype=int64)"
      ]
     },
     "execution_count": 53,
     "metadata": {},
     "output_type": "execute_result"
    }
   ],
   "source": [
    " \n",
    "table = pd.crosstab(df_emp['BusinessTravel'], df_emp['Gender'])\n",
    "\n",
    "obs_val = table.values\n",
    "obs_val"
   ]
  },
  {
   "cell_type": "code",
   "execution_count": 54,
   "id": "1294a199",
   "metadata": {},
   "outputs": [
    {
     "name": "stdout",
     "output_type": "stream",
     "text": [
      "0.133\n"
     ]
    }
   ],
   "source": [
    "test_stat, p, dof, expected_value = chi2_contingency(observed = obs_val, correction = False)\n",
    "\n",
    "# use round function to round off the values\n",
    "p = round(p,3)\n",
    "print(p)\n",
    "\n",
    "#The above output shows that the p-value is greater than 0.1, \n",
    "#thus we fail to reject (i.e. accept) the null hypothesis and conclude that the business travel is independent of the gender of an employee."
   ]
  },
  {
   "cell_type": "markdown",
   "id": "25452fcb",
   "metadata": {},
   "source": [
    "<table align=\"left\">\n",
    "    <tr>\n",
    "        <td width=\"6%\">\n",
    "            <img src=\"question_icon.png\">\n",
    "        </td>\n",
    "        <td>\n",
    "            <div align=\"left\", style=\"font-size:120%\">\n",
    "                <font color=\"#21618C\">\n",
    "                    <b>11. A company produces leather belts on three different production lines. The number of defective belts produced by each line is recorded. Test if all the production lines produce on an average equal number of defective belts. Use the p-value technique to test at 5% level of significance.  </b>\n",
    "                </font>\n",
    "            </div>\n",
    "        </td>\n",
    "    </tr>\n",
    "</table>"
   ]
  },
  {
   "cell_type": "markdown",
   "id": "b442493e",
   "metadata": {},
   "source": [
    "Use the data given in the excel file defective_prod.xlsx"
   ]
  },
  {
   "cell_type": "code",
   "execution_count": 55,
   "id": "815a1862",
   "metadata": {},
   "outputs": [
    {
     "data": {
      "text/html": [
       "<div>\n",
       "<style scoped>\n",
       "    .dataframe tbody tr th:only-of-type {\n",
       "        vertical-align: middle;\n",
       "    }\n",
       "\n",
       "    .dataframe tbody tr th {\n",
       "        vertical-align: top;\n",
       "    }\n",
       "\n",
       "    .dataframe thead th {\n",
       "        text-align: right;\n",
       "    }\n",
       "</style>\n",
       "<table border=\"1\" class=\"dataframe\">\n",
       "  <thead>\n",
       "    <tr style=\"text-align: right;\">\n",
       "      <th></th>\n",
       "      <th>production_line</th>\n",
       "      <th>def_belts</th>\n",
       "    </tr>\n",
       "  </thead>\n",
       "  <tbody>\n",
       "    <tr>\n",
       "      <th>0</th>\n",
       "      <td>A</td>\n",
       "      <td>5.0</td>\n",
       "    </tr>\n",
       "    <tr>\n",
       "      <th>1</th>\n",
       "      <td>C</td>\n",
       "      <td>2.0</td>\n",
       "    </tr>\n",
       "    <tr>\n",
       "      <th>2</th>\n",
       "      <td>B</td>\n",
       "      <td>3.0</td>\n",
       "    </tr>\n",
       "    <tr>\n",
       "      <th>3</th>\n",
       "      <td>A</td>\n",
       "      <td>4.0</td>\n",
       "    </tr>\n",
       "    <tr>\n",
       "      <th>4</th>\n",
       "      <td>C</td>\n",
       "      <td>1.0</td>\n",
       "    </tr>\n",
       "  </tbody>\n",
       "</table>\n",
       "</div>"
      ],
      "text/plain": [
       "  production_line  def_belts\n",
       "0               A        5.0\n",
       "1               C        2.0\n",
       "2               B        3.0\n",
       "3               A        4.0\n",
       "4               C        1.0"
      ]
     },
     "execution_count": 55,
     "metadata": {},
     "output_type": "execute_result"
    }
   ],
   "source": [
    "# type solution here \n",
    "df_prod = pd.read_excel('defective_prod.xlsx')\n",
    "\n",
    "df_prod.head()"
   ]
  },
  {
   "cell_type": "code",
   "execution_count": null,
   "id": "6f103459",
   "metadata": {},
   "outputs": [],
   "source": [
    "#H0: The average of defective belts for all the production lines is same\n",
    "#H1: At least one production line has a different average of defective belts\n",
    "\n"
   ]
  },
  {
   "cell_type": "code",
   "execution_count": 56,
   "id": "6a62abce",
   "metadata": {},
   "outputs": [
    {
     "name": "stdout",
     "output_type": "stream",
     "text": [
      "0.00966864434111964\n"
     ]
    }
   ],
   "source": [
    "#normality\n",
    "stat, p_value = stats.shapiro(df_prod['def_belts'])\n",
    "print(p_val)"
   ]
  },
  {
   "cell_type": "code",
   "execution_count": 57,
   "id": "3a92ee9d",
   "metadata": {},
   "outputs": [
    {
     "name": "stdout",
     "output_type": "stream",
     "text": [
      "0.00966864434111964\n"
     ]
    }
   ],
   "source": [
    "#variability\n",
    "stat, p_value = stats.levene(df_prod[df_prod['production_line'] == 'A']['def_belts'], \n",
    "                             df_prod[df_prod['production_line'] == 'B']['def_belts'],\n",
    "                             df_prod[df_prod['production_line'] == 'C']['def_belts'])\n",
    "print(p_val)"
   ]
  },
  {
   "cell_type": "code",
   "execution_count": 58,
   "id": "7fcbef9a",
   "metadata": {},
   "outputs": [
    {
     "name": "stdout",
     "output_type": "stream",
     "text": [
      "0.44857788134106824\n"
     ]
    }
   ],
   "source": [
    "#one way anova\n",
    "f_test, p_val = stats.f_oneway(df_prod[df_prod['production_line'] == 'A']['def_belts'], \n",
    "                               df_prod[df_prod['production_line'] == 'B']['def_belts'],\n",
    "                               df_prod[df_prod['production_line'] == 'C']['def_belts'])\n",
    "print(p_val)"
   ]
  },
  {
   "cell_type": "code",
   "execution_count": null,
   "id": "8c9bdd79",
   "metadata": {},
   "outputs": [],
   "source": [
    "#The above output shows that, the p-value is greater than 0.05. Thus we fail to reject (i.e. accept) the null hypothesis and conclude that the average of defective belts produced on all the production lines is the same"
   ]
  },
  {
   "cell_type": "markdown",
   "id": "9e3d793d",
   "metadata": {},
   "source": [
    "<table align=\"left\">\n",
    "    <tr>\n",
    "        <td width=\"6%\">\n",
    "            <img src=\"question_icon.png\">\n",
    "        </td>\n",
    "        <td>\n",
    "            <div align=\"left\", style=\"font-size:120%\">\n",
    "                <font color=\"#21618C\">\n",
    "                    <b>12. Check whether we can use the given dataset to study the equality of average monthly income of sales executives with a different education background in the company. Use a p-value technique to test at a 1% level of significance.</b>\n",
    "                </font>\n",
    "            </div>\n",
    "        </td>\n",
    "    </tr>\n",
    "</table>"
   ]
  },
  {
   "cell_type": "markdown",
   "id": "6f9a148b",
   "metadata": {},
   "source": [
    "Use the data available in the CSV file `sales_emp.csv`."
   ]
  },
  {
   "cell_type": "code",
   "execution_count": 59,
   "id": "1446fb96",
   "metadata": {},
   "outputs": [
    {
     "data": {
      "text/html": [
       "<div>\n",
       "<style scoped>\n",
       "    .dataframe tbody tr th:only-of-type {\n",
       "        vertical-align: middle;\n",
       "    }\n",
       "\n",
       "    .dataframe tbody tr th {\n",
       "        vertical-align: top;\n",
       "    }\n",
       "\n",
       "    .dataframe thead th {\n",
       "        text-align: right;\n",
       "    }\n",
       "</style>\n",
       "<table border=\"1\" class=\"dataframe\">\n",
       "  <thead>\n",
       "    <tr style=\"text-align: right;\">\n",
       "      <th></th>\n",
       "      <th>Age</th>\n",
       "      <th>BusinessTravel</th>\n",
       "      <th>DailyRate</th>\n",
       "      <th>DistanceFromHome</th>\n",
       "      <th>Education</th>\n",
       "      <th>EducationField</th>\n",
       "      <th>EmployeeCount</th>\n",
       "      <th>EmployeeNumber</th>\n",
       "      <th>EnvironmentSatisfaction</th>\n",
       "      <th>HourlyRate</th>\n",
       "      <th>...</th>\n",
       "      <th>RelationshipSatisfaction</th>\n",
       "      <th>StandardHours</th>\n",
       "      <th>StockOptionLevel</th>\n",
       "      <th>TotalWorkingYears</th>\n",
       "      <th>TrainingTimesLastYear</th>\n",
       "      <th>WorkLifeBalance</th>\n",
       "      <th>YearsAtCompany</th>\n",
       "      <th>YearsInCurrentRole</th>\n",
       "      <th>YearsSinceLastPromotion</th>\n",
       "      <th>YearsWithCurrManager</th>\n",
       "    </tr>\n",
       "  </thead>\n",
       "  <tbody>\n",
       "    <tr>\n",
       "      <th>0</th>\n",
       "      <td>36</td>\n",
       "      <td>Travel_Rarely</td>\n",
       "      <td>1218</td>\n",
       "      <td>9</td>\n",
       "      <td>4</td>\n",
       "      <td>Life Sciences</td>\n",
       "      <td>1</td>\n",
       "      <td>27</td>\n",
       "      <td>3</td>\n",
       "      <td>82</td>\n",
       "      <td>...</td>\n",
       "      <td>2</td>\n",
       "      <td>80</td>\n",
       "      <td>0</td>\n",
       "      <td>10</td>\n",
       "      <td>4</td>\n",
       "      <td>3</td>\n",
       "      <td>5</td>\n",
       "      <td>3</td>\n",
       "      <td>0</td>\n",
       "      <td>3</td>\n",
       "    </tr>\n",
       "    <tr>\n",
       "      <th>1</th>\n",
       "      <td>39</td>\n",
       "      <td>Travel_Rarely</td>\n",
       "      <td>895</td>\n",
       "      <td>5</td>\n",
       "      <td>3</td>\n",
       "      <td>Technical Degree</td>\n",
       "      <td>1</td>\n",
       "      <td>42</td>\n",
       "      <td>4</td>\n",
       "      <td>56</td>\n",
       "      <td>...</td>\n",
       "      <td>3</td>\n",
       "      <td>80</td>\n",
       "      <td>1</td>\n",
       "      <td>19</td>\n",
       "      <td>6</td>\n",
       "      <td>4</td>\n",
       "      <td>1</td>\n",
       "      <td>0</td>\n",
       "      <td>0</td>\n",
       "      <td>0</td>\n",
       "    </tr>\n",
       "  </tbody>\n",
       "</table>\n",
       "<p>2 rows × 31 columns</p>\n",
       "</div>"
      ],
      "text/plain": [
       "   Age BusinessTravel  DailyRate  DistanceFromHome  Education  \\\n",
       "0   36  Travel_Rarely       1218                 9          4   \n",
       "1   39  Travel_Rarely        895                 5          3   \n",
       "\n",
       "     EducationField  EmployeeCount  EmployeeNumber  EnvironmentSatisfaction  \\\n",
       "0     Life Sciences              1              27                        3   \n",
       "1  Technical Degree              1              42                        4   \n",
       "\n",
       "   HourlyRate  ...  RelationshipSatisfaction  StandardHours  StockOptionLevel  \\\n",
       "0          82  ...                         2             80                 0   \n",
       "1          56  ...                         3             80                 1   \n",
       "\n",
       "  TotalWorkingYears  TrainingTimesLastYear  WorkLifeBalance  YearsAtCompany  \\\n",
       "0                10                      4                3               5   \n",
       "1                19                      6                4               1   \n",
       "\n",
       "  YearsInCurrentRole YearsSinceLastPromotion  YearsWithCurrManager  \n",
       "0                  3                       0                     3  \n",
       "1                  0                       0                     0  \n",
       "\n",
       "[2 rows x 31 columns]"
      ]
     },
     "execution_count": 59,
     "metadata": {},
     "output_type": "execute_result"
    }
   ],
   "source": [
    "# type solution here\n",
    "df_emp = pd.read_csv('sales_emp.csv')\n",
    "\n",
    "df_emp.head(2)"
   ]
  },
  {
   "cell_type": "code",
   "execution_count": 62,
   "id": "b7113f77",
   "metadata": {},
   "outputs": [
    {
     "name": "stdout",
     "output_type": "stream",
     "text": [
      "0.05732710659503937\n"
     ]
    }
   ],
   "source": [
    "#NORMALITY\n",
    "stat, p_value = stats.shapiro(df_emp['MonthlyIncome'])\n",
    "print(p_value)"
   ]
  },
  {
   "cell_type": "code",
   "execution_count": 63,
   "id": "e3ebf26d",
   "metadata": {},
   "outputs": [
    {
     "name": "stdout",
     "output_type": "stream",
     "text": [
      "0.23476859109336565\n"
     ]
    }
   ],
   "source": [
    "#variability\n",
    "stat, p_value = stats.levene(df_emp[df_emp['EducationField'] == 'Life Sciences']['MonthlyIncome'],\n",
    "                             df_emp[df_emp['EducationField'] == 'Technical Degree']['MonthlyIncome'],\n",
    "                             df_emp[df_emp['EducationField'] == 'Marketing']['MonthlyIncome'],\n",
    "                             df_emp[df_emp['EducationField'] == 'Medical']['MonthlyIncome'],\n",
    "                             df_emp[df_emp['EducationField'] == 'Other']['MonthlyIncome'])\n",
    "print(p_value)"
   ]
  },
  {
   "cell_type": "code",
   "execution_count": null,
   "id": "c9104030",
   "metadata": {},
   "outputs": [],
   "source": [
    "#From the above result, we can see that the p-value is greater than 0.01, thus we can say that the population variances are equal for all the groups.\n",
    "#Thus we can use the one-way ANOVA test to check the equality of average monthly income for all the education fields."
   ]
  },
  {
   "cell_type": "markdown",
   "id": "bda0b248",
   "metadata": {},
   "source": [
    " <table align=\"left\">\n",
    "    <tr>\n",
    "        <td width=\"6%\">\n",
    "            <img src=\"question_icon.png\">\n",
    "        </td>\n",
    "        <td>\n",
    "            <div align=\"left\", style=\"font-size:120%\">\n",
    "                <font color=\"#21618C\">\n",
    "                    <b>13. Use the sales employees' dataset to test whether the average monthly income of sales executives with different education background is equal or not. Use a critical value method with 99% confidence.</b>\n",
    "                </font>\n",
    "            </div>\n",
    "        </td>\n",
    "    </tr>\n",
    "</table>"
   ]
  },
  {
   "cell_type": "code",
   "execution_count": 64,
   "id": "8cef50c4",
   "metadata": {},
   "outputs": [
    {
     "name": "stdout",
     "output_type": "stream",
     "text": [
      "3.7283\n"
     ]
    }
   ],
   "source": [
    "# type solution here\n",
    "#critical value\n",
    "f_critical= np.abs(round(stats.f.isf(q = 0.01, dfn = 4, dfd = 49), 4))\n",
    "print(f_critical)\n",
    "\n",
    "#if the test statistic value is greater than 2.5611 then we reject the null hypothesis."
   ]
  },
  {
   "cell_type": "code",
   "execution_count": 65,
   "id": "f200be52",
   "metadata": {},
   "outputs": [
    {
     "name": "stdout",
     "output_type": "stream",
     "text": [
      "0.9546031924978221\n"
     ]
    }
   ],
   "source": [
    "#one way anova\n",
    "test_stat, p_val = stats.f_oneway(df_emp[df_emp['EducationField'] == 'Life Sciences']['MonthlyIncome'],\n",
    "                                  df_emp[df_emp['EducationField'] == 'Technical Degree']['MonthlyIncome'],\n",
    "                                  df_emp[df_emp['EducationField'] == 'Marketing']['MonthlyIncome'],\n",
    "                                  df_emp[df_emp['EducationField'] == 'Medical']['MonthlyIncome'],\n",
    "                                  df_emp[df_emp['EducationField'] == 'Other']['MonthlyIncome'])\n",
    "print(test_stat)\n"
   ]
  },
  {
   "cell_type": "code",
   "execution_count": null,
   "id": "0143f39b",
   "metadata": {},
   "outputs": [],
   "source": [
    "#The above output shows that the test statistic is less than 3.7283. Thus we fail to reject (i.e. accept) the null hypothesis and conclude that the average monthly income for all the education fields is the same."
   ]
  },
  {
   "cell_type": "markdown",
   "id": "03562936",
   "metadata": {},
   "source": [
    "<table align=\"left\">\n",
    "    <tr>\n",
    "        <td width=\"6%\">\n",
    "            <img src=\"question_icon.png\">\n",
    "        </td>\n",
    "        <td>\n",
    "            <div align=\"left\", style=\"font-size:120%\">\n",
    "                <font color=\"#21618C\">\n",
    "                    <b>14. The company wants to decide their advertisement strategies for their new smartwatch. The manager collects the advertising cost (in dollars) for four different mediums. Test if the company is spending on average an equal amount on all the advertising mediums using a critical value approach with 99% confidence.</b>\n",
    "                </font>\n",
    "            </div>\n",
    "        </td>\n",
    "    </tr>\n",
    "</table>"
   ]
  },
  {
   "cell_type": "markdown",
   "id": "7f0e00af",
   "metadata": {},
   "source": [
    "Use the data given in the excel file `ad_cost.xlsx`"
   ]
  },
  {
   "cell_type": "code",
   "execution_count": 66,
   "id": "03b61d9c",
   "metadata": {},
   "outputs": [
    {
     "data": {
      "text/html": [
       "<div>\n",
       "<style scoped>\n",
       "    .dataframe tbody tr th:only-of-type {\n",
       "        vertical-align: middle;\n",
       "    }\n",
       "\n",
       "    .dataframe tbody tr th {\n",
       "        vertical-align: top;\n",
       "    }\n",
       "\n",
       "    .dataframe thead th {\n",
       "        text-align: right;\n",
       "    }\n",
       "</style>\n",
       "<table border=\"1\" class=\"dataframe\">\n",
       "  <thead>\n",
       "    <tr style=\"text-align: right;\">\n",
       "      <th></th>\n",
       "      <th>medium</th>\n",
       "      <th>cost</th>\n",
       "    </tr>\n",
       "  </thead>\n",
       "  <tbody>\n",
       "    <tr>\n",
       "      <th>0</th>\n",
       "      <td>Snapmart</td>\n",
       "      <td>252.0</td>\n",
       "    </tr>\n",
       "    <tr>\n",
       "      <th>1</th>\n",
       "      <td>Picbook</td>\n",
       "      <td>378.0</td>\n",
       "    </tr>\n",
       "    <tr>\n",
       "      <th>2</th>\n",
       "      <td>Funsta</td>\n",
       "      <td>312.0</td>\n",
       "    </tr>\n",
       "    <tr>\n",
       "      <th>3</th>\n",
       "      <td>Klicker</td>\n",
       "      <td>297.0</td>\n",
       "    </tr>\n",
       "    <tr>\n",
       "      <th>4</th>\n",
       "      <td>Picbook</td>\n",
       "      <td>361.0</td>\n",
       "    </tr>\n",
       "  </tbody>\n",
       "</table>\n",
       "</div>"
      ],
      "text/plain": [
       "     medium   cost\n",
       "0  Snapmart  252.0\n",
       "1   Picbook  378.0\n",
       "2    Funsta  312.0\n",
       "3   Klicker  297.0\n",
       "4   Picbook  361.0"
      ]
     },
     "execution_count": 66,
     "metadata": {},
     "output_type": "execute_result"
    }
   ],
   "source": [
    "# type solution here\n",
    "df_cost = pd.read_excel('ad_cost.xlsx')\n",
    "df_cost.head()"
   ]
  },
  {
   "cell_type": "code",
   "execution_count": null,
   "id": "d395962b",
   "metadata": {},
   "outputs": [],
   "source": [
    "#H0: The average count for all the advertising mediums is same\n",
    "#H1: At least one advertising medium has a different average cost"
   ]
  },
  {
   "cell_type": "code",
   "execution_count": null,
   "id": "edb1fee6",
   "metadata": {},
   "outputs": [],
   "source": [
    "#normslity\n",
    "stat, p_value = stats.shapiro(df_cost['cost'])\n",
    "print(p_value)"
   ]
  },
  {
   "cell_type": "code",
   "execution_count": 67,
   "id": "91ff5ecc",
   "metadata": {},
   "outputs": [
    {
     "name": "stdout",
     "output_type": "stream",
     "text": [
      "0.7230913376085835\n"
     ]
    }
   ],
   "source": [
    "#variability\n",
    "stat, p_value = stats.levene(df_cost[df_cost['medium'] == 'Snapmart']['cost'], \n",
    "                             df_cost[df_cost['medium'] == 'Picbook']['cost'],\n",
    "                             df_cost[df_cost['medium'] == 'Funsta']['cost'],\n",
    "                             df_cost[df_cost['medium'] == 'Klicker']['cost'])\n",
    "print(p_value)"
   ]
  },
  {
   "cell_type": "code",
   "execution_count": null,
   "id": "16b8c3c1",
   "metadata": {},
   "outputs": [],
   "source": [
    "#From the above result, we can see that the p-value is greater than 0.05, \n",
    "#thus we can say that the population variances are equal for all the samples.\n"
   ]
  },
  {
   "cell_type": "code",
   "execution_count": 68,
   "id": "962d103e",
   "metadata": {},
   "outputs": [
    {
     "name": "stdout",
     "output_type": "stream",
     "text": [
      "0.001230153853232096\n"
     ]
    }
   ],
   "source": [
    "f_test, p_val = stats.f_oneway(df_cost[df_cost['medium'] == 'Snapmart']['cost'], \n",
    "                               df_cost[df_cost['medium'] == 'Picbook']['cost'],\n",
    "                               df_cost[df_cost['medium'] == 'Funsta']['cost'],\n",
    "                               df_cost[df_cost['medium'] == 'Klicker']['cost'])\n",
    "print(p_val)"
   ]
  },
  {
   "cell_type": "code",
   "execution_count": null,
   "id": "5bff253c",
   "metadata": {},
   "outputs": [],
   "source": [
    "#The above output shows that the test statistic is greater than 7.591. \n",
    "#Thus we reject the null hypothesis and conclude that the average cost for at least one advertising medium is different."
   ]
  },
  {
   "cell_type": "markdown",
   "id": "85c44f03",
   "metadata": {},
   "source": [
    "<table align=\"left\">\n",
    "    <tr>\n",
    "        <td width=\"6%\">\n",
    "            <img src=\"question_icon.png\">\n",
    "        </td>\n",
    "        <td>\n",
    "            <div align=\"left\", style=\"font-size:120%\">\n",
    "                <font color=\"#21618C\">\n",
    "                    <b>15. If the null hypothesis is rejected in the above test find which medium's advertisting cost is significantly different.</b>\n",
    "                </font>\n",
    "            </div>\n",
    "        </td>\n",
    "    </tr>\n",
    "</table>"
   ]
  },
  {
   "cell_type": "code",
   "execution_count": 69,
   "id": "71665459",
   "metadata": {},
   "outputs": [
    {
     "data": {
      "text/html": [
       "<table class=\"simpletable\">\n",
       "<caption>Multiple Comparison of Means - Tukey HSD, FWER=0.01</caption>\n",
       "<tr>\n",
       "  <th>group1</th>   <th>group2</th>  <th>meandiff</th>   <th>p-adj</th>   <th>lower</th>     <th>upper</th>  <th>reject</th>\n",
       "</tr>\n",
       "<tr>\n",
       "  <td>Funsta</td>   <td>Klicker</td>   <td>-1.0</td>    <td>0.9999</td> <td>-70.3687</td>   <td>68.3687</td>  <td>False</td>\n",
       "</tr>\n",
       "<tr>\n",
       "  <td>Funsta</td>   <td>Picbook</td>  <td>41.6667</td>  <td>0.1113</td>  <td>-27.702</td>  <td>111.0354</td>  <td>False</td>\n",
       "</tr>\n",
       "<tr>\n",
       "  <td>Funsta</td>  <td>Snapmart</td>   <td>-63.0</td>    <td>0.017</td> <td>-132.3687</td>  <td>6.3687</td>   <td>False</td>\n",
       "</tr>\n",
       "<tr>\n",
       "  <td>Klicker</td>  <td>Picbook</td>  <td>42.6667</td>  <td>0.1018</td>  <td>-26.702</td>  <td>112.0354</td>  <td>False</td>\n",
       "</tr>\n",
       "<tr>\n",
       "  <td>Klicker</td> <td>Snapmart</td>   <td>-62.0</td>   <td>0.0185</td> <td>-131.3687</td>  <td>7.3687</td>   <td>False</td>\n",
       "</tr>\n",
       "<tr>\n",
       "  <td>Picbook</td> <td>Snapmart</td> <td>-104.6667</td> <td>0.0008</td> <td>-174.0354</td>  <td>-35.298</td>  <td>True</td> \n",
       "</tr>\n",
       "</table>"
      ],
      "text/plain": [
       "<class 'statsmodels.iolib.table.SimpleTable'>"
      ]
     },
     "execution_count": 69,
     "metadata": {},
     "output_type": "execute_result"
    }
   ],
   "source": [
    "# type solution here\n",
    "comp = mc.MultiComparison(data = df_cost['cost'], groups = df_cost['medium'])\n",
    "post_hoc = comp.tukeyhsd(alpha = 0.01)\n",
    "post_hoc.summary()"
   ]
  }
 ],
 "metadata": {
  "kernelspec": {
   "display_name": "Python 3 (ipykernel)",
   "language": "python",
   "name": "python3"
  },
  "language_info": {
   "codemirror_mode": {
    "name": "ipython",
    "version": 3
   },
   "file_extension": ".py",
   "mimetype": "text/x-python",
   "name": "python",
   "nbconvert_exporter": "python",
   "pygments_lexer": "ipython3",
   "version": "3.9.12"
  }
 },
 "nbformat": 4,
 "nbformat_minor": 5
}
